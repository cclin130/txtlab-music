{
 "cells": [
  {
   "cell_type": "code",
   "execution_count": 2,
   "metadata": {},
   "outputs": [],
   "source": [
    "import pandas as pd\n",
    "import os\n",
    "import re\n",
    "import string\n",
    "import numpy as np"
   ]
  },
  {
   "cell_type": "markdown",
   "metadata": {},
   "source": [
    "### Reading data"
   ]
  },
  {
   "cell_type": "code",
   "execution_count": 3,
   "metadata": {},
   "outputs": [],
   "source": [
    "# billboard \n",
    "all_entries = []\n",
    "\n",
    "for file in os.listdir('../billboard_data'):\n",
    "    file_path = '../billboard_data/' + file\n",
    "    if file == 'sc': continue # add this to chengs notebook\n",
    "    df_temp = pd.read_csv(file_path)\n",
    "    all_entries.append(df_temp)\n",
    "    \n",
    "df_all = pd.concat(all_entries)\n",
    "df_all = df_all.iloc[:, 1:]"
   ]
  },
  {
   "cell_type": "code",
   "execution_count": 4,
   "metadata": {},
   "outputs": [],
   "source": [
    "# labels\n",
    "all_entries = []\n",
    "\n",
    "for file in os.listdir('../billboard_data/sc/'):\n",
    "    file_path = '../billboard_data/sc/' + file\n",
    "    df_temp = pd.read_csv(file_path) \n",
    "    all_entries.append(df_temp)\n",
    "    \n",
    "df_all_sc = pd.concat(all_entries)\n",
    "df_all_sc = df_all_sc.loc[:, ~df_all_sc.columns.str.contains('^Unnamed')]"
   ]
  },
  {
   "cell_type": "markdown",
   "metadata": {},
   "source": [
    "### Cleaning data"
   ]
  },
  {
   "cell_type": "code",
   "execution_count": 5,
   "metadata": {},
   "outputs": [],
   "source": [
    "# some songs are tagged to multiple labels: we'll count these as different label appearances\n",
    "tracks = []\n",
    "for i in range(0, len(df_all_sc)):\n",
    "    for label in df_all_sc.iloc[i,4].split('/'):\n",
    "        lst = list(df_all_sc.iloc[i,0:4])\n",
    "        lst.append(label)\n",
    "        tracks.append(lst)\n",
    "\n",
    "df_all_sc = pd.DataFrame(tracks, columns=df_all_sc.columns)\n"
   ]
  },
  {
   "cell_type": "code",
   "execution_count": 6,
   "metadata": {},
   "outputs": [],
   "source": [
    "# removing 4,5, or 6 digit numbers (all different, even if same label) at end of some strings \n",
    "clean_labels = []\n",
    "for label in df_all_sc['label']:\n",
    "    label = re.sub('&amp;', \"&\", label)\n",
    "    \n",
    "    # remove digits\n",
    "    new_label = ''.join([i for i in label if not i.isdigit()])\n",
    "    \n",
    "    # if the label was just digits; its the name of the label \n",
    "    if len(new_label) == 0:\n",
    "        new_label = label \n",
    "    \n",
    "    # digits at begining of label are also part of the name \n",
    "    if new_label[0] == ' ': #or new_label[0] == '/':\n",
    "        # put first digits back\n",
    "        new_label = label.partition(' ')[0] + new_label\n",
    "    \n",
    "    # clean space at end\n",
    "    if new_label[-1] == ' ':\n",
    "        new_label = new_label[0:-1]\n",
    "     \n",
    "    clean_labels.append(new_label)\n",
    "    \n",
    "df_all_sc['label'] = clean_labels"
   ]
  },
  {
   "cell_type": "code",
   "execution_count": 7,
   "metadata": {},
   "outputs": [],
   "source": [
    "# different punctuation from billboard charts\n",
    "clean_tracks = []\n",
    "for track in df_all_sc['track']:\n",
    "    track = re.sub(\"‘\",\"'\", track)\n",
    "    track = re.sub('&amp;', \"&\", track)\n",
    "    clean_tracks.append(track)\n",
    "    \n",
    "df_all_sc['track'] = clean_tracks"
   ]
  },
  {
   "cell_type": "code",
   "execution_count": 8,
   "metadata": {},
   "outputs": [],
   "source": [
    "# function to clean list of tracks such that they match each other\n",
    "def clean_tracks(tracks):\n",
    "    clean_tracks = []\n",
    "    for track in tracks:\n",
    "        track = track.lower()\n",
    "        # remove parentheticals\n",
    "        track = re.sub(r'\\([^)]*\\)', '', track)\n",
    "        # remove \"part ....\"\n",
    "        part = track.partition(\"part\")\n",
    "        if part[0] == '':\n",
    "            pass\n",
    "        else:\n",
    "            track = part[0]\n",
    "        if track[-1] == ' ':\n",
    "            track = track[0:-1]\n",
    "        # replace '&' with 'and'\n",
    "        track = track.replace(\"&\", 'and')\n",
    "        # remove punctuation\n",
    "        track = track.replace(\"’\", \"\")\n",
    "        track = track.replace(\"…\", \"\")\n",
    "        clean_tracks.append(track.translate(str.maketrans('', '', string.punctuation)))\n",
    "        \n",
    "    return clean_tracks"
   ]
  },
  {
   "cell_type": "code",
   "execution_count": 9,
   "metadata": {},
   "outputs": [],
   "source": [
    "clean_bb_tracks = clean_tracks(df_all['track'])\n",
    "df_all['track'] = clean_bb_tracks"
   ]
  },
  {
   "cell_type": "code",
   "execution_count": 10,
   "metadata": {},
   "outputs": [],
   "source": [
    "clean_sc_tracks = clean_tracks(list(df_all_sc['track']))\n",
    "df_all_sc['track'] = clean_sc_tracks"
   ]
  },
  {
   "cell_type": "markdown",
   "metadata": {},
   "source": [
    "### Pairing tracks with labels"
   ]
  },
  {
   "cell_type": "code",
   "execution_count": 11,
   "metadata": {},
   "outputs": [],
   "source": [
    "labels = []\n",
    "missing_tracks = []\n",
    "for track in df_all['track']:\n",
    "    if track not in df_all_sc['track'].unique():\n",
    "        missing_tracks.append(track)\n",
    "    else:\n",
    "        # tracks associated to multiple labels get multiple \"appearances\" for the purposes of this count\n",
    "        # i.e. both labels will be counted\n",
    "        label_list = list(df_all_sc[df_all_sc['track'] == track]['label'])\n",
    "        for i in range(0, len(label_list)):\n",
    "            labels.append([track, label_list[i]])"
   ]
  },
  {
   "cell_type": "code",
   "execution_count": 12,
   "metadata": {},
   "outputs": [],
   "source": [
    "df = pd.DataFrame(labels, columns=['track','label'])"
   ]
  },
  {
   "cell_type": "code",
   "execution_count": 13,
   "metadata": {},
   "outputs": [
    {
     "name": "stdout",
     "output_type": "stream",
     "text": [
      "161 tracks missing\n"
     ]
    }
   ],
   "source": [
    "print(len(missing_tracks), \"tracks missing\")"
   ]
  },
  {
   "cell_type": "code",
   "execution_count": 14,
   "metadata": {},
   "outputs": [],
   "source": [
    "missing_tracks_series = pd.Series(missing_tracks)"
   ]
  },
  {
   "cell_type": "code",
   "execution_count": 15,
   "metadata": {},
   "outputs": [
    {
     "name": "stdout",
     "output_type": "stream",
     "text": [
      "17 unique\n"
     ]
    }
   ],
   "source": [
    "print(len(missing_tracks_series.unique()),\"unique\" )"
   ]
  },
  {
   "cell_type": "markdown",
   "metadata": {},
   "source": [
    "Only 17 unique missing tracks, we can fill the corresponding labels manually."
   ]
  },
  {
   "cell_type": "code",
   "execution_count": 36,
   "metadata": {
    "scrolled": true
   },
   "outputs": [
    {
     "name": "stdout",
     "output_type": "stream",
     "text": [
      "numbencore      release_date  peak             artist         track        label\n",
      "2647       Nov 27  20.0  Jay-Z/Linkin Park  numb  encore  Roc-A-Fella\n",
      "Roc-A-Fella\n",
      "honkytonk u      release_date  peak      artist                               track  \\\n",
      "31         Jan 26  88.0  Toby Keith                     get my drink on   \n",
      "97         Mar 22  71.0  Toby Keith                       shes a hottie   \n",
      "269        Jul 26  42.0  Toby Keith      she never cried in front of me   \n",
      "471         Dec 6  36.0  Toby Keith                        god love her   \n",
      "653        Jun 16  27.0  Toby Keith        im just talkin about tonight   \n",
      "755        Oct 13  28.0  Toby Keith               i wanna talk about me   \n",
      "864        Feb 16  26.0  Toby Keith                             my list   \n",
      "978         Jun 8  25.0  Toby Keith  courtesy of the red white and blue   \n",
      "1075        Oct 5  22.0  Toby Keith                     whos your daddy   \n",
      "1237       Mar 15  66.0  Toby Keith                       rock you baby   \n",
      "1406        Sep 6  26.0  Toby Keith                     i love this bar   \n",
      "1498       Dec 27  28.0  Toby Keith                    american soldier   \n",
      "1568        Mar 3  67.0  Toby Keith              high maintenance woman   \n",
      "1771       Aug 11  48.0  Toby Keith                  love me if you can   \n",
      "1936       Jan 21  47.0  Toby Keith           get drunk and be somebody   \n",
      "2089        Jun 3  53.0  Toby Keith                   a little too late   \n",
      "2282       Nov 18  96.0  Toby Keith                  crash here tonight   \n",
      "2442        May 1  31.0  Toby Keith                        whiskey girl   \n",
      "2555       Aug 28  51.0  Toby Keith                     stays in mexico   \n",
      "2743       Feb 26  61.0  Toby Keith                        honky tonk u   \n",
      "2848        Jun 4  28.0  Toby Keith               as good as i once was   \n",
      "2992       Oct 15  55.0  Toby Keith                       big blue note   \n",
      "\n",
      "                                label  \n",
      "31         Show Dog Nashville Digital  \n",
      "97         Show Dog Nashville Digital  \n",
      "269        Show Dog Nashville Digital  \n",
      "471        Show Dog Nashville Digital  \n",
      "653   DreamWorks Album Cut DreamWorks  \n",
      "755   DreamWorks Album Cut DreamWorks  \n",
      "864              DreamWorks Album Cut  \n",
      "978              DreamWorks Album Cut  \n",
      "1075             DreamWorks Album Cut  \n",
      "1237             DreamWorks Album Cut  \n",
      "1406             DreamWorks Album Cut  \n",
      "1498             DreamWorks Album Cut  \n",
      "1568               Show Dog Nashville  \n",
      "1771       Show Dog Nashville Digital  \n",
      "1936               Show Dog Nashville  \n",
      "2089       Show Dog Nashville Digital  \n",
      "2282       Show Dog Nashville Digital  \n",
      "2442             DreamWorks Album Cut  \n",
      "2555             DreamWorks Album Cut  \n",
      "2743                       DreamWorks  \n",
      "2848                       DreamWorks  \n",
      "2992                       DreamWorks  \n",
      "DreamWorks\n",
      "just got started lovin you    release_date  peak      artist                        track  \\\n",
      "80        Mar 8  27.0  James Otto  just got started loving you   \n",
      "\n",
      "                   label  \n",
      "80  Warner Bros. Digital  \n",
      "Warner Bros. Digital\n",
      "never leave you  uh ooh uh oooh      release_date  peak   artist                              track      label\n",
      "1315       May 31   3.0  Lumidee  never leave you – uh oooh uh oooh  Universal\n",
      "Universal\n",
      "999 sure      release_date  peak         artist      track                   label\n",
      "1353       Jul 12  57.0  Brian McComas  999x sure  Lyric Street Album Cut\n",
      "Lyric Street Album Cut\n",
      "cop that sh Empty DataFrame\n",
      "Columns: [release_date, peak, artist, track, label]\n",
      "Index: []\n",
      "N/A\n",
      "whatever u want      release_date   peak                                 artist  \\\n",
      "2594        Oct 9  100.0  Christina Milian Featuring Joe Budden   \n",
      "\n",
      "                  track   label  \n",
      "2594  whatever you want  Island  \n",
      "Island\n",
      "keeps gettin better      release_date  peak              artist                 track  \\\n",
      "378        Oct 18   7.0  Christina Aguilera  keeps getting better   \n",
      "1129       Nov 23   2.0  Christina Aguilera             beautiful   \n",
      "1268       Apr 12  20.0  Christina Aguilera               fighter   \n",
      "1473       Nov 29  33.0  Christina Aguilera      the voice within   \n",
      "1511       Jan 20  25.0  Christina Aguilera              candyman   \n",
      "2109       Jun 24   6.0  Christina Aguilera     aint no other man   \n",
      "2242       Oct 14  19.0  Christina Aguilera                  hurt   \n",
      "\n",
      "              label  \n",
      "378     RCA Digital  \n",
      "1129            RCA  \n",
      "1268  RCA Album Cut  \n",
      "1473  RCA Album Cut  \n",
      "1511    RCA Digital  \n",
      "2109            RCA  \n",
      "2242            RCA  \n",
      "RCA Digital\n",
      "citizensoldier      release_date  peak        artist              track  \\\n",
      "14         Jan 12  96.0  3 Doors Down    citizen soldier   \n",
      "79          Mar 8  17.0  3 Doors Down    its not my time   \n",
      "691        Jul 28  24.0  3 Doors Down       be like that   \n",
      "1130       Nov 23   4.0  3 Doors Down       when im gone   \n",
      "1131       Nov 23   4.0  3 Doors Down       when im gone   \n",
      "1398       Aug 30   5.0  3 Doors Down   here without you   \n",
      "2506        Jul 3  62.0  3 Doors Down  away from the sun   \n",
      "2702        Feb 5  14.0  3 Doors Down          let me go   \n",
      "\n",
      "                                  label  \n",
      "14           Universal Republic Digital  \n",
      "79           Universal Republic Digital  \n",
      "691   Republic Soundtrack Cut Universal  \n",
      "1130                           Republic  \n",
      "1131                Universal Album Cut  \n",
      "1398       Republic Universal Album Cut  \n",
      "2506                 Republic Album Cut  \n",
      "2702                 Republic Album Cut  \n",
      "Universal Republic Digital\n",
      "mjb da mvp Empty DataFrame\n",
      "Columns: [release_date, peak, artist, track, label]\n",
      "Index: []\n",
      "N/A\n",
      "and i am telling you im not going      release_date  peak           artist                            track  \\\n",
      "285         Aug 9  24.0  Jennifer Hudson                        spotlight   \n",
      "1506       Jan 13  60.0  Jennifer Hudson  and im telling you im not going   \n",
      "\n",
      "                    label  \n",
      "285                Arista  \n",
      "1506  Music World Digital  \n",
      "Music World Digital\n",
      "lights and sounds      release_date  peak      artist             track              label\n",
      "1951        Feb 4  50.0  Yellowcard  lights and sound    Capitol Digital\n",
      "2460       May 15  37.0  Yellowcard      ocean avenue  Capitol Album Cut\n",
      "Capitol Digital\n",
      "if its lovin that you want      release_date  peak   artist                  track            label\n",
      "130        Apr 26   1.0  Rihanna             take a bow              SRP\n",
      "131        Apr 26   1.0  Rihanna             take a bow  Def Jam Digital\n",
      "241         Jul 5   1.0  Rihanna              disturbia              SRP\n",
      "242         Jul 5   1.0  Rihanna              disturbia  Def Jam Digital\n",
      "439        Nov 22  18.0  Rihanna                  rehab              SRP\n",
      "440        Nov 22  18.0  Rihanna                  rehab  Def Jam Digital\n",
      "1720       Jun 23  15.0  Rihanna      shut up and drive              SRP\n",
      "1721       Jun 23  15.0  Rihanna      shut up and drive  Def Jam Digital\n",
      "1893        Dec 8   3.0  Rihanna    dont stop the music              SRP\n",
      "1894        Dec 8   3.0  Rihanna    dont stop the music  Def Jam Digital\n",
      "1969       Feb 25   1.0  Rihanna                    sos              SRP\n",
      "1970       Feb 25   1.0  Rihanna                    sos          Def Jam\n",
      "2065       May 13   6.0  Rihanna             unfaithful              SRP\n",
      "2066       May 13   6.0  Rihanna             unfaithful  Def Jam Digital\n",
      "2855       Jun 11   2.0  Rihanna          pon de replay              SRP\n",
      "2856       Jun 11   2.0  Rihanna          pon de replay          Def Jam\n",
      "2999       Oct 22  36.0  Rihanna  if its lovin you want              SRP\n",
      "3000       Oct 22  36.0  Rihanna  if its lovin you want          Def Jam\n",
      "SRP/Def Jam\n",
      "wanna be startin somethin 2008 Empty DataFrame\n",
      "Columns: [release_date, peak, artist, track, label]\n",
      "Index: []\n",
      "NA\n",
      "pycat Empty DataFrame\n",
      "Columns: [release_date, peak, artist, track, label]\n",
      "Index: []\n",
      "NA\n",
      "last of a dying breed     release_date  peak                          artist                  track  \\\n",
      "486       Dec 13  65.0  Ludacris Co-Starring Lil Wayne  last of a dying bread   \n",
      "487       Dec 13  65.0  Ludacris Co-Starring Lil Wayne  last of a dying bread   \n",
      "\n",
      "               label  \n",
      "486              DTP  \n",
      "487  Def Jam Digital  \n",
      "DTP/Def Jam Digital\n",
      "mighty o      release_date   peak   artist              track           label\n",
      "557         Mar 3   30.0  OutKast  so fresh so clean          LaFace\n",
      "1433       Oct 18    1.0  OutKast             hey ya          Arista\n",
      "2113       Jun 24   77.0  OutKast         mighty “o”  LaFace Digital\n",
      "2211       Sep 16  100.0  OutKast      idlewild blue  LaFace Digital\n",
      "2395       Mar 13    9.0  OutKast              roses          LaFace\n"
     ]
    },
    {
     "name": "stdout",
     "output_type": "stream",
     "text": [
      "LaFace Digital\n"
     ]
    }
   ],
   "source": [
    "tracks_and_labels = []\n",
    "for track in missing_tracks_series.unique():\n",
    "    print(track, df_all_sc[df_all_sc['artist'] == list(df_all[df_all['track']==track]['artist'])[0]])\n",
    "    label = input()\n",
    "    tracks_and_labels.append([track, label])"
   ]
  },
  {
   "cell_type": "code",
   "execution_count": 16,
   "metadata": {},
   "outputs": [],
   "source": [
    "# missing tracks with label (from sc dataset)\n",
    "tracks_and_labels = [['numbencore', 'Roc-A-Fella'],\n",
    " ['honkytonk u', 'DreamWorks'],\n",
    " ['just got started lovin you', 'Warner Bros. Digital'],\n",
    " ['never leave you  uh ooh uh oooh', 'Universal'],\n",
    " ['999 sure', 'Lyric Street Album Cut'],\n",
    " ['cop that sh', 'NA'],\n",
    " ['whatever u want', 'Island'],\n",
    " ['keeps gettin better', 'RCA Digital'],\n",
    " ['citizensoldier', 'Universal Republic Digital'],\n",
    " ['mjb da mvp', 'NA'],\n",
    " ['and i am telling you im not going', 'Music World Digital'],\n",
    " ['lights and sounds', 'Capitol Digital'],\n",
    " ['if its lovin that you want', 'SRP/Def Jam'],\n",
    " ['wanna be startin somethin 2008', 'NA'],\n",
    " ['pycat', 'NA'],\n",
    " ['last of a dying breed', 'DTP/Def Jam Digital'],\n",
    " ['mighty o', 'LaFace Digital']]"
   ]
  },
  {
   "cell_type": "code",
   "execution_count": 17,
   "metadata": {},
   "outputs": [],
   "source": [
    "missing_tracks_df = pd.DataFrame(missing_tracks, columns=['track'])"
   ]
  },
  {
   "cell_type": "code",
   "execution_count": 18,
   "metadata": {},
   "outputs": [],
   "source": [
    "extra = []\n",
    "for t in tracks_and_labels:\n",
    "    if t[1] == 'NA':\n",
    "        continue\n",
    "    # multiple labels\n",
    "    elif t[1].partition('/')[1] == '/':\n",
    "        for i in range(0, len(missing_tracks_df[missing_tracks_df['track']==t[0]])):\n",
    "            extra.append([t[0], t[1].partition('/')[0]])\n",
    "            extra.append([t[0], t[1].partition('/')[2]])\n",
    "    else:\n",
    "        for i in range(0, len(missing_tracks_df[missing_tracks_df['track']==t[0]])):\n",
    "            extra.append([t[0], t[1]])"
   ]
  },
  {
   "cell_type": "code",
   "execution_count": 19,
   "metadata": {},
   "outputs": [],
   "source": [
    "extra_df = pd.DataFrame(extra, columns=['track','label'])\n",
    "df = df.append(extra_df)"
   ]
  },
  {
   "cell_type": "code",
   "execution_count": 20,
   "metadata": {},
   "outputs": [],
   "source": [
    "def get_label_count(tracks):\n",
    "    label_dict = {}\n",
    "    for i in range(0,len(tracks)):\n",
    "        label = tracks.iloc[i,1]\n",
    "        if label is np.nan: \n",
    "            continue\n",
    "        labels = label.split('/')\n",
    "        for label in labels:\n",
    "            label_dict[label] = label_dict.get(label, 0) + 1\n",
    "\n",
    "    labels_unique = pd.DataFrame.from_dict(label_dict, orient = 'index').reset_index()\n",
    "    labels_unique.columns = ['label', 'count']\n",
    "    \n",
    "    return labels_unique"
   ]
  },
  {
   "cell_type": "code",
   "execution_count": 21,
   "metadata": {},
   "outputs": [],
   "source": [
    "label_counts = get_label_count(df).sort_values(by='count', ascending=False)"
   ]
  },
  {
   "cell_type": "markdown",
   "metadata": {},
   "source": [
    "In this case, a distinction is made between a record label and a record label's digital distributor. Since no such distinction is made in our chartmetric data. Therefore, we have chosen to combine all \"x digital\" to \"x\", as well as \"x album cut\" to \"x\". e.g. Columbia Digital --> Columbia"
   ]
  },
  {
   "cell_type": "code",
   "execution_count": 22,
   "metadata": {},
   "outputs": [],
   "source": [
    "# combining \"*label* digital\" with \"*label*\"\n",
    "label_dict = {}\n",
    "for i in range(0,len(label_counts)):\n",
    "    label = label_counts.iloc[i,0]\n",
    "    label = label.partition(' Digital')[0]\n",
    "    label = label.partition(' Album Cut')[0]\n",
    "    count = label_counts.iloc[i,1]\n",
    "    label_dict[label] = label_dict.get(label, 0) + count\n",
    "\n",
    "labels = pd.DataFrame.from_dict(label_dict, orient = 'index').reset_index()\n",
    "labels.columns = ['label', 'count']"
   ]
  },
  {
   "cell_type": "code",
   "execution_count": 23,
   "metadata": {},
   "outputs": [],
   "source": [
    "sorted_labels = labels.sort_values(by='count', ascending=False)"
   ]
  },
  {
   "cell_type": "code",
   "execution_count": 24,
   "metadata": {},
   "outputs": [
    {
     "data": {
      "text/html": [
       "<div>\n",
       "<style scoped>\n",
       "    .dataframe tbody tr th:only-of-type {\n",
       "        vertical-align: middle;\n",
       "    }\n",
       "\n",
       "    .dataframe tbody tr th {\n",
       "        vertical-align: top;\n",
       "    }\n",
       "\n",
       "    .dataframe thead th {\n",
       "        text-align: right;\n",
       "    }\n",
       "</style>\n",
       "<table border=\"1\" class=\"dataframe\">\n",
       "  <thead>\n",
       "    <tr style=\"text-align: right;\">\n",
       "      <th></th>\n",
       "      <th>label</th>\n",
       "      <th>count</th>\n",
       "    </tr>\n",
       "  </thead>\n",
       "  <tbody>\n",
       "    <tr>\n",
       "      <th>2</th>\n",
       "      <td>Jive</td>\n",
       "      <td>1709</td>\n",
       "    </tr>\n",
       "    <tr>\n",
       "      <th>1</th>\n",
       "      <td>Columbia</td>\n",
       "      <td>1663</td>\n",
       "    </tr>\n",
       "    <tr>\n",
       "      <th>0</th>\n",
       "      <td>Def Jam</td>\n",
       "      <td>1653</td>\n",
       "    </tr>\n",
       "    <tr>\n",
       "      <th>3</th>\n",
       "      <td>RCA</td>\n",
       "      <td>1390</td>\n",
       "    </tr>\n",
       "    <tr>\n",
       "      <th>10</th>\n",
       "      <td>Epic</td>\n",
       "      <td>1052</td>\n",
       "    </tr>\n",
       "  </tbody>\n",
       "</table>\n",
       "</div>"
      ],
      "text/plain": [
       "       label  count\n",
       "2       Jive   1709\n",
       "1   Columbia   1663\n",
       "0    Def Jam   1653\n",
       "3        RCA   1390\n",
       "10      Epic   1052"
      ]
     },
     "execution_count": 24,
     "metadata": {},
     "output_type": "execute_result"
    }
   ],
   "source": [
    "sorted_labels.head(5)"
   ]
  },
  {
   "cell_type": "markdown",
   "metadata": {},
   "source": [
    "-----\n",
    "## Gini coeff. and CR2"
   ]
  },
  {
   "cell_type": "code",
   "execution_count": 25,
   "metadata": {},
   "outputs": [],
   "source": [
    "def gini(array):\n",
    "    \"\"\"Calculate the Gini coefficient of a numpy array.\"\"\"\n",
    "    # based on bottom eq:\n",
    "    # http://www.statsdirect.com/help/generatedimages/equations/equation154.svg\n",
    "    # from:\n",
    "    # http://www.statsdirect.com/help/default.htm#nonparametric_methods/gini.htm\n",
    "    # Values must be sorted:\n",
    "    array = np.sort(array)\n",
    "    # Index per array element:\n",
    "    index = np.arange(1,array.shape[0]+1)\n",
    "    # Number of array elements:\n",
    "    n = array.shape[0]\n",
    "    # Gini coefficient:\n",
    "    return ((np.sum((2 * index - n  - 1) * array)) / (n * np.sum(array)))"
   ]
  },
  {
   "cell_type": "code",
   "execution_count": 26,
   "metadata": {},
   "outputs": [
    {
     "name": "stdout",
     "output_type": "stream",
     "text": [
      "Billboard label gini coeff: 0.7362438031100855\n"
     ]
    }
   ],
   "source": [
    "print('Billboard label gini coeff:', gini(np.array(sorted_labels['count'])))"
   ]
  },
  {
   "cell_type": "code",
   "execution_count": 27,
   "metadata": {},
   "outputs": [],
   "source": [
    "one_two = list(sorted_labels['count'])[0] + list(sorted_labels['count'])[1]\n",
    "total = sum(list(sorted_labels['count']))"
   ]
  },
  {
   "cell_type": "code",
   "execution_count": 28,
   "metadata": {},
   "outputs": [
    {
     "name": "stdout",
     "output_type": "stream",
     "text": [
      "Billboard label CR2: 8.081292239850454\n"
     ]
    }
   ],
   "source": [
    "print('Billboard label CR2:', one_two/total*100)"
   ]
  },
  {
   "cell_type": "code",
   "execution_count": 32,
   "metadata": {},
   "outputs": [
    {
     "data": {
      "image/png": "[encoded data removed]",
      "text/plain": [
       "<Figure size 432x288 with 1 Axes>"
      ]
     },
     "metadata": {
      "needs_background": "light"
     },
     "output_type": "display_data"
    }
   ],
   "source": [
    "import matplotlib.pyplot as plt\n",
    "scl_array = np.asarray(sorted_labels['count'])\n",
    "scl_array.sort()\n",
    "plt.title('Number of appearances per label (Billboard)')\n",
    "plt.plot(scl_array)\n",
    "plt.xlabel('label')\n",
    "plt.ylabel('# of appearances')\n",
    "plt.savefig('billboard.png')"
   ]
  },
  {
   "cell_type": "code",
   "execution_count": null,
   "metadata": {},
   "outputs": [],
   "source": []
  }
 ],
 "metadata": {
  "kernelspec": {
   "display_name": "Python 3",
   "language": "python",
   "name": "python3"
  },
  "language_info": {
   "codemirror_mode": {
    "name": "ipython",
    "version": 3
   },
   "file_extension": ".py",
   "mimetype": "text/x-python",
   "name": "python",
   "nbconvert_exporter": "python",
   "pygments_lexer": "ipython3",
   "version": "3.7.6"
  }
 },
 "nbformat": 4,
 "nbformat_minor": 4
}
