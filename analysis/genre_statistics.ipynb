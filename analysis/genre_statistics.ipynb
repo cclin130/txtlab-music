{
 "cells": [
  {
   "cell_type": "code",
   "execution_count": 1,
   "metadata": {},
   "outputs": [],
   "source": [
    "import pandas as pd\n",
    "import numpy as np\n",
    "import os, re\n",
    "from datetime import date, timedelta\n",
    "\n",
    "from analysis_utils import get_label_count, get_num_appearances, get_genres, get_genre_list, get_genre_intersections,get_genre_intersection_props, get_gender_distribution"
   ]
  },
  {
   "cell_type": "code",
   "execution_count": 2,
   "metadata": {},
   "outputs": [],
   "source": [
    "data = pd.read_csv('all_tracks.csv')"
   ]
  },
  {
   "cell_type": "markdown",
   "metadata": {},
   "source": [
    "### Gender Data"
   ]
  },
  {
   "cell_type": "code",
   "execution_count": 3,
   "metadata": {},
   "outputs": [
    {
     "name": "stdout",
     "output_type": "stream",
     "text": [
      "Amount of missing gender labels: 38924 of 198615 total tracks\n"
     ]
    }
   ],
   "source": [
    "gender_nan = data[data['gender'].isna()]\n",
    "print('Amount of missing gender labels: %s of %s total tracks' % (len(gender_nan), len(data)))"
   ]
  },
  {
   "cell_type": "code",
   "execution_count": 4,
   "metadata": {},
   "outputs": [
    {
     "name": "stdout",
     "output_type": "stream",
     "text": [
      "Amount of unique tracks missing gender label:  4790\n",
      "Amount of unique artists missing gender label:  3234\n"
     ]
    }
   ],
   "source": [
    "print('Amount of unique tracks missing gender label: ', len(gender_nan['track_id'].unique()))\n",
    "print('Amount of unique artists missing gender label: ', len(gender_nan['artist_id'].unique()))"
   ]
  },
  {
   "cell_type": "code",
   "execution_count": 5,
   "metadata": {},
   "outputs": [
    {
     "name": "stdout",
     "output_type": "stream",
     "text": [
      "Amount of missing artists that appear more than twice:  2498\n"
     ]
    }
   ],
   "source": [
    "nan_counts = gender_nan.groupby('artist_id').count().reset_index()\n",
    "print('Amount of missing artists that appear more than twice: ', len(nan_counts[nan_counts['index'] > 2]))"
   ]
  },
  {
   "cell_type": "markdown",
   "metadata": {},
   "source": [
    "#### Gender distribution across all tracks"
   ]
  },
  {
   "cell_type": "code",
   "execution_count": 6,
   "metadata": {},
   "outputs": [
    {
     "name": "stdout",
     "output_type": "stream",
     "text": [
      "Male artists:  0.766117063579037\n",
      "Female artists:  0.23388293642096297\n"
     ]
    }
   ],
   "source": [
    "men = len(data[data['gender'] == 1])\n",
    "women = len(data[data['gender'] == 0])\n",
    "print('Male artists: ', men/(men+women))\n",
    "print('Female artists: ', women/(men+women))"
   ]
  },
  {
   "cell_type": "markdown",
   "metadata": {},
   "source": [
    "### Genre \n",
    "#### Categories\n",
    "From wikipedia list:\n",
    "    - Afro (not included)\n",
    "    - Comedy (not include)\n",
    "    - Avant-garde (not included)\n",
    "    - Blues\n",
    "    - Caribbean and Caribbean-influenced (not included)\n",
    "    - Easy Listening (not included)\n",
    "    - Country \n",
    "    - Electronic\n",
    "    - Folk\n",
    "    - Flamenco (not included)\n",
    "    - Hip Hop\n",
    "    - Jazz \n",
    "    - Latin\n",
    "    - Pop\n",
    "    - R&B and Soul\n",
    "    - Rock\n",
    "Added:\n",
    "    - House\n",
    "    - Rap\n",
    "    - Indie"
   ]
  },
  {
   "cell_type": "markdown",
   "metadata": {},
   "source": [
    "### Partition Genres"
   ]
  },
  {
   "cell_type": "code",
   "execution_count": 52,
   "metadata": {},
   "outputs": [],
   "source": [
    "pd.options.mode.chained_assignment = None\n",
    "\n",
    "hip_list = get_genre_list(data,'hip hop')\n",
    "hip_hop = data.iloc[hip_list,:]\n",
    "hip_hop['genre'] = 'hh'\n",
    "hip_hop.name = 'hip_hop'\n",
    "\n",
    "rock_list = get_genre_list(data,'rock')\n",
    "rock = data.iloc[rock_list,:]\n",
    "rock['genre'] = 'rk'\n",
    "rock.name = 'rock'\n",
    "\n",
    "a_g_list = get_genre_list(data,'avant-garde')\n",
    "a_g = data.iloc[a_g_list,:]\n",
    "a_g['genre'] = 'ag'\n",
    "a_g.name = 'a_g'\n",
    "\n",
    "blues_list = get_genre_list(data,'blues')\n",
    "blues = data.iloc[blues_list,:]\n",
    "blues['genre'] = 'bl'\n",
    "blues.name = 'blues'\n",
    "\n",
    "country_list = get_genre_list(data,'country')\n",
    "country = data.iloc[country_list,:]\n",
    "country['genre'] = 'ct'\n",
    "country.name = 'country'\n",
    "\n",
    "electronic_list = get_genre_list(data,'(electronic)|(edm)')\n",
    "electronic = data.iloc[electronic_list,:]\n",
    "electronic['genre'] = 'el'\n",
    "electronic.name = 'electronic'\n",
    "\n",
    "folk_list = get_genre_list(data,'folk')\n",
    "folk = data.iloc[folk_list,:]\n",
    "folk['genre'] = 'fk'\n",
    "folk.name = 'folk'\n",
    "\n",
    "flamenco_list = get_genre_list(data,'flamenco')\n",
    "flamenco = data.iloc[flamenco_list,:]\n",
    "flamenco['genre'] = 'fl'\n",
    "flamenco.name = 'flamenco'\n",
    "\n",
    "jazz_list = get_genre_list(data,'jazz')\n",
    "jazz = data.iloc[jazz_list,:]\n",
    "jazz['genre'] = 'jz'\n",
    "jazz.name = 'jazz'\n",
    "\n",
    "latin_list = get_genre_list(data,'latin')\n",
    "latin = data.iloc[latin_list,:]\n",
    "latin['genre'] ='la'\n",
    "latin.name = 'latin'\n",
    "\n",
    "pop_list = get_genre_list(data,'pop')\n",
    "pop = data.iloc[pop_list,:]\n",
    "pop['genre'] = 'pp'\n",
    "pop.name = 'pop'\n",
    "\n",
    "r_b_list = get_genre_list(data,'(r&b)|(soul)')\n",
    "r_b = data.iloc[r_b_list,:]\n",
    "r_b['genre'] = 'rb'\n",
    "r_b.name = \"r&b/soul\"\n",
    "\n",
    "indie_list = get_genre_list(data,'indie')\n",
    "indie = data.iloc[indie_list,:]\n",
    "indie['genre'] = 'in'\n",
    "indie.name = 'indie'\n",
    "\n",
    "house_list = get_genre_list(data,'house')\n",
    "house = data.iloc[house_list,]\n",
    "house['genre'] = 'hs'\n",
    "house.name = 'house'\n",
    "\n",
    "rap_list = get_genre_list(data,'rap')\n",
    "rap = data.iloc[rap_list,]\n",
    "rap['genre'] = 'rp'\n",
    "rap.name = 'rap'"
   ]
  },
  {
   "cell_type": "code",
   "execution_count": 8,
   "metadata": {},
   "outputs": [],
   "source": [
    "all_genres = pd.concat([hip_hop, pop, rock, a_g, blues, rap, country, electronic, folk, indie, flamenco, jazz, latin, r_b, house])"
   ]
  },
  {
   "cell_type": "code",
   "execution_count": 9,
   "metadata": {},
   "outputs": [],
   "source": [
    "intersections = get_genre_intersections(all_genres)\n",
    "intersections.columns = ['hip-hop','house','rock','blues','country','edm','folk','jazz','latin','pop','r&b','indie','rap']"
   ]
  },
  {
   "cell_type": "code",
   "execution_count": 53,
   "metadata": {},
   "outputs": [
    {
     "name": "stdout",
     "output_type": "stream",
     "text": [
      "hip_hop: 18369 tracks\n",
      "pop: 109776 tracks\n",
      "rock: 19571 tracks\n",
      "a_g: 95 tracks\n",
      "blues: 670 tracks\n",
      "rap: 28990 tracks\n",
      "country: 4468 tracks\n",
      "electronic: 32664 tracks\n",
      "folk: 13430 tracks\n",
      "indie: 22355 tracks\n",
      "flamenco: 21 tracks\n",
      "jazz: 2696 tracks\n",
      "latin: 11356 tracks\n",
      "r&b/soul: 13698 tracks\n",
      "house: 43592 tracks\n"
     ]
    }
   ],
   "source": [
    "genre_list = [hip_hop, pop, rock, a_g, blues, rap, country, electronic, folk, indie, flamenco, jazz, latin, r_b, house]\n",
    "for genre in genre_list:\n",
    "    print('%s: %d tracks' % (str(genre.name), len(genre)))"
   ]
  },
  {
   "cell_type": "markdown",
   "metadata": {},
   "source": [
    "### 'Other' Category"
   ]
  },
  {
   "cell_type": "code",
   "execution_count": 16,
   "metadata": {},
   "outputs": [],
   "source": [
    "other = data[~data['index'].isin(all_genres['index'])]"
   ]
  },
  {
   "cell_type": "code",
   "execution_count": 17,
   "metadata": {},
   "outputs": [
    {
     "name": "stdout",
     "output_type": "stream",
     "text": [
      "Amount of tracks not categorized: 42442\n",
      "Amount of unique tracks not categorized: 5093\n"
     ]
    }
   ],
   "source": [
    "print('Amount of tracks not categorized:', len(other))\n",
    "print('Amount of unique tracks not categorized:', len(other['track_id'].unique()))"
   ]
  },
  {
   "cell_type": "code",
   "execution_count": 18,
   "metadata": {},
   "outputs": [],
   "source": [
    "other_dropped = other[~(other['artist_genres'].isna())]"
   ]
  },
  {
   "cell_type": "markdown",
   "metadata": {},
   "source": [
    "#### After dropping NaN's"
   ]
  },
  {
   "cell_type": "code",
   "execution_count": 19,
   "metadata": {},
   "outputs": [
    {
     "name": "stdout",
     "output_type": "stream",
     "text": [
      "Amount of tracks in 'other' category:  23022\n",
      "Amount of unique tracks in 'other' category:  2470\n"
     ]
    }
   ],
   "source": [
    "print(\"Amount of tracks in 'other' category: \", len(other_dropped))\n",
    "print(\"Amount of unique tracks in 'other' category: \", len(other_dropped['track_id'].unique()))"
   ]
  },
  {
   "cell_type": "markdown",
   "metadata": {},
   "source": [
    "### Genre intersection by count"
   ]
  },
  {
   "cell_type": "code",
   "execution_count": 40,
   "metadata": {},
   "outputs": [
    {
     "data": {
      "image/png": "[encoded data removed]",
      "text/plain": [
       "<Figure size 1152x576 with 2 Axes>"
      ]
     },
     "metadata": {},
     "output_type": "display_data"
    }
   ],
   "source": [
    "import seaborn as sns; sns.set()\n",
    "mask = np.zeros_like(intersections)\n",
    "mask[np.triu_indices_from(mask)] = True\n",
    "with sns.axes_style(\"white\"):\n",
    "     ax = sns.heatmap(intersections, mask=mask, vmax=30000, square=True, cmap='Greens').set_title('Genre Intersection by Track Count')\n",
    "sns.set(rc={'figure.figsize':(16,10)})"
   ]
  },
  {
   "cell_type": "markdown",
   "metadata": {},
   "source": [
    "### Genre intersection by proportion of songs"
   ]
  },
  {
   "cell_type": "code",
   "execution_count": 11,
   "metadata": {},
   "outputs": [],
   "source": [
    "intersection_prop = get_genre_intersection_props(all_genres)\n",
    "intersection_prop.columns = ['hip-hop','house','rock','blues','country','edm','folk','jazz','latin','pop','r&b','indie','rap']"
   ]
  },
  {
   "cell_type": "code",
   "execution_count": 39,
   "metadata": {},
   "outputs": [
    {
     "data": {
      "image/png": "[encoded data removed]",
      "text/plain": [
       "<Figure size 1152x576 with 2 Axes>"
      ]
     },
     "metadata": {},
     "output_type": "display_data"
    }
   ],
   "source": [
    "ax = sns.heatmap(intersection_prop, cmap='Greens').set_title('Genre Intersection by Proportion of Tracks')\n",
    "sns.set(rc={'figure.figsize':(16,8)})"
   ]
  },
  {
   "cell_type": "code",
   "execution_count": 13,
   "metadata": {},
   "outputs": [
    {
     "data": {
      "image/png": "[encoded data removed]",
      "text/plain": [
       "<Figure size 1152x576 with 2 Axes>"
      ]
     },
     "metadata": {},
     "output_type": "display_data"
    }
   ],
   "source": [
    "ax = sns.heatmap(intersection_prop, cmap='Greens', annot=True).set_title('Genre Intersection by Proportion of Tracks')\n",
    "sns.set(rc={'figure.figsize':(16,8)})"
   ]
  },
  {
   "cell_type": "markdown",
   "metadata": {},
   "source": [
    "### How popular is pop?"
   ]
  },
  {
   "cell_type": "code",
   "execution_count": 14,
   "metadata": {},
   "outputs": [
    {
     "data": {
      "text/html": [
       "<div>\n",
       "<style scoped>\n",
       "    .dataframe tbody tr th:only-of-type {\n",
       "        vertical-align: middle;\n",
       "    }\n",
       "\n",
       "    .dataframe tbody tr th {\n",
       "        vertical-align: top;\n",
       "    }\n",
       "\n",
       "    .dataframe thead th {\n",
       "        text-align: right;\n",
       "    }\n",
       "</style>\n",
       "<table border=\"1\" class=\"dataframe\">\n",
       "  <thead>\n",
       "    <tr style=\"text-align: right;\">\n",
       "      <th></th>\n",
       "      <th>track_popularity</th>\n",
       "      <th>artist_popularity</th>\n",
       "    </tr>\n",
       "  </thead>\n",
       "  <tbody>\n",
       "    <tr>\n",
       "      <th>count</th>\n",
       "      <td>109776.000000</td>\n",
       "      <td>109776.000000</td>\n",
       "    </tr>\n",
       "    <tr>\n",
       "      <th>mean</th>\n",
       "      <td>59.465903</td>\n",
       "      <td>75.222936</td>\n",
       "    </tr>\n",
       "    <tr>\n",
       "      <th>std</th>\n",
       "      <td>21.494452</td>\n",
       "      <td>13.368514</td>\n",
       "    </tr>\n",
       "    <tr>\n",
       "      <th>min</th>\n",
       "      <td>0.000000</td>\n",
       "      <td>13.000000</td>\n",
       "    </tr>\n",
       "    <tr>\n",
       "      <th>25%</th>\n",
       "      <td>49.000000</td>\n",
       "      <td>66.000000</td>\n",
       "    </tr>\n",
       "    <tr>\n",
       "      <th>50%</th>\n",
       "      <td>63.000000</td>\n",
       "      <td>77.000000</td>\n",
       "    </tr>\n",
       "    <tr>\n",
       "      <th>75%</th>\n",
       "      <td>75.000000</td>\n",
       "      <td>86.000000</td>\n",
       "    </tr>\n",
       "    <tr>\n",
       "      <th>max</th>\n",
       "      <td>100.000000</td>\n",
       "      <td>100.000000</td>\n",
       "    </tr>\n",
       "  </tbody>\n",
       "</table>\n",
       "</div>"
      ],
      "text/plain": [
       "       track_popularity  artist_popularity\n",
       "count     109776.000000      109776.000000\n",
       "mean          59.465903          75.222936\n",
       "std           21.494452          13.368514\n",
       "min            0.000000          13.000000\n",
       "25%           49.000000          66.000000\n",
       "50%           63.000000          77.000000\n",
       "75%           75.000000          86.000000\n",
       "max          100.000000         100.000000"
      ]
     },
     "execution_count": 14,
     "metadata": {},
     "output_type": "execute_result"
    }
   ],
   "source": [
    "# Tracks with 'pop' tag\n",
    "unique_pop = pop.drop_duplicates('index')\n",
    "unique_pop[['track_popularity', 'artist_popularity']].describe()"
   ]
  },
  {
   "cell_type": "code",
   "execution_count": 15,
   "metadata": {},
   "outputs": [
    {
     "data": {
      "text/html": [
       "<div>\n",
       "<style scoped>\n",
       "    .dataframe tbody tr th:only-of-type {\n",
       "        vertical-align: middle;\n",
       "    }\n",
       "\n",
       "    .dataframe tbody tr th {\n",
       "        vertical-align: top;\n",
       "    }\n",
       "\n",
       "    .dataframe thead th {\n",
       "        text-align: right;\n",
       "    }\n",
       "</style>\n",
       "<table border=\"1\" class=\"dataframe\">\n",
       "  <thead>\n",
       "    <tr style=\"text-align: right;\">\n",
       "      <th></th>\n",
       "      <th>track_popularity</th>\n",
       "      <th>artist_popularity</th>\n",
       "    </tr>\n",
       "  </thead>\n",
       "  <tbody>\n",
       "    <tr>\n",
       "      <th>count</th>\n",
       "      <td>46397.000000</td>\n",
       "      <td>46397.000000</td>\n",
       "    </tr>\n",
       "    <tr>\n",
       "      <th>mean</th>\n",
       "      <td>54.323426</td>\n",
       "      <td>66.701877</td>\n",
       "    </tr>\n",
       "    <tr>\n",
       "      <th>std</th>\n",
       "      <td>20.488703</td>\n",
       "      <td>15.584609</td>\n",
       "    </tr>\n",
       "    <tr>\n",
       "      <th>min</th>\n",
       "      <td>0.000000</td>\n",
       "      <td>7.000000</td>\n",
       "    </tr>\n",
       "    <tr>\n",
       "      <th>25%</th>\n",
       "      <td>43.000000</td>\n",
       "      <td>55.000000</td>\n",
       "    </tr>\n",
       "    <tr>\n",
       "      <th>50%</th>\n",
       "      <td>55.000000</td>\n",
       "      <td>67.000000</td>\n",
       "    </tr>\n",
       "    <tr>\n",
       "      <th>75%</th>\n",
       "      <td>69.000000</td>\n",
       "      <td>79.000000</td>\n",
       "    </tr>\n",
       "    <tr>\n",
       "      <th>max</th>\n",
       "      <td>98.000000</td>\n",
       "      <td>99.000000</td>\n",
       "    </tr>\n",
       "  </tbody>\n",
       "</table>\n",
       "</div>"
      ],
      "text/plain": [
       "       track_popularity  artist_popularity\n",
       "count      46397.000000       46397.000000\n",
       "mean          54.323426          66.701877\n",
       "std           20.488703          15.584609\n",
       "min            0.000000           7.000000\n",
       "25%           43.000000          55.000000\n",
       "50%           55.000000          67.000000\n",
       "75%           69.000000          79.000000\n",
       "max           98.000000          99.000000"
      ]
     },
     "execution_count": 15,
     "metadata": {},
     "output_type": "execute_result"
    }
   ],
   "source": [
    "# Tracks without 'pop' tag\n",
    "non_pop = all_genres[~(all_genres['index'].isin(pop['index']))]\n",
    "non_pop.drop_duplicates('index', inplace=True)\n",
    "non_pop[['track_popularity', 'artist_popularity']].describe()"
   ]
  },
  {
   "cell_type": "markdown",
   "metadata": {},
   "source": [
    "### Gender distribution by genre"
   ]
  },
  {
   "cell_type": "code",
   "execution_count": 20,
   "metadata": {},
   "outputs": [],
   "source": [
    "rap_perc, electronic_perc, pop_perc = get_gender_distribution(rap), get_gender_distribution(electronic), get_gender_distribution(pop)"
   ]
  },
  {
   "cell_type": "code",
   "execution_count": 21,
   "metadata": {},
   "outputs": [],
   "source": [
    "hip_hop_perc, rock_perc, a_g_perc = get_gender_distribution(hip_hop), get_gender_distribution(rock), get_gender_distribution(a_g)"
   ]
  },
  {
   "cell_type": "code",
   "execution_count": 22,
   "metadata": {},
   "outputs": [],
   "source": [
    "blues_perc, country_perc, folk_perc = get_gender_distribution(blues), get_gender_distribution(country), get_gender_distribution(folk)"
   ]
  },
  {
   "cell_type": "code",
   "execution_count": 23,
   "metadata": {},
   "outputs": [],
   "source": [
    "jazz_perc, latin_perc, r_b_perc = get_gender_distribution(jazz), get_gender_distribution(latin), get_gender_distribution(r_b)"
   ]
  },
  {
   "cell_type": "code",
   "execution_count": 24,
   "metadata": {},
   "outputs": [],
   "source": [
    "indie_perc, house_perc = get_gender_distribution(indie), get_gender_distribution(house)"
   ]
  },
  {
   "cell_type": "code",
   "execution_count": 25,
   "metadata": {
    "scrolled": false
   },
   "outputs": [
    {
     "data": {
      "image/png": "[encoded data removed]",
      "text/plain": [
       "<Figure size 1296x504 with 1 Axes>"
      ]
     },
     "metadata": {},
     "output_type": "display_data"
    }
   ],
   "source": [
    "import matplotlib.pyplot as plt\n",
    "N = 13\n",
    "men_means = (rap_perc, electronic_perc, pop_perc,hip_hop_perc,rock_perc,blues_perc,country_perc,folk_perc,jazz_perc,latin_perc,r_b_perc,indie_perc,house_perc)\n",
    "women_means = (1-rap_perc, 1-electronic_perc, 1-pop_perc,1-hip_hop_perc,1-rock_perc,1-blues_perc,1-country_perc,1-folk_perc,1-jazz_perc,1-latin_perc,1-r_b_perc,1-indie_perc,1-house_perc)\n",
    "\n",
    "ind = np.arange(N)\n",
    "width = 0.35\n",
    "plt.figure(figsize=(18,7))\n",
    "plt.bar(ind, men_means, width, label='Men', color='green')\n",
    "plt.bar(ind + width, women_means, width,\n",
    "    label='Women', color='black')\n",
    "\n",
    "plt.ylabel('Percent of tracks')\n",
    "plt.xlabel('Genre')\n",
    "plt.title('Gender Distribution by Genre')\n",
    "\n",
    "plt.xticks(ind + width / 2, ('rap', 'electronic', 'pop','hip_hop','rock','blues','country','folk','jazz','latin','r&b/soul','indie','house'))\n",
    "plt.legend(loc='best')\n",
    "plt.show(10,10)"
   ]
  },
  {
   "cell_type": "markdown",
   "metadata": {},
   "source": [
    "### Chi Squared Test for Independence\n",
    "\n",
    "    Ho: Artist Gender and Genre are independent.\n",
    "\n",
    "    Ha: Artist Gender and Genre are dependent."
   ]
  },
  {
   "cell_type": "code",
   "execution_count": 26,
   "metadata": {},
   "outputs": [],
   "source": [
    "table = [[23646,30124,76384,15670,16421,85,590,3237,9089,1596,9774,5932,13838,35619],\n",
    "        [3007,1436,25642,1422,1965,10,65,882,3128,212,1409,1704,5556,4276]]"
   ]
  },
  {
   "cell_type": "code",
   "execution_count": 27,
   "metadata": {},
   "outputs": [
    {
     "name": "stdout",
     "output_type": "stream",
     "text": [
      "dof = 13\n",
      "probability = 0.950, critical = 22.362, stat = 14110.079\n",
      "significance = 0.050, p = 0.000\n"
     ]
    }
   ],
   "source": [
    "from scipy.stats import chi2_contingency\n",
    "from scipy.stats import chi2\n",
    "\n",
    "stat, p, dof, expected = chi2_contingency(table)\n",
    "print('dof = %d' % dof)\n",
    "\n",
    "prob = 0.95\n",
    "alpha = 1.0 - prob\n",
    "critical = chi2.ppf(prob, dof)\n",
    "print('probability = %.3f, critical = %.3f, stat = %.3f' % (prob, critical, stat))\n",
    "print('significance = %.3f, p = %.3f' % (alpha, p))"
   ]
  },
  {
   "cell_type": "markdown",
   "metadata": {},
   "source": [
    "    -> reject null hypothesis. Gender and genre are dependent."
   ]
  },
  {
   "cell_type": "markdown",
   "metadata": {},
   "source": [
    "### Playlist/Label independence test"
   ]
  },
  {
   "cell_type": "code",
   "execution_count": 28,
   "metadata": {},
   "outputs": [],
   "source": [
    "suspicious_playlists = pd.read_csv('suspicious_playlists.csv')"
   ]
  },
  {
   "cell_type": "code",
   "execution_count": 29,
   "metadata": {},
   "outputs": [],
   "source": [
    "playlists = suspicious_playlists[suspicious_playlists['%'] > 0.50]"
   ]
  },
  {
   "cell_type": "code",
   "execution_count": 30,
   "metadata": {},
   "outputs": [
    {
     "data": {
      "text/html": [
       "<div>\n",
       "<style scoped>\n",
       "    .dataframe tbody tr th:only-of-type {\n",
       "        vertical-align: middle;\n",
       "    }\n",
       "\n",
       "    .dataframe tbody tr th {\n",
       "        vertical-align: top;\n",
       "    }\n",
       "\n",
       "    .dataframe thead th {\n",
       "        text-align: right;\n",
       "    }\n",
       "</style>\n",
       "<table border=\"1\" class=\"dataframe\">\n",
       "  <thead>\n",
       "    <tr style=\"text-align: right;\">\n",
       "      <th></th>\n",
       "      <th>playlist</th>\n",
       "      <th>total_track_count</th>\n",
       "      <th>%</th>\n",
       "      <th>label</th>\n",
       "    </tr>\n",
       "  </thead>\n",
       "  <tbody>\n",
       "    <tr>\n",
       "      <th>0</th>\n",
       "      <td>NCS_Releases_-_NoCopyrightSounds</td>\n",
       "      <td>905</td>\n",
       "      <td>0.994475</td>\n",
       "      <td>NCS</td>\n",
       "    </tr>\n",
       "    <tr>\n",
       "      <th>1</th>\n",
       "      <td>The_Chillhop_Cafe</td>\n",
       "      <td>2250</td>\n",
       "      <td>0.979556</td>\n",
       "      <td>Chillhop Records</td>\n",
       "    </tr>\n",
       "    <tr>\n",
       "      <th>2</th>\n",
       "      <td>Sertanejo_2019_-_Melhores_Sertanejas!</td>\n",
       "      <td>1762</td>\n",
       "      <td>0.804200</td>\n",
       "      <td>Sony Music Entertainment</td>\n",
       "    </tr>\n",
       "    <tr>\n",
       "      <th>3</th>\n",
       "      <td>Trap_Nation</td>\n",
       "      <td>1750</td>\n",
       "      <td>0.748571</td>\n",
       "      <td>Lowly</td>\n",
       "    </tr>\n",
       "    <tr>\n",
       "      <th>4</th>\n",
       "      <td>Disney_Hits</td>\n",
       "      <td>1068</td>\n",
       "      <td>0.693820</td>\n",
       "      <td>Walt Disney Records</td>\n",
       "    </tr>\n",
       "    <tr>\n",
       "      <th>5</th>\n",
       "      <td>Electronica_2019</td>\n",
       "      <td>1521</td>\n",
       "      <td>0.667324</td>\n",
       "      <td>Strange Fruits</td>\n",
       "    </tr>\n",
       "    <tr>\n",
       "      <th>6</th>\n",
       "      <td>Eletronicas_2019_(Eletronicas_Mais_Tocadas)</td>\n",
       "      <td>2362</td>\n",
       "      <td>0.555038</td>\n",
       "      <td>Sony Music Entertainment</td>\n",
       "    </tr>\n",
       "    <tr>\n",
       "      <th>7</th>\n",
       "      <td>lofi_hip_hop_beats</td>\n",
       "      <td>2250</td>\n",
       "      <td>0.536444</td>\n",
       "      <td>Chillhop Records</td>\n",
       "    </tr>\n",
       "  </tbody>\n",
       "</table>\n",
       "</div>"
      ],
      "text/plain": [
       "                                      playlist  total_track_count         %  \\\n",
       "0             NCS_Releases_-_NoCopyrightSounds                905  0.994475   \n",
       "1                            The_Chillhop_Cafe               2250  0.979556   \n",
       "2        Sertanejo_2019_-_Melhores_Sertanejas!               1762  0.804200   \n",
       "3                                  Trap_Nation               1750  0.748571   \n",
       "4                                  Disney_Hits               1068  0.693820   \n",
       "5                             Electronica_2019               1521  0.667324   \n",
       "6  Eletronicas_2019_(Eletronicas_Mais_Tocadas)               2362  0.555038   \n",
       "7                           lofi_hip_hop_beats               2250  0.536444   \n",
       "\n",
       "                      label  \n",
       "0                       NCS  \n",
       "1          Chillhop Records  \n",
       "2  Sony Music Entertainment  \n",
       "3                     Lowly  \n",
       "4       Walt Disney Records  \n",
       "5            Strange Fruits  \n",
       "6  Sony Music Entertainment  \n",
       "7          Chillhop Records  "
      ]
     },
     "execution_count": 30,
     "metadata": {},
     "output_type": "execute_result"
    }
   ],
   "source": [
    "playlists"
   ]
  },
  {
   "cell_type": "markdown",
   "metadata": {},
   "source": [
    "### Visualizing Acoustic Features "
   ]
  },
  {
   "cell_type": "code",
   "execution_count": 31,
   "metadata": {},
   "outputs": [],
   "source": [
    "jazz_unique = jazz.drop_duplicates(subset='track_id')\n",
    "country_unique = country.drop_duplicates(subset='track_id')\n",
    "hip_hop_unique = hip_hop.drop_duplicates(subset='track_id')\n",
    "house_unique = house.drop_duplicates(subset='track_id')\n",
    "rock_unique = rock.drop_duplicates(subset='track_id')\n",
    "blues_unique = blues.drop_duplicates(subset='track_id')\n",
    "edm_unique = electronic.drop_duplicates(subset='track_id')\n",
    "folk_unique = folk.drop_duplicates(subset='track_id')\n",
    "latin_unique = latin.drop_duplicates(subset='track_id')\n",
    "pop_unique = pop.drop_duplicates(subset='track_id')\n",
    "r_b_unique = r_b.drop_duplicates(subset='track_id')\n",
    "indie_unique= indie.drop_duplicates(subset='track_id')\n",
    "rap_unique = rap.drop_duplicates(subset='track_id')"
   ]
  },
  {
   "cell_type": "code",
   "execution_count": 32,
   "metadata": {},
   "outputs": [],
   "source": [
    "cols = ['genre','danceability','energy','key','loudness','mode','speechiness',\n",
    "            'instrumentalness','acousticness','valence','tempo','liveness']"
   ]
  },
  {
   "cell_type": "code",
   "execution_count": 33,
   "metadata": {},
   "outputs": [],
   "source": [
    "pop_mean = pop_unique[cols].mean().to_frame().T\n",
    "jazz_mean = jazz_unique[cols].mean().to_frame().T\n",
    "country_mean = country_unique[cols].mean().to_frame().T\n",
    "hip_hop_mean = hip_hop_unique[cols].mean().to_frame().T\n",
    "house_mean = house_unique[cols].mean().to_frame().T\n",
    "rock_mean = rock_unique[cols].mean().to_frame().T\n",
    "blues_mean = blues_unique[cols].mean().to_frame().T\n",
    "edm_mean = edm_unique[cols].mean().to_frame().T\n",
    "folk_mean = folk_unique[cols].mean().to_frame().T\n",
    "latin_mean = latin_unique[cols].mean().to_frame().T\n",
    "r_b_mean = r_b_unique[cols].mean().to_frame().T\n",
    "indie_mean = indie_unique[cols].mean().to_frame().T\n",
    "rap_mean = rap_unique[cols].mean().to_frame().T"
   ]
  },
  {
   "cell_type": "code",
   "execution_count": 55,
   "metadata": {},
   "outputs": [],
   "source": [
    "pop_mean['genre'] = 0/12\n",
    "rap_mean['genre'] = 1/12\n",
    "jazz_mean['genre'] = 2/12\n",
    "country_mean['genre'] = 3/12\n",
    "hip_hop_mean['genre'] = 4/12\n",
    "house_mean['genre'] = 5/12\n",
    "rock_mean['genre'] = 6/12\n",
    "blues_mean['genre'] = 7/12\n",
    "edm_mean['genre'] = 8/12\n",
    "folk_mean['genre'] = 9/12\n",
    "latin_mean['genre'] = 10/12\n",
    "r_b_mean['genre'] = 11/12\n",
    "indie_mean['genre'] = 12/12"
   ]
  },
  {
   "cell_type": "code",
   "execution_count": 56,
   "metadata": {},
   "outputs": [],
   "source": [
    "df = pd.concat([jazz_mean, country_mean,pop_mean,hip_hop_mean,house_mean,rock_mean,blues_mean,edm_mean,folk_mean,latin_mean,r_b_mean,indie_mean,rap_mean])"
   ]
  },
  {
   "cell_type": "code",
   "execution_count": 57,
   "metadata": {},
   "outputs": [
    {
     "data": {
      "application/vnd.plotly.v1+json": {
       "config": {
        "plotlyServerURL": "https://plot.ly"
       },
       "data": [
        {
         "dimensions": [
          {
           "label": "acousticness",
           "range": [
            0.1,
            0.62
           ],
           "values": [
            0.6100377566539922,
            0.23645469138888883,
            0.25316492026321585,
            0.16380576254199347,
            0.10977525261152864,
            0.26505448733089587,
            0.25648489743589736,
            0.11166496263263935,
            0.511825487424111,
            0.2868267594262292,
            0.28027891693907897,
            0.37147699872434614,
            0.15557219192688468
           ]
          },
          {
           "label": "valence",
           "range": [
            0.35,
            0.6
           ],
           "values": [
            0.3562425855513308,
            0.5607211111111113,
            0.4732521386268921,
            0.524608006718925,
            0.395070551378446,
            0.5295083638025587,
            0.592023076923077,
            0.38323690396239013,
            0.4115903729401563,
            0.5838516393442624,
            0.4921752600297179,
            0.4142222937625755,
            0.46432140137090616
           ]
          },
          {
           "label": "tempo",
           "range": [
            105,
            125
           ],
           "values": [
            105.07159695817484,
            119.8491833333332,
            120.61577681509061,
            121.00241713325865,
            124.30851177944866,
            121.15117504570384,
            123.63293589743586,
            124.85042411014085,
            117.85690112749366,
            123.95718749999993,
            114.94969019316483,
            117.90580040241449,
            123.13926009139355
           ]
          },
          {
           "label": "loudness",
           "range": [
            -13.5,
            -5.5
           ],
           "values": [
            -13.332041825095056,
            -6.458980555555552,
            -6.5831219565694035,
            -6.442759798432253,
            -5.97301578947369,
            -7.723881170018284,
            -8.950589743589747,
            -5.777962726662191,
            -9.578625325238496,
            -6.520492827868854,
            -7.231199851411592,
            -8.242030583500997,
            -6.068286367098246
           ]
          },
          {
           "label": "energy",
           "range": [
            0.3,
            0.8
           ],
           "values": [
            0.3234486692015207,
            0.6710352777777779,
            0.6538538857205559,
            0.6592256438969776,
            0.7774362255639095,
            0.6421319744058509,
            0.631576923076923,
            0.7817970248488918,
            0.4768049696444058,
            0.6568435245901645,
            0.5901052748885581,
            0.5534623460764594,
            0.6816610814927665
           ]
          },
          {
           "label": "speechiness",
           "range": [
            0.04,
            0.2
           ],
           "values": [
            0.08839733840304181,
            0.04591333333333333,
            0.08693576442202197,
            0.19930391937290026,
            0.07765942355889727,
            0.05151832723948806,
            0.059265384615384616,
            0.08117958361316317,
            0.04661214223764086,
            0.08178524590163931,
            0.11248595839524532,
            0.06794334004024159,
            0.16976058644325986
           ]
          },
          {
           "label": "key",
           "range": [
            4.8,
            5.5
           ],
           "values": [
            5.342205323193916,
            5.188888888888889,
            5.221320465014258,
            5.217245240761478,
            5.3265664160401,
            5.117915904936015,
            4.858974358974359,
            5.267629281396911,
            5.066782307025152,
            5.418032786885246,
            5.268202080237741,
            5.2317907444668,
            5.20982482863671
           ]
          },
          {
           "label": "danceability",
           "range": [
            0.5,
            0.75
           ],
           "values": [
            0.5782015209125476,
            0.5865277777777773,
            0.634302401842509,
            0.739919932810751,
            0.6291679949874676,
            0.5700351005484462,
            0.5317564102564106,
            0.6197944929482878,
            0.5374278404163049,
            0.6552991803278695,
            0.6595193164933125,
            0.58565967806841,
            0.7046028179741058
           ]
          },
          {
           "label": "instrumentalness",
           "range": [
            0.006,
            0.6
           ],
           "values": [
            0.5649404856653993,
            0.006996171138888892,
            0.04753014784711565,
            0.013783017687569989,
            0.20049237988972413,
            0.05909948828610604,
            0.06354047910256409,
            0.18771537780053707,
            0.06703531456201216,
            0.01138619266393443,
            0.034625754583952485,
            0.08759190987122739,
            0.05112660607006845
           ]
          },
          {
           "label": "liveness",
           "range": [
            0.14,
            0.22
           ],
           "values": [
            0.14778326996197708,
            0.16257222222222215,
            0.18461618776047475,
            0.18188281075027957,
            0.21278288220551425,
            0.1759234460694698,
            0.1772500000000001,
            0.22028488918737463,
            0.1482010407632264,
            0.1805827868852461,
            0.16920252600297223,
            0.16448913480885294,
            0.18673712871287154
           ]
          }
         ],
         "line": {
          "color": [
           0.16666666666666666,
           0.25,
           0,
           0.3333333333333333,
           0.4166666666666667,
           0.5,
           0.5833333333333334,
           0.6666666666666666,
           0.75,
           0.8333333333333334,
           0.9166666666666666,
           1,
           0.08333333333333333
          ],
          "colorscale": [
           [
            0,
            "#6C9E12"
           ],
           [
            0.08333333333333333,
            "#0D5F67"
           ],
           [
            0.16666666666666666,
            "yellow"
           ],
           [
            0.25,
            "#69178C"
           ],
           [
            0.3333333333333333,
            "#DE9733"
           ],
           [
            0.4166666666666667,
            "darkolivegreen"
           ],
           [
            0.5,
            "#7f7f7f"
           ],
           [
            0.5833333333333334,
            "#e377c2"
           ],
           [
            0.6666666666666666,
            "cyan"
           ],
           [
            0.75,
            "limegreen"
           ],
           [
            0.8333333333333334,
            "dodgerblue"
           ],
           [
            0.9166666666666666,
            "red"
           ],
           [
            1,
            "navy"
           ]
          ]
         },
         "type": "parcoords"
        }
       ],
       "layout": {
        "annotations": [
         {
          "font": {
           "color": "yellow",
           "family": "Arial",
           "size": 14
          },
          "showarrow": false,
          "text": "jazz",
          "x": 0.03,
          "xanchor": "center",
          "xref": "paper",
          "y": -0.085,
          "yanchor": "top",
          "yref": "paper"
         },
         {
          "font": {
           "color": "#6C9E12",
           "family": "Arial",
           "size": 14
          },
          "showarrow": false,
          "text": "pop",
          "x": 0.1,
          "xanchor": "center",
          "xref": "paper",
          "y": -0.085,
          "yanchor": "top",
          "yref": "paper"
         },
         {
          "font": {
           "color": "#0D5F67",
           "family": "Arial",
           "size": 14
          },
          "showarrow": false,
          "text": "rap",
          "x": 0.17,
          "xanchor": "center",
          "xref": "paper",
          "y": -0.085,
          "yanchor": "top",
          "yref": "paper"
         },
         {
          "font": {
           "color": "#69178C",
           "family": "Arial",
           "size": 14
          },
          "showarrow": false,
          "text": "country",
          "x": 0.24,
          "xanchor": "center",
          "xref": "paper",
          "y": -0.085,
          "yanchor": "top",
          "yref": "paper"
         },
         {
          "font": {
           "color": "#DE9733",
           "family": "Arial",
           "size": 14
          },
          "showarrow": false,
          "text": "hip-hop",
          "x": 0.31,
          "xanchor": "center",
          "xref": "paper",
          "y": -0.085,
          "yanchor": "top",
          "yref": "paper"
         },
         {
          "font": {
           "color": "darkolivegreen",
           "family": "Arial",
           "size": 14
          },
          "showarrow": false,
          "text": "house",
          "x": 0.38,
          "xanchor": "center",
          "xref": "paper",
          "y": -0.085,
          "yanchor": "top",
          "yref": "paper"
         },
         {
          "font": {
           "color": "#7f7f7f",
           "family": "Arial",
           "size": 14
          },
          "showarrow": false,
          "text": "rock",
          "x": 0.45,
          "xanchor": "center",
          "xref": "paper",
          "y": -0.085,
          "yanchor": "top",
          "yref": "paper"
         },
         {
          "font": {
           "color": "#e377c2",
           "family": "Arial",
           "size": 14
          },
          "showarrow": false,
          "text": "blues",
          "x": 0.52,
          "xanchor": "center",
          "xref": "paper",
          "y": -0.085,
          "yanchor": "top",
          "yref": "paper"
         },
         {
          "font": {
           "color": "cyan",
           "family": "Arial",
           "size": 14
          },
          "showarrow": false,
          "text": "edm",
          "x": 0.59,
          "xanchor": "center",
          "xref": "paper",
          "y": -0.085,
          "yanchor": "top",
          "yref": "paper"
         },
         {
          "font": {
           "color": "limegreen",
           "family": "Arial",
           "size": 14
          },
          "showarrow": false,
          "text": "folk",
          "x": 0.66,
          "xanchor": "center",
          "xref": "paper",
          "y": -0.085,
          "yanchor": "top",
          "yref": "paper"
         },
         {
          "font": {
           "color": "dodgerblue",
           "family": "Arial",
           "size": 14
          },
          "showarrow": false,
          "text": "latin",
          "x": 0.73,
          "xanchor": "center",
          "xref": "paper",
          "y": -0.085,
          "yanchor": "top",
          "yref": "paper"
         },
         {
          "font": {
           "color": "red",
           "family": "Arial",
           "size": 14
          },
          "showarrow": false,
          "text": "r&b",
          "x": 0.8,
          "xanchor": "center",
          "xref": "paper",
          "y": -0.085,
          "yanchor": "top",
          "yref": "paper"
         },
         {
          "font": {
           "color": "navy",
           "family": "Arial",
           "size": 14
          },
          "showarrow": false,
          "text": "indie",
          "x": 0.87,
          "xanchor": "center",
          "xref": "paper",
          "y": -0.085,
          "yanchor": "top",
          "yref": "paper"
         }
        ],
        "autosize": true,
        "template": {
         "data": {
          "bar": [
           {
            "error_x": {
             "color": "#2a3f5f"
            },
            "error_y": {
             "color": "#2a3f5f"
            },
            "marker": {
             "line": {
              "color": "#E5ECF6",
              "width": 0.5
             }
            },
            "type": "bar"
           }
          ],
          "barpolar": [
           {
            "marker": {
             "line": {
              "color": "#E5ECF6",
              "width": 0.5
             }
            },
            "type": "barpolar"
           }
          ],
          "carpet": [
           {
            "aaxis": {
             "endlinecolor": "#2a3f5f",
             "gridcolor": "white",
             "linecolor": "white",
             "minorgridcolor": "white",
             "startlinecolor": "#2a3f5f"
            },
            "baxis": {
             "endlinecolor": "#2a3f5f",
             "gridcolor": "white",
             "linecolor": "white",
             "minorgridcolor": "white",
             "startlinecolor": "#2a3f5f"
            },
            "type": "carpet"
           }
          ],
          "choropleth": [
           {
            "colorbar": {
             "outlinewidth": 0,
             "ticks": ""
            },
            "type": "choropleth"
           }
          ],
          "contour": [
           {
            "colorbar": {
             "outlinewidth": 0,
             "ticks": ""
            },
            "colorscale": [
             [
              0,
              "#0d0887"
             ],
             [
              0.1111111111111111,
              "#46039f"
             ],
             [
              0.2222222222222222,
              "#7201a8"
             ],
             [
              0.3333333333333333,
              "#9c179e"
             ],
             [
              0.4444444444444444,
              "#bd3786"
             ],
             [
              0.5555555555555556,
              "#d8576b"
             ],
             [
              0.6666666666666666,
              "#ed7953"
             ],
             [
              0.7777777777777778,
              "#fb9f3a"
             ],
             [
              0.8888888888888888,
              "#fdca26"
             ],
             [
              1,
              "#f0f921"
             ]
            ],
            "type": "contour"
           }
          ],
          "contourcarpet": [
           {
            "colorbar": {
             "outlinewidth": 0,
             "ticks": ""
            },
            "type": "contourcarpet"
           }
          ],
          "heatmap": [
           {
            "colorbar": {
             "outlinewidth": 0,
             "ticks": ""
            },
            "colorscale": [
             [
              0,
              "#0d0887"
             ],
             [
              0.1111111111111111,
              "#46039f"
             ],
             [
              0.2222222222222222,
              "#7201a8"
             ],
             [
              0.3333333333333333,
              "#9c179e"
             ],
             [
              0.4444444444444444,
              "#bd3786"
             ],
             [
              0.5555555555555556,
              "#d8576b"
             ],
             [
              0.6666666666666666,
              "#ed7953"
             ],
             [
              0.7777777777777778,
              "#fb9f3a"
             ],
             [
              0.8888888888888888,
              "#fdca26"
             ],
             [
              1,
              "#f0f921"
             ]
            ],
            "type": "heatmap"
           }
          ],
          "heatmapgl": [
           {
            "colorbar": {
             "outlinewidth": 0,
             "ticks": ""
            },
            "colorscale": [
             [
              0,
              "#0d0887"
             ],
             [
              0.1111111111111111,
              "#46039f"
             ],
             [
              0.2222222222222222,
              "#7201a8"
             ],
             [
              0.3333333333333333,
              "#9c179e"
             ],
             [
              0.4444444444444444,
              "#bd3786"
             ],
             [
              0.5555555555555556,
              "#d8576b"
             ],
             [
              0.6666666666666666,
              "#ed7953"
             ],
             [
              0.7777777777777778,
              "#fb9f3a"
             ],
             [
              0.8888888888888888,
              "#fdca26"
             ],
             [
              1,
              "#f0f921"
             ]
            ],
            "type": "heatmapgl"
           }
          ],
          "histogram": [
           {
            "marker": {
             "colorbar": {
              "outlinewidth": 0,
              "ticks": ""
             }
            },
            "type": "histogram"
           }
          ],
          "histogram2d": [
           {
            "colorbar": {
             "outlinewidth": 0,
             "ticks": ""
            },
            "colorscale": [
             [
              0,
              "#0d0887"
             ],
             [
              0.1111111111111111,
              "#46039f"
             ],
             [
              0.2222222222222222,
              "#7201a8"
             ],
             [
              0.3333333333333333,
              "#9c179e"
             ],
             [
              0.4444444444444444,
              "#bd3786"
             ],
             [
              0.5555555555555556,
              "#d8576b"
             ],
             [
              0.6666666666666666,
              "#ed7953"
             ],
             [
              0.7777777777777778,
              "#fb9f3a"
             ],
             [
              0.8888888888888888,
              "#fdca26"
             ],
             [
              1,
              "#f0f921"
             ]
            ],
            "type": "histogram2d"
           }
          ],
          "histogram2dcontour": [
           {
            "colorbar": {
             "outlinewidth": 0,
             "ticks": ""
            },
            "colorscale": [
             [
              0,
              "#0d0887"
             ],
             [
              0.1111111111111111,
              "#46039f"
             ],
             [
              0.2222222222222222,
              "#7201a8"
             ],
             [
              0.3333333333333333,
              "#9c179e"
             ],
             [
              0.4444444444444444,
              "#bd3786"
             ],
             [
              0.5555555555555556,
              "#d8576b"
             ],
             [
              0.6666666666666666,
              "#ed7953"
             ],
             [
              0.7777777777777778,
              "#fb9f3a"
             ],
             [
              0.8888888888888888,
              "#fdca26"
             ],
             [
              1,
              "#f0f921"
             ]
            ],
            "type": "histogram2dcontour"
           }
          ],
          "mesh3d": [
           {
            "colorbar": {
             "outlinewidth": 0,
             "ticks": ""
            },
            "type": "mesh3d"
           }
          ],
          "parcoords": [
           {
            "line": {
             "colorbar": {
              "outlinewidth": 0,
              "ticks": ""
             }
            },
            "type": "parcoords"
           }
          ],
          "pie": [
           {
            "automargin": true,
            "type": "pie"
           }
          ],
          "scatter": [
           {
            "marker": {
             "colorbar": {
              "outlinewidth": 0,
              "ticks": ""
             }
            },
            "type": "scatter"
           }
          ],
          "scatter3d": [
           {
            "line": {
             "colorbar": {
              "outlinewidth": 0,
              "ticks": ""
             }
            },
            "marker": {
             "colorbar": {
              "outlinewidth": 0,
              "ticks": ""
             }
            },
            "type": "scatter3d"
           }
          ],
          "scattercarpet": [
           {
            "marker": {
             "colorbar": {
              "outlinewidth": 0,
              "ticks": ""
             }
            },
            "type": "scattercarpet"
           }
          ],
          "scattergeo": [
           {
            "marker": {
             "colorbar": {
              "outlinewidth": 0,
              "ticks": ""
             }
            },
            "type": "scattergeo"
           }
          ],
          "scattergl": [
           {
            "marker": {
             "colorbar": {
              "outlinewidth": 0,
              "ticks": ""
             }
            },
            "type": "scattergl"
           }
          ],
          "scattermapbox": [
           {
            "marker": {
             "colorbar": {
              "outlinewidth": 0,
              "ticks": ""
             }
            },
            "type": "scattermapbox"
           }
          ],
          "scatterpolar": [
           {
            "marker": {
             "colorbar": {
              "outlinewidth": 0,
              "ticks": ""
             }
            },
            "type": "scatterpolar"
           }
          ],
          "scatterpolargl": [
           {
            "marker": {
             "colorbar": {
              "outlinewidth": 0,
              "ticks": ""
             }
            },
            "type": "scatterpolargl"
           }
          ],
          "scatterternary": [
           {
            "marker": {
             "colorbar": {
              "outlinewidth": 0,
              "ticks": ""
             }
            },
            "type": "scatterternary"
           }
          ],
          "surface": [
           {
            "colorbar": {
             "outlinewidth": 0,
             "ticks": ""
            },
            "colorscale": [
             [
              0,
              "#0d0887"
             ],
             [
              0.1111111111111111,
              "#46039f"
             ],
             [
              0.2222222222222222,
              "#7201a8"
             ],
             [
              0.3333333333333333,
              "#9c179e"
             ],
             [
              0.4444444444444444,
              "#bd3786"
             ],
             [
              0.5555555555555556,
              "#d8576b"
             ],
             [
              0.6666666666666666,
              "#ed7953"
             ],
             [
              0.7777777777777778,
              "#fb9f3a"
             ],
             [
              0.8888888888888888,
              "#fdca26"
             ],
             [
              1,
              "#f0f921"
             ]
            ],
            "type": "surface"
           }
          ],
          "table": [
           {
            "cells": {
             "fill": {
              "color": "#EBF0F8"
             },
             "line": {
              "color": "white"
             }
            },
            "header": {
             "fill": {
              "color": "#C8D4E3"
             },
             "line": {
              "color": "white"
             }
            },
            "type": "table"
           }
          ]
         },
         "layout": {
          "annotationdefaults": {
           "arrowcolor": "#2a3f5f",
           "arrowhead": 0,
           "arrowwidth": 1
          },
          "coloraxis": {
           "colorbar": {
            "outlinewidth": 0,
            "ticks": ""
           }
          },
          "colorscale": {
           "diverging": [
            [
             0,
             "#8e0152"
            ],
            [
             0.1,
             "#c51b7d"
            ],
            [
             0.2,
             "#de77ae"
            ],
            [
             0.3,
             "#f1b6da"
            ],
            [
             0.4,
             "#fde0ef"
            ],
            [
             0.5,
             "#f7f7f7"
            ],
            [
             0.6,
             "#e6f5d0"
            ],
            [
             0.7,
             "#b8e186"
            ],
            [
             0.8,
             "#7fbc41"
            ],
            [
             0.9,
             "#4d9221"
            ],
            [
             1,
             "#276419"
            ]
           ],
           "sequential": [
            [
             0,
             "#0d0887"
            ],
            [
             0.1111111111111111,
             "#46039f"
            ],
            [
             0.2222222222222222,
             "#7201a8"
            ],
            [
             0.3333333333333333,
             "#9c179e"
            ],
            [
             0.4444444444444444,
             "#bd3786"
            ],
            [
             0.5555555555555556,
             "#d8576b"
            ],
            [
             0.6666666666666666,
             "#ed7953"
            ],
            [
             0.7777777777777778,
             "#fb9f3a"
            ],
            [
             0.8888888888888888,
             "#fdca26"
            ],
            [
             1,
             "#f0f921"
            ]
           ],
           "sequentialminus": [
            [
             0,
             "#0d0887"
            ],
            [
             0.1111111111111111,
             "#46039f"
            ],
            [
             0.2222222222222222,
             "#7201a8"
            ],
            [
             0.3333333333333333,
             "#9c179e"
            ],
            [
             0.4444444444444444,
             "#bd3786"
            ],
            [
             0.5555555555555556,
             "#d8576b"
            ],
            [
             0.6666666666666666,
             "#ed7953"
            ],
            [
             0.7777777777777778,
             "#fb9f3a"
            ],
            [
             0.8888888888888888,
             "#fdca26"
            ],
            [
             1,
             "#f0f921"
            ]
           ]
          },
          "colorway": [
           "#636efa",
           "#EF553B",
           "#00cc96",
           "#ab63fa",
           "#FFA15A",
           "#19d3f3",
           "#FF6692",
           "#B6E880",
           "#FF97FF",
           "#FECB52"
          ],
          "font": {
           "color": "#2a3f5f"
          },
          "geo": {
           "bgcolor": "white",
           "lakecolor": "white",
           "landcolor": "#E5ECF6",
           "showlakes": true,
           "showland": true,
           "subunitcolor": "white"
          },
          "hoverlabel": {
           "align": "left"
          },
          "hovermode": "closest",
          "mapbox": {
           "style": "light"
          },
          "paper_bgcolor": "white",
          "plot_bgcolor": "#E5ECF6",
          "polar": {
           "angularaxis": {
            "gridcolor": "white",
            "linecolor": "white",
            "ticks": ""
           },
           "bgcolor": "#E5ECF6",
           "radialaxis": {
            "gridcolor": "white",
            "linecolor": "white",
            "ticks": ""
           }
          },
          "scene": {
           "xaxis": {
            "backgroundcolor": "#E5ECF6",
            "gridcolor": "white",
            "gridwidth": 2,
            "linecolor": "white",
            "showbackground": true,
            "ticks": "",
            "zerolinecolor": "white"
           },
           "yaxis": {
            "backgroundcolor": "#E5ECF6",
            "gridcolor": "white",
            "gridwidth": 2,
            "linecolor": "white",
            "showbackground": true,
            "ticks": "",
            "zerolinecolor": "white"
           },
           "zaxis": {
            "backgroundcolor": "#E5ECF6",
            "gridcolor": "white",
            "gridwidth": 2,
            "linecolor": "white",
            "showbackground": true,
            "ticks": "",
            "zerolinecolor": "white"
           }
          },
          "shapedefaults": {
           "line": {
            "color": "#2a3f5f"
           }
          },
          "ternary": {
           "aaxis": {
            "gridcolor": "white",
            "linecolor": "white",
            "ticks": ""
           },
           "baxis": {
            "gridcolor": "white",
            "linecolor": "white",
            "ticks": ""
           },
           "bgcolor": "#E5ECF6",
           "caxis": {
            "gridcolor": "white",
            "linecolor": "white",
            "ticks": ""
           }
          },
          "title": {
           "x": 0.05
          },
          "xaxis": {
           "automargin": true,
           "gridcolor": "white",
           "linecolor": "white",
           "ticks": "",
           "title": {
            "standoff": 15
           },
           "zerolinecolor": "white",
           "zerolinewidth": 2
          },
          "yaxis": {
           "automargin": true,
           "gridcolor": "white",
           "linecolor": "white",
           "ticks": "",
           "title": {
            "standoff": 15
           },
           "zerolinecolor": "white",
           "zerolinewidth": 2
          }
         }
        },
        "title": {
         "text": "Average Auditory Features by Genre"
        }
       }
      },
      "text/html": [
       "<div>\n",
       "        \n",
       "        \n",
       "            <div id=\"92916fd7-e1e3-4e63-9fa9-cb29c780b1d4\" class=\"plotly-graph-div\" style=\"height:525px; width:100%;\"></div>\n",
       "            <script type=\"text/javascript\">\n",
       "                require([\"plotly\"], function(Plotly) {\n",
       "                    window.PLOTLYENV=window.PLOTLYENV || {};\n",
       "                    \n",
       "                if (document.getElementById(\"92916fd7-e1e3-4e63-9fa9-cb29c780b1d4\")) {\n",
       "                    Plotly.newPlot(\n",
       "                        '92916fd7-e1e3-4e63-9fa9-cb29c780b1d4',\n",
       "                        [{\"dimensions\": [{\"label\": \"acousticness\", \"range\": [0.1, 0.62], \"values\": [0.6100377566539922, 0.23645469138888883, 0.25316492026321585, 0.16380576254199347, 0.10977525261152864, 0.26505448733089587, 0.25648489743589736, 0.11166496263263935, 0.511825487424111, 0.2868267594262292, 0.28027891693907897, 0.37147699872434614, 0.15557219192688468]}, {\"label\": \"valence\", \"range\": [0.35, 0.6], \"values\": [0.3562425855513308, 0.5607211111111113, 0.4732521386268921, 0.524608006718925, 0.395070551378446, 0.5295083638025587, 0.592023076923077, 0.38323690396239013, 0.4115903729401563, 0.5838516393442624, 0.4921752600297179, 0.4142222937625755, 0.46432140137090616]}, {\"label\": \"tempo\", \"range\": [105, 125], \"values\": [105.07159695817484, 119.8491833333332, 120.61577681509061, 121.00241713325865, 124.30851177944866, 121.15117504570384, 123.63293589743586, 124.85042411014085, 117.85690112749366, 123.95718749999993, 114.94969019316483, 117.90580040241449, 123.13926009139355]}, {\"label\": \"loudness\", \"range\": [-13.5, -5.5], \"values\": [-13.332041825095056, -6.458980555555552, -6.5831219565694035, -6.442759798432253, -5.97301578947369, -7.723881170018284, -8.950589743589747, -5.777962726662191, -9.578625325238496, -6.520492827868854, -7.231199851411592, -8.242030583500997, -6.068286367098246]}, {\"label\": \"energy\", \"range\": [0.3, 0.8], \"values\": [0.3234486692015207, 0.6710352777777779, 0.6538538857205559, 0.6592256438969776, 0.7774362255639095, 0.6421319744058509, 0.631576923076923, 0.7817970248488918, 0.4768049696444058, 0.6568435245901645, 0.5901052748885581, 0.5534623460764594, 0.6816610814927665]}, {\"label\": \"speechiness\", \"range\": [0.04, 0.2], \"values\": [0.08839733840304181, 0.04591333333333333, 0.08693576442202197, 0.19930391937290026, 0.07765942355889727, 0.05151832723948806, 0.059265384615384616, 0.08117958361316317, 0.04661214223764086, 0.08178524590163931, 0.11248595839524532, 0.06794334004024159, 0.16976058644325986]}, {\"label\": \"key\", \"range\": [4.8, 5.5], \"values\": [5.342205323193916, 5.188888888888889, 5.221320465014258, 5.217245240761478, 5.3265664160401, 5.117915904936015, 4.858974358974359, 5.267629281396911, 5.066782307025152, 5.418032786885246, 5.268202080237741, 5.2317907444668, 5.20982482863671]}, {\"label\": \"danceability\", \"range\": [0.5, 0.75], \"values\": [0.5782015209125476, 0.5865277777777773, 0.634302401842509, 0.739919932810751, 0.6291679949874676, 0.5700351005484462, 0.5317564102564106, 0.6197944929482878, 0.5374278404163049, 0.6552991803278695, 0.6595193164933125, 0.58565967806841, 0.7046028179741058]}, {\"label\": \"instrumentalness\", \"range\": [0.006, 0.6], \"values\": [0.5649404856653993, 0.006996171138888892, 0.04753014784711565, 0.013783017687569989, 0.20049237988972413, 0.05909948828610604, 0.06354047910256409, 0.18771537780053707, 0.06703531456201216, 0.01138619266393443, 0.034625754583952485, 0.08759190987122739, 0.05112660607006845]}, {\"label\": \"liveness\", \"range\": [0.14, 0.22], \"values\": [0.14778326996197708, 0.16257222222222215, 0.18461618776047475, 0.18188281075027957, 0.21278288220551425, 0.1759234460694698, 0.1772500000000001, 0.22028488918737463, 0.1482010407632264, 0.1805827868852461, 0.16920252600297223, 0.16448913480885294, 0.18673712871287154]}], \"line\": {\"color\": [0.16666666666666666, 0.25, 0.0, 0.3333333333333333, 0.4166666666666667, 0.5, 0.5833333333333334, 0.6666666666666666, 0.75, 0.8333333333333334, 0.9166666666666666, 1.0, 0.08333333333333333], \"colorscale\": [[0.0, \"#6C9E12\"], [0.08333333333333333, \"#0D5F67\"], [0.16666666666666666, \"yellow\"], [0.25, \"#69178C\"], [0.3333333333333333, \"#DE9733\"], [0.4166666666666667, \"darkolivegreen\"], [0.5, \"#7f7f7f\"], [0.5833333333333334, \"#e377c2\"], [0.6666666666666666, \"cyan\"], [0.75, \"limegreen\"], [0.8333333333333334, \"dodgerblue\"], [0.9166666666666666, \"red\"], [1.0, \"navy\"]]}, \"type\": \"parcoords\"}],\n",
       "                        {\"annotations\": [{\"font\": {\"color\": \"yellow\", \"family\": \"Arial\", \"size\": 14}, \"showarrow\": false, \"text\": \"jazz\", \"x\": 0.03, \"xanchor\": \"center\", \"xref\": \"paper\", \"y\": -0.085, \"yanchor\": \"top\", \"yref\": \"paper\"}, {\"font\": {\"color\": \"#6C9E12\", \"family\": \"Arial\", \"size\": 14}, \"showarrow\": false, \"text\": \"pop\", \"x\": 0.1, \"xanchor\": \"center\", \"xref\": \"paper\", \"y\": -0.085, \"yanchor\": \"top\", \"yref\": \"paper\"}, {\"font\": {\"color\": \"#0D5F67\", \"family\": \"Arial\", \"size\": 14}, \"showarrow\": false, \"text\": \"rap\", \"x\": 0.17, \"xanchor\": \"center\", \"xref\": \"paper\", \"y\": -0.085, \"yanchor\": \"top\", \"yref\": \"paper\"}, {\"font\": {\"color\": \"#69178C\", \"family\": \"Arial\", \"size\": 14}, \"showarrow\": false, \"text\": \"country\", \"x\": 0.24, \"xanchor\": \"center\", \"xref\": \"paper\", \"y\": -0.085, \"yanchor\": \"top\", \"yref\": \"paper\"}, {\"font\": {\"color\": \"#DE9733\", \"family\": \"Arial\", \"size\": 14}, \"showarrow\": false, \"text\": \"hip-hop\", \"x\": 0.31, \"xanchor\": \"center\", \"xref\": \"paper\", \"y\": -0.085, \"yanchor\": \"top\", \"yref\": \"paper\"}, {\"font\": {\"color\": \"darkolivegreen\", \"family\": \"Arial\", \"size\": 14}, \"showarrow\": false, \"text\": \"house\", \"x\": 0.38, \"xanchor\": \"center\", \"xref\": \"paper\", \"y\": -0.085, \"yanchor\": \"top\", \"yref\": \"paper\"}, {\"font\": {\"color\": \"#7f7f7f\", \"family\": \"Arial\", \"size\": 14}, \"showarrow\": false, \"text\": \"rock\", \"x\": 0.45, \"xanchor\": \"center\", \"xref\": \"paper\", \"y\": -0.085, \"yanchor\": \"top\", \"yref\": \"paper\"}, {\"font\": {\"color\": \"#e377c2\", \"family\": \"Arial\", \"size\": 14}, \"showarrow\": false, \"text\": \"blues\", \"x\": 0.52, \"xanchor\": \"center\", \"xref\": \"paper\", \"y\": -0.085, \"yanchor\": \"top\", \"yref\": \"paper\"}, {\"font\": {\"color\": \"cyan\", \"family\": \"Arial\", \"size\": 14}, \"showarrow\": false, \"text\": \"edm\", \"x\": 0.59, \"xanchor\": \"center\", \"xref\": \"paper\", \"y\": -0.085, \"yanchor\": \"top\", \"yref\": \"paper\"}, {\"font\": {\"color\": \"limegreen\", \"family\": \"Arial\", \"size\": 14}, \"showarrow\": false, \"text\": \"folk\", \"x\": 0.66, \"xanchor\": \"center\", \"xref\": \"paper\", \"y\": -0.085, \"yanchor\": \"top\", \"yref\": \"paper\"}, {\"font\": {\"color\": \"dodgerblue\", \"family\": \"Arial\", \"size\": 14}, \"showarrow\": false, \"text\": \"latin\", \"x\": 0.73, \"xanchor\": \"center\", \"xref\": \"paper\", \"y\": -0.085, \"yanchor\": \"top\", \"yref\": \"paper\"}, {\"font\": {\"color\": \"red\", \"family\": \"Arial\", \"size\": 14}, \"showarrow\": false, \"text\": \"r&b\", \"x\": 0.8, \"xanchor\": \"center\", \"xref\": \"paper\", \"y\": -0.085, \"yanchor\": \"top\", \"yref\": \"paper\"}, {\"font\": {\"color\": \"navy\", \"family\": \"Arial\", \"size\": 14}, \"showarrow\": false, \"text\": \"indie\", \"x\": 0.87, \"xanchor\": \"center\", \"xref\": \"paper\", \"y\": -0.085, \"yanchor\": \"top\", \"yref\": \"paper\"}], \"autosize\": true, \"template\": {\"data\": {\"bar\": [{\"error_x\": {\"color\": \"#2a3f5f\"}, \"error_y\": {\"color\": \"#2a3f5f\"}, \"marker\": {\"line\": {\"color\": \"#E5ECF6\", \"width\": 0.5}}, \"type\": \"bar\"}], \"barpolar\": [{\"marker\": {\"line\": {\"color\": \"#E5ECF6\", \"width\": 0.5}}, \"type\": \"barpolar\"}], \"carpet\": [{\"aaxis\": {\"endlinecolor\": \"#2a3f5f\", \"gridcolor\": \"white\", \"linecolor\": \"white\", \"minorgridcolor\": \"white\", \"startlinecolor\": \"#2a3f5f\"}, \"baxis\": {\"endlinecolor\": \"#2a3f5f\", \"gridcolor\": \"white\", \"linecolor\": \"white\", \"minorgridcolor\": \"white\", \"startlinecolor\": \"#2a3f5f\"}, \"type\": \"carpet\"}], \"choropleth\": [{\"colorbar\": {\"outlinewidth\": 0, \"ticks\": \"\"}, \"type\": \"choropleth\"}], \"contour\": [{\"colorbar\": {\"outlinewidth\": 0, \"ticks\": \"\"}, \"colorscale\": [[0.0, \"#0d0887\"], [0.1111111111111111, \"#46039f\"], [0.2222222222222222, \"#7201a8\"], [0.3333333333333333, \"#9c179e\"], [0.4444444444444444, \"#bd3786\"], [0.5555555555555556, \"#d8576b\"], [0.6666666666666666, \"#ed7953\"], [0.7777777777777778, \"#fb9f3a\"], [0.8888888888888888, \"#fdca26\"], [1.0, \"#f0f921\"]], \"type\": \"contour\"}], \"contourcarpet\": [{\"colorbar\": {\"outlinewidth\": 0, \"ticks\": \"\"}, \"type\": \"contourcarpet\"}], \"heatmap\": [{\"colorbar\": {\"outlinewidth\": 0, \"ticks\": \"\"}, \"colorscale\": [[0.0, \"#0d0887\"], [0.1111111111111111, \"#46039f\"], [0.2222222222222222, \"#7201a8\"], [0.3333333333333333, \"#9c179e\"], [0.4444444444444444, \"#bd3786\"], [0.5555555555555556, \"#d8576b\"], [0.6666666666666666, \"#ed7953\"], [0.7777777777777778, \"#fb9f3a\"], [0.8888888888888888, \"#fdca26\"], [1.0, \"#f0f921\"]], \"type\": \"heatmap\"}], \"heatmapgl\": [{\"colorbar\": {\"outlinewidth\": 0, \"ticks\": \"\"}, \"colorscale\": [[0.0, \"#0d0887\"], [0.1111111111111111, \"#46039f\"], [0.2222222222222222, \"#7201a8\"], [0.3333333333333333, \"#9c179e\"], [0.4444444444444444, \"#bd3786\"], [0.5555555555555556, \"#d8576b\"], [0.6666666666666666, \"#ed7953\"], [0.7777777777777778, \"#fb9f3a\"], [0.8888888888888888, \"#fdca26\"], [1.0, \"#f0f921\"]], \"type\": \"heatmapgl\"}], \"histogram\": [{\"marker\": {\"colorbar\": {\"outlinewidth\": 0, \"ticks\": \"\"}}, \"type\": \"histogram\"}], \"histogram2d\": [{\"colorbar\": {\"outlinewidth\": 0, \"ticks\": \"\"}, \"colorscale\": [[0.0, \"#0d0887\"], [0.1111111111111111, \"#46039f\"], [0.2222222222222222, \"#7201a8\"], [0.3333333333333333, \"#9c179e\"], [0.4444444444444444, \"#bd3786\"], [0.5555555555555556, \"#d8576b\"], [0.6666666666666666, \"#ed7953\"], [0.7777777777777778, \"#fb9f3a\"], [0.8888888888888888, \"#fdca26\"], [1.0, \"#f0f921\"]], \"type\": \"histogram2d\"}], \"histogram2dcontour\": [{\"colorbar\": {\"outlinewidth\": 0, \"ticks\": \"\"}, \"colorscale\": [[0.0, \"#0d0887\"], [0.1111111111111111, \"#46039f\"], [0.2222222222222222, \"#7201a8\"], [0.3333333333333333, \"#9c179e\"], [0.4444444444444444, \"#bd3786\"], [0.5555555555555556, \"#d8576b\"], [0.6666666666666666, \"#ed7953\"], [0.7777777777777778, \"#fb9f3a\"], [0.8888888888888888, \"#fdca26\"], [1.0, \"#f0f921\"]], \"type\": \"histogram2dcontour\"}], \"mesh3d\": [{\"colorbar\": {\"outlinewidth\": 0, \"ticks\": \"\"}, \"type\": \"mesh3d\"}], \"parcoords\": [{\"line\": {\"colorbar\": {\"outlinewidth\": 0, \"ticks\": \"\"}}, \"type\": \"parcoords\"}], \"pie\": [{\"automargin\": true, \"type\": \"pie\"}], \"scatter\": [{\"marker\": {\"colorbar\": {\"outlinewidth\": 0, \"ticks\": \"\"}}, \"type\": \"scatter\"}], \"scatter3d\": [{\"line\": {\"colorbar\": {\"outlinewidth\": 0, \"ticks\": \"\"}}, \"marker\": {\"colorbar\": {\"outlinewidth\": 0, \"ticks\": \"\"}}, \"type\": \"scatter3d\"}], \"scattercarpet\": [{\"marker\": {\"colorbar\": {\"outlinewidth\": 0, \"ticks\": \"\"}}, \"type\": \"scattercarpet\"}], \"scattergeo\": [{\"marker\": {\"colorbar\": {\"outlinewidth\": 0, \"ticks\": \"\"}}, \"type\": \"scattergeo\"}], \"scattergl\": [{\"marker\": {\"colorbar\": {\"outlinewidth\": 0, \"ticks\": \"\"}}, \"type\": \"scattergl\"}], \"scattermapbox\": [{\"marker\": {\"colorbar\": {\"outlinewidth\": 0, \"ticks\": \"\"}}, \"type\": \"scattermapbox\"}], \"scatterpolar\": [{\"marker\": {\"colorbar\": {\"outlinewidth\": 0, \"ticks\": \"\"}}, \"type\": \"scatterpolar\"}], \"scatterpolargl\": [{\"marker\": {\"colorbar\": {\"outlinewidth\": 0, \"ticks\": \"\"}}, \"type\": \"scatterpolargl\"}], \"scatterternary\": [{\"marker\": {\"colorbar\": {\"outlinewidth\": 0, \"ticks\": \"\"}}, \"type\": \"scatterternary\"}], \"surface\": [{\"colorbar\": {\"outlinewidth\": 0, \"ticks\": \"\"}, \"colorscale\": [[0.0, \"#0d0887\"], [0.1111111111111111, \"#46039f\"], [0.2222222222222222, \"#7201a8\"], [0.3333333333333333, \"#9c179e\"], [0.4444444444444444, \"#bd3786\"], [0.5555555555555556, \"#d8576b\"], [0.6666666666666666, \"#ed7953\"], [0.7777777777777778, \"#fb9f3a\"], [0.8888888888888888, \"#fdca26\"], [1.0, \"#f0f921\"]], \"type\": \"surface\"}], \"table\": [{\"cells\": {\"fill\": {\"color\": \"#EBF0F8\"}, \"line\": {\"color\": \"white\"}}, \"header\": {\"fill\": {\"color\": \"#C8D4E3\"}, \"line\": {\"color\": \"white\"}}, \"type\": \"table\"}]}, \"layout\": {\"annotationdefaults\": {\"arrowcolor\": \"#2a3f5f\", \"arrowhead\": 0, \"arrowwidth\": 1}, \"coloraxis\": {\"colorbar\": {\"outlinewidth\": 0, \"ticks\": \"\"}}, \"colorscale\": {\"diverging\": [[0, \"#8e0152\"], [0.1, \"#c51b7d\"], [0.2, \"#de77ae\"], [0.3, \"#f1b6da\"], [0.4, \"#fde0ef\"], [0.5, \"#f7f7f7\"], [0.6, \"#e6f5d0\"], [0.7, \"#b8e186\"], [0.8, \"#7fbc41\"], [0.9, \"#4d9221\"], [1, \"#276419\"]], \"sequential\": [[0.0, \"#0d0887\"], [0.1111111111111111, \"#46039f\"], [0.2222222222222222, \"#7201a8\"], [0.3333333333333333, \"#9c179e\"], [0.4444444444444444, \"#bd3786\"], [0.5555555555555556, \"#d8576b\"], [0.6666666666666666, \"#ed7953\"], [0.7777777777777778, \"#fb9f3a\"], [0.8888888888888888, \"#fdca26\"], [1.0, \"#f0f921\"]], \"sequentialminus\": [[0.0, \"#0d0887\"], [0.1111111111111111, \"#46039f\"], [0.2222222222222222, \"#7201a8\"], [0.3333333333333333, \"#9c179e\"], [0.4444444444444444, \"#bd3786\"], [0.5555555555555556, \"#d8576b\"], [0.6666666666666666, \"#ed7953\"], [0.7777777777777778, \"#fb9f3a\"], [0.8888888888888888, \"#fdca26\"], [1.0, \"#f0f921\"]]}, \"colorway\": [\"#636efa\", \"#EF553B\", \"#00cc96\", \"#ab63fa\", \"#FFA15A\", \"#19d3f3\", \"#FF6692\", \"#B6E880\", \"#FF97FF\", \"#FECB52\"], \"font\": {\"color\": \"#2a3f5f\"}, \"geo\": {\"bgcolor\": \"white\", \"lakecolor\": \"white\", \"landcolor\": \"#E5ECF6\", \"showlakes\": true, \"showland\": true, \"subunitcolor\": \"white\"}, \"hoverlabel\": {\"align\": \"left\"}, \"hovermode\": \"closest\", \"mapbox\": {\"style\": \"light\"}, \"paper_bgcolor\": \"white\", \"plot_bgcolor\": \"#E5ECF6\", \"polar\": {\"angularaxis\": {\"gridcolor\": \"white\", \"linecolor\": \"white\", \"ticks\": \"\"}, \"bgcolor\": \"#E5ECF6\", \"radialaxis\": {\"gridcolor\": \"white\", \"linecolor\": \"white\", \"ticks\": \"\"}}, \"scene\": {\"xaxis\": {\"backgroundcolor\": \"#E5ECF6\", \"gridcolor\": \"white\", \"gridwidth\": 2, \"linecolor\": \"white\", \"showbackground\": true, \"ticks\": \"\", \"zerolinecolor\": \"white\"}, \"yaxis\": {\"backgroundcolor\": \"#E5ECF6\", \"gridcolor\": \"white\", \"gridwidth\": 2, \"linecolor\": \"white\", \"showbackground\": true, \"ticks\": \"\", \"zerolinecolor\": \"white\"}, \"zaxis\": {\"backgroundcolor\": \"#E5ECF6\", \"gridcolor\": \"white\", \"gridwidth\": 2, \"linecolor\": \"white\", \"showbackground\": true, \"ticks\": \"\", \"zerolinecolor\": \"white\"}}, \"shapedefaults\": {\"line\": {\"color\": \"#2a3f5f\"}}, \"ternary\": {\"aaxis\": {\"gridcolor\": \"white\", \"linecolor\": \"white\", \"ticks\": \"\"}, \"baxis\": {\"gridcolor\": \"white\", \"linecolor\": \"white\", \"ticks\": \"\"}, \"bgcolor\": \"#E5ECF6\", \"caxis\": {\"gridcolor\": \"white\", \"linecolor\": \"white\", \"ticks\": \"\"}}, \"title\": {\"x\": 0.05}, \"xaxis\": {\"automargin\": true, \"gridcolor\": \"white\", \"linecolor\": \"white\", \"ticks\": \"\", \"title\": {\"standoff\": 15}, \"zerolinecolor\": \"white\", \"zerolinewidth\": 2}, \"yaxis\": {\"automargin\": true, \"gridcolor\": \"white\", \"linecolor\": \"white\", \"ticks\": \"\", \"title\": {\"standoff\": 15}, \"zerolinecolor\": \"white\", \"zerolinewidth\": 2}}}, \"title\": {\"text\": \"Average Auditory Features by Genre\"}},\n",
       "                        {\"responsive\": true}\n",
       "                    ).then(function(){\n",
       "                            \n",
       "var gd = document.getElementById('92916fd7-e1e3-4e63-9fa9-cb29c780b1d4');\n",
       "var x = new MutationObserver(function (mutations, observer) {{\n",
       "        var display = window.getComputedStyle(gd).display;\n",
       "        if (!display || display === 'none') {{\n",
       "            console.log([gd, 'removed!']);\n",
       "            Plotly.purge(gd);\n",
       "            observer.disconnect();\n",
       "        }}\n",
       "}});\n",
       "\n",
       "// Listen for the removal of the full notebook cells\n",
       "var notebookContainer = gd.closest('#notebook-container');\n",
       "if (notebookContainer) {{\n",
       "    x.observe(notebookContainer, {childList: true});\n",
       "}}\n",
       "\n",
       "// Listen for the clearing of the current output cell\n",
       "var outputEl = gd.closest('.output');\n",
       "if (outputEl) {{\n",
       "    x.observe(outputEl, {childList: true});\n",
       "}}\n",
       "\n",
       "                        })\n",
       "                };\n",
       "                });\n",
       "            </script>\n",
       "        </div>"
      ]
     },
     "metadata": {},
     "output_type": "display_data"
    }
   ],
   "source": [
    "import plotly as py\n",
    "import plotly.graph_objs as go\n",
    "import os\n",
    "plot_data = [\n",
    "    go.Parcoords(\n",
    "        line = dict(color = df['genre'],\n",
    "                   colorscale = [[0/12, '#6C9E12'], \n",
    "                                [1/12,'#0D5F67'], \n",
    "                                [2/12,'yellow'], \n",
    "                                [3/12, '#69178C'], \n",
    "                                [4/12, '#DE9733'],\n",
    "                                [5/12, 'darkolivegreen'],\n",
    "                                [6/12, '#7f7f7f'],\n",
    "                                [7/12, '#e377c2'],\n",
    "                                [8/12, 'cyan'],\n",
    "                                [9/12, 'limegreen'],\n",
    "                                [10/12, 'dodgerblue'],\n",
    "                                [11/12, 'red'],\n",
    "                                [12/12, 'navy']]), \n",
    "        dimensions = list([\n",
    "            dict(range = [0.1,0.62],\n",
    "                label = 'acousticness', values = df['acousticness']),\n",
    "            dict(range = [0.35, 0.6],\n",
    "                label = 'valence', values = df['valence']),\n",
    "            dict(range = [105,125],\n",
    "                label = 'tempo', values = df['tempo']),\n",
    "            dict(range = [-13.5, -5.5],\n",
    "                label = 'loudness', values = df['loudness']),\n",
    "            dict(range = [0.3, 0.8],\n",
    "                label = 'energy', values = df['energy']),\n",
    "            dict(range = [0.04,0.2],\n",
    "                label = 'speechiness', values = df['speechiness']),\n",
    "            dict(range = [4.8,5.5],\n",
    "                label = 'key', values = df['key']),\n",
    "            dict(range = [0.50, .75],\n",
    "                label = 'danceability', values = df['danceability']),\n",
    "            dict(range = [0.006,0.6],\n",
    "                label = 'instrumentalness', values = df['instrumentalness']),\n",
    "            dict(range = [0.14,0.22],\n",
    "                label = 'liveness', values = df['liveness'])\n",
    "           \n",
    "        ]),\n",
    "    )\n",
    "]\n",
    "\n",
    "layout = go.Layout(\n",
    "    autosize=True,\n",
    "    title='Average Auditory Features by Genre'\n",
    ")\n",
    "\n",
    "labels = [\n",
    "        dict(xref='paper', yref='paper', x=0.03, y=-0.085,\n",
    "                              xanchor='center', yanchor='top',\n",
    "                              text=\"jazz\",\n",
    "                              font=dict(family='Arial',\n",
    "                                        size=14,\n",
    "                                        color='yellow'),\n",
    "                              showarrow=False),\n",
    "        dict(xref='paper', yref='paper', x=0.1, y=-0.085,\n",
    "                              xanchor='center', yanchor='top',\n",
    "                              text=\"pop\",\n",
    "                              font=dict(family='Arial',\n",
    "                                        size=14,\n",
    "                                        color='#6C9E12'),\n",
    "                              showarrow=False),\n",
    "        dict(xref='paper', yref='paper', x=0.17, y=-0.085,\n",
    "                              xanchor='center', yanchor='top',\n",
    "                              text=\"rap\",\n",
    "                              font=dict(family='Arial',\n",
    "                                        size=14,\n",
    "                                        color='#0D5F67'),\n",
    "                              showarrow=False),\n",
    "        dict(xref='paper', yref='paper', x=0.24, y=-0.085,\n",
    "                              xanchor='center', yanchor='top',\n",
    "                              text=\"country\",\n",
    "                              font=dict(family='Arial',\n",
    "                                        size=14,\n",
    "                                        color='#69178C'),\n",
    "                              showarrow=False),\n",
    "        dict(xref='paper', yref='paper', x=0.31, y=-0.085,\n",
    "                              xanchor='center', yanchor='top',\n",
    "                              text=\"hip-hop\",\n",
    "                              font=dict(family='Arial',\n",
    "                                        size=14,\n",
    "                                        color='#DE9733'),\n",
    "                              showarrow=False),\n",
    "        dict(xref='paper', yref='paper', x=0.38, y=-0.085,\n",
    "                              xanchor='center', yanchor='top',\n",
    "                              text=\"house\",\n",
    "                              font=dict(family='Arial',\n",
    "                                        size=14,\n",
    "                                        color='darkolivegreen'),\n",
    "                              showarrow=False),\n",
    "        dict(xref='paper', yref='paper', x=0.45, y=-0.085,\n",
    "                              xanchor='center', yanchor='top',\n",
    "                              text=\"rock\",\n",
    "                              font=dict(family='Arial',\n",
    "                                        size=14,\n",
    "                                        color='#7f7f7f'),\n",
    "                              showarrow=False),\n",
    "        dict(xref='paper', yref='paper', x=0.52, y=-0.085,\n",
    "                              xanchor='center', yanchor='top',\n",
    "                              text=\"blues\",\n",
    "                              font=dict(family='Arial',\n",
    "                                        size=14,\n",
    "                                        color='#e377c2'),\n",
    "                              showarrow=False),\n",
    "        dict(xref='paper', yref='paper', x=0.59, y=-0.085,\n",
    "                              xanchor='center', yanchor='top',\n",
    "                              text=\"edm\",\n",
    "                              font=dict(family='Arial',\n",
    "                                        size=14,\n",
    "                                        color='cyan'),\n",
    "                              showarrow=False),\n",
    "        dict(xref='paper', yref='paper', x=0.66, y=-0.085,\n",
    "                              xanchor='center', yanchor='top',\n",
    "                              text=\"folk\",\n",
    "                              font=dict(family='Arial',\n",
    "                                        size=14,\n",
    "                                        color='limegreen'),\n",
    "                              showarrow=False),\n",
    "        dict(xref='paper', yref='paper', x=0.73, y=-0.085,\n",
    "                              xanchor='center', yanchor='top',\n",
    "                              text=\"latin\",\n",
    "                              font=dict(family='Arial',\n",
    "                                        size=14,\n",
    "                                        color='dodgerblue'),\n",
    "                              showarrow=False),\n",
    "        dict(xref='paper', yref='paper', x=0.80, y=-0.085,\n",
    "                              xanchor='center', yanchor='top',\n",
    "                              text=\"r&b\",\n",
    "                              font=dict(family='Arial',\n",
    "                                        size=14,\n",
    "                                        color='red'),\n",
    "                              showarrow=False),\n",
    "        dict(xref='paper', yref='paper', x=0.87, y=-0.085,\n",
    "                              xanchor='center', yanchor='top',\n",
    "                              text=\"indie\",\n",
    "                              font=dict(family='Arial',\n",
    "                                        size=14,\n",
    "                                        color='navy'),\n",
    "                              showarrow=False),\n",
    "        ]\n",
    "layout['annotations'] = labels\n",
    "\n",
    "fig = go.Figure(data = plot_data, layout = layout)\n",
    "fig"
   ]
  },
  {
   "cell_type": "code",
   "execution_count": 67,
   "metadata": {},
   "outputs": [],
   "source": [
    "df2 = df.sort_values(by=['genre'],ascending=True)\n",
    "df2.index = ['pop','rap','jazz','country','hip_hop','house','rock','blues','edm','folk','latin','r&b','indie']"
   ]
  },
  {
   "cell_type": "code",
   "execution_count": 68,
   "metadata": {},
   "outputs": [
    {
     "data": {
      "text/html": [
       "<div>\n",
       "<style scoped>\n",
       "    .dataframe tbody tr th:only-of-type {\n",
       "        vertical-align: middle;\n",
       "    }\n",
       "\n",
       "    .dataframe tbody tr th {\n",
       "        vertical-align: top;\n",
       "    }\n",
       "\n",
       "    .dataframe thead th {\n",
       "        text-align: right;\n",
       "    }\n",
       "</style>\n",
       "<table border=\"1\" class=\"dataframe\">\n",
       "  <thead>\n",
       "    <tr style=\"text-align: right;\">\n",
       "      <th></th>\n",
       "      <th>danceability</th>\n",
       "      <th>energy</th>\n",
       "      <th>key</th>\n",
       "      <th>loudness</th>\n",
       "      <th>mode</th>\n",
       "      <th>speechiness</th>\n",
       "      <th>instrumentalness</th>\n",
       "      <th>acousticness</th>\n",
       "      <th>valence</th>\n",
       "      <th>tempo</th>\n",
       "      <th>liveness</th>\n",
       "      <th>genre</th>\n",
       "    </tr>\n",
       "  </thead>\n",
       "  <tbody>\n",
       "    <tr>\n",
       "      <th>pop</th>\n",
       "      <td>0.634302</td>\n",
       "      <td>0.653854</td>\n",
       "      <td>5.221320</td>\n",
       "      <td>-6.583122</td>\n",
       "      <td>0.624918</td>\n",
       "      <td>0.086936</td>\n",
       "      <td>0.047530</td>\n",
       "      <td>0.253165</td>\n",
       "      <td>0.473252</td>\n",
       "      <td>120.615777</td>\n",
       "      <td>0.184616</td>\n",
       "      <td>0.000000</td>\n",
       "    </tr>\n",
       "    <tr>\n",
       "      <th>rap</th>\n",
       "      <td>0.704603</td>\n",
       "      <td>0.681661</td>\n",
       "      <td>5.209825</td>\n",
       "      <td>-6.068286</td>\n",
       "      <td>0.552932</td>\n",
       "      <td>0.169761</td>\n",
       "      <td>0.051127</td>\n",
       "      <td>0.155572</td>\n",
       "      <td>0.464321</td>\n",
       "      <td>123.139260</td>\n",
       "      <td>0.186737</td>\n",
       "      <td>0.083333</td>\n",
       "    </tr>\n",
       "    <tr>\n",
       "      <th>jazz</th>\n",
       "      <td>0.578202</td>\n",
       "      <td>0.323449</td>\n",
       "      <td>5.342205</td>\n",
       "      <td>-13.332042</td>\n",
       "      <td>0.520913</td>\n",
       "      <td>0.088397</td>\n",
       "      <td>0.564940</td>\n",
       "      <td>0.610038</td>\n",
       "      <td>0.356243</td>\n",
       "      <td>105.071597</td>\n",
       "      <td>0.147783</td>\n",
       "      <td>0.166667</td>\n",
       "    </tr>\n",
       "    <tr>\n",
       "      <th>country</th>\n",
       "      <td>0.586528</td>\n",
       "      <td>0.671035</td>\n",
       "      <td>5.188889</td>\n",
       "      <td>-6.458981</td>\n",
       "      <td>0.877778</td>\n",
       "      <td>0.045913</td>\n",
       "      <td>0.006996</td>\n",
       "      <td>0.236455</td>\n",
       "      <td>0.560721</td>\n",
       "      <td>119.849183</td>\n",
       "      <td>0.162572</td>\n",
       "      <td>0.250000</td>\n",
       "    </tr>\n",
       "    <tr>\n",
       "      <th>hip_hop</th>\n",
       "      <td>0.739920</td>\n",
       "      <td>0.659226</td>\n",
       "      <td>5.217245</td>\n",
       "      <td>-6.442760</td>\n",
       "      <td>0.546473</td>\n",
       "      <td>0.199304</td>\n",
       "      <td>0.013783</td>\n",
       "      <td>0.163806</td>\n",
       "      <td>0.524608</td>\n",
       "      <td>121.002417</td>\n",
       "      <td>0.181883</td>\n",
       "      <td>0.333333</td>\n",
       "    </tr>\n",
       "    <tr>\n",
       "      <th>house</th>\n",
       "      <td>0.629168</td>\n",
       "      <td>0.777436</td>\n",
       "      <td>5.326566</td>\n",
       "      <td>-5.973016</td>\n",
       "      <td>0.515539</td>\n",
       "      <td>0.077659</td>\n",
       "      <td>0.200492</td>\n",
       "      <td>0.109775</td>\n",
       "      <td>0.395071</td>\n",
       "      <td>124.308512</td>\n",
       "      <td>0.212783</td>\n",
       "      <td>0.416667</td>\n",
       "    </tr>\n",
       "    <tr>\n",
       "      <th>rock</th>\n",
       "      <td>0.570035</td>\n",
       "      <td>0.642132</td>\n",
       "      <td>5.117916</td>\n",
       "      <td>-7.723881</td>\n",
       "      <td>0.753656</td>\n",
       "      <td>0.051518</td>\n",
       "      <td>0.059099</td>\n",
       "      <td>0.265054</td>\n",
       "      <td>0.529508</td>\n",
       "      <td>121.151175</td>\n",
       "      <td>0.175923</td>\n",
       "      <td>0.500000</td>\n",
       "    </tr>\n",
       "    <tr>\n",
       "      <th>blues</th>\n",
       "      <td>0.531756</td>\n",
       "      <td>0.631577</td>\n",
       "      <td>4.858974</td>\n",
       "      <td>-8.950590</td>\n",
       "      <td>0.820513</td>\n",
       "      <td>0.059265</td>\n",
       "      <td>0.063540</td>\n",
       "      <td>0.256485</td>\n",
       "      <td>0.592023</td>\n",
       "      <td>123.632936</td>\n",
       "      <td>0.177250</td>\n",
       "      <td>0.583333</td>\n",
       "    </tr>\n",
       "    <tr>\n",
       "      <th>edm</th>\n",
       "      <td>0.619794</td>\n",
       "      <td>0.781797</td>\n",
       "      <td>5.267629</td>\n",
       "      <td>-5.777963</td>\n",
       "      <td>0.518805</td>\n",
       "      <td>0.081180</td>\n",
       "      <td>0.187715</td>\n",
       "      <td>0.111665</td>\n",
       "      <td>0.383237</td>\n",
       "      <td>124.850424</td>\n",
       "      <td>0.220285</td>\n",
       "      <td>0.666667</td>\n",
       "    </tr>\n",
       "    <tr>\n",
       "      <th>folk</th>\n",
       "      <td>0.537428</td>\n",
       "      <td>0.476805</td>\n",
       "      <td>5.066782</td>\n",
       "      <td>-9.578625</td>\n",
       "      <td>0.771032</td>\n",
       "      <td>0.046612</td>\n",
       "      <td>0.067035</td>\n",
       "      <td>0.511825</td>\n",
       "      <td>0.411590</td>\n",
       "      <td>117.856901</td>\n",
       "      <td>0.148201</td>\n",
       "      <td>0.750000</td>\n",
       "    </tr>\n",
       "    <tr>\n",
       "      <th>latin</th>\n",
       "      <td>0.655299</td>\n",
       "      <td>0.656844</td>\n",
       "      <td>5.418033</td>\n",
       "      <td>-6.520493</td>\n",
       "      <td>0.646516</td>\n",
       "      <td>0.081785</td>\n",
       "      <td>0.011386</td>\n",
       "      <td>0.286827</td>\n",
       "      <td>0.583852</td>\n",
       "      <td>123.957187</td>\n",
       "      <td>0.180583</td>\n",
       "      <td>0.833333</td>\n",
       "    </tr>\n",
       "    <tr>\n",
       "      <th>r&amp;b</th>\n",
       "      <td>0.659519</td>\n",
       "      <td>0.590105</td>\n",
       "      <td>5.268202</td>\n",
       "      <td>-7.231200</td>\n",
       "      <td>0.572808</td>\n",
       "      <td>0.112486</td>\n",
       "      <td>0.034626</td>\n",
       "      <td>0.280279</td>\n",
       "      <td>0.492175</td>\n",
       "      <td>114.949690</td>\n",
       "      <td>0.169203</td>\n",
       "      <td>0.916667</td>\n",
       "    </tr>\n",
       "    <tr>\n",
       "      <th>indie</th>\n",
       "      <td>0.585660</td>\n",
       "      <td>0.553462</td>\n",
       "      <td>5.231791</td>\n",
       "      <td>-8.242031</td>\n",
       "      <td>0.674447</td>\n",
       "      <td>0.067943</td>\n",
       "      <td>0.087592</td>\n",
       "      <td>0.371477</td>\n",
       "      <td>0.414222</td>\n",
       "      <td>117.905800</td>\n",
       "      <td>0.164489</td>\n",
       "      <td>1.000000</td>\n",
       "    </tr>\n",
       "  </tbody>\n",
       "</table>\n",
       "</div>"
      ],
      "text/plain": [
       "         danceability    energy       key   loudness      mode  speechiness  \\\n",
       "pop          0.634302  0.653854  5.221320  -6.583122  0.624918     0.086936   \n",
       "rap          0.704603  0.681661  5.209825  -6.068286  0.552932     0.169761   \n",
       "jazz         0.578202  0.323449  5.342205 -13.332042  0.520913     0.088397   \n",
       "country      0.586528  0.671035  5.188889  -6.458981  0.877778     0.045913   \n",
       "hip_hop      0.739920  0.659226  5.217245  -6.442760  0.546473     0.199304   \n",
       "house        0.629168  0.777436  5.326566  -5.973016  0.515539     0.077659   \n",
       "rock         0.570035  0.642132  5.117916  -7.723881  0.753656     0.051518   \n",
       "blues        0.531756  0.631577  4.858974  -8.950590  0.820513     0.059265   \n",
       "edm          0.619794  0.781797  5.267629  -5.777963  0.518805     0.081180   \n",
       "folk         0.537428  0.476805  5.066782  -9.578625  0.771032     0.046612   \n",
       "latin        0.655299  0.656844  5.418033  -6.520493  0.646516     0.081785   \n",
       "r&b          0.659519  0.590105  5.268202  -7.231200  0.572808     0.112486   \n",
       "indie        0.585660  0.553462  5.231791  -8.242031  0.674447     0.067943   \n",
       "\n",
       "         instrumentalness  acousticness   valence       tempo  liveness  \\\n",
       "pop              0.047530      0.253165  0.473252  120.615777  0.184616   \n",
       "rap              0.051127      0.155572  0.464321  123.139260  0.186737   \n",
       "jazz             0.564940      0.610038  0.356243  105.071597  0.147783   \n",
       "country          0.006996      0.236455  0.560721  119.849183  0.162572   \n",
       "hip_hop          0.013783      0.163806  0.524608  121.002417  0.181883   \n",
       "house            0.200492      0.109775  0.395071  124.308512  0.212783   \n",
       "rock             0.059099      0.265054  0.529508  121.151175  0.175923   \n",
       "blues            0.063540      0.256485  0.592023  123.632936  0.177250   \n",
       "edm              0.187715      0.111665  0.383237  124.850424  0.220285   \n",
       "folk             0.067035      0.511825  0.411590  117.856901  0.148201   \n",
       "latin            0.011386      0.286827  0.583852  123.957187  0.180583   \n",
       "r&b              0.034626      0.280279  0.492175  114.949690  0.169203   \n",
       "indie            0.087592      0.371477  0.414222  117.905800  0.164489   \n",
       "\n",
       "            genre  \n",
       "pop      0.000000  \n",
       "rap      0.083333  \n",
       "jazz     0.166667  \n",
       "country  0.250000  \n",
       "hip_hop  0.333333  \n",
       "house    0.416667  \n",
       "rock     0.500000  \n",
       "blues    0.583333  \n",
       "edm      0.666667  \n",
       "folk     0.750000  \n",
       "latin    0.833333  \n",
       "r&b      0.916667  \n",
       "indie    1.000000  "
      ]
     },
     "execution_count": 68,
     "metadata": {},
     "output_type": "execute_result"
    }
   ],
   "source": [
    "df2"
   ]
  },
  {
   "cell_type": "code",
   "execution_count": null,
   "metadata": {},
   "outputs": [],
   "source": []
  }
 ],
 "metadata": {
  "kernelspec": {
   "display_name": "Python 3",
   "language": "python",
   "name": "python3"
  },
  "language_info": {
   "codemirror_mode": {
    "name": "ipython",
    "version": 3
   },
   "file_extension": ".py",
   "mimetype": "text/x-python",
   "name": "python",
   "nbconvert_exporter": "python",
   "pygments_lexer": "ipython3",
   "version": "3.7.3"
  }
 },
 "nbformat": 4,
 "nbformat_minor": 2
}
