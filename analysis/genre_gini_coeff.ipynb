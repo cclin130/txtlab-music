{
 "cells": [
  {
   "cell_type": "markdown",
   "metadata": {},
   "source": [
    "# Genre Gini Coeff\n",
    "\n",
    "This notebook looks at the gini coefficient of appearances across genres. As with the other genre analysis, we based our list of high-level genres on a wikipedia list, then added additional ones based off of frequently occuring groups.\n",
    "\n",
    "#### Genres\n",
    "From wikipedia list:\n",
    "    - Afro (not included)\n",
    "    - Comedy (not include)\n",
    "    - Avant-garde (not included)\n",
    "    - Blues\n",
    "    - Caribbean and Caribbean-influenced (not included)\n",
    "    - Easy Listening (not included)\n",
    "    - Country \n",
    "    - Electronic\n",
    "    - Folk\n",
    "    - Flamenco (not included)\n",
    "    - Hip Hop\n",
    "    - Jazz \n",
    "    - Latin\n",
    "    - Pop\n",
    "    - R&B and Soul\n",
    "    - Rock\n",
    "Added:\n",
    "    - House\n",
    "    - Rap\n",
    "    - Indie"
   ]
  },
  {
   "cell_type": "code",
   "execution_count": 6,
   "metadata": {},
   "outputs": [],
   "source": [
    "import pandas as pd\n",
    "import numpy as np\n",
    "import os, re\n",
    "from datetime import date, timedelta\n",
    "import matplotlib.pyplot as plt\n",
    "\n",
    "from analysis_utils import get_num_appearances, get_all_entries, gini,\\\n",
    "    track_concentration_ratio\n",
    "\n",
    "from analysis_utils import get_label_count, \\\n",
    "    get_genres, get_genre_list"
   ]
  },
  {
   "cell_type": "code",
   "execution_count": 7,
   "metadata": {},
   "outputs": [],
   "source": [
    "# get dataframe with all entries\n",
    "data = pd.read_csv('../spotify_data/all_tracks.csv')"
   ]
  },
  {
   "cell_type": "code",
   "execution_count": 8,
   "metadata": {},
   "outputs": [],
   "source": [
    "# organize tracks into their respective genres\n",
    "pd.options.mode.chained_assignment = None\n",
    "\n",
    "hip_list = get_genre_list(data,'hip hop')\n",
    "hip_hop = data.iloc[hip_list,:]\n",
    "hip_hop['genre'] = 'hh'\n",
    "hip_hop.name = 'hip_hop'\n",
    "\n",
    "rock_list = get_genre_list(data,'rock')\n",
    "rock = data.iloc[rock_list,:]\n",
    "rock['genre'] = 'rk'\n",
    "rock.name = 'rock'\n",
    "\n",
    "blues_list = get_genre_list(data,'blues')\n",
    "blues = data.iloc[blues_list,:]\n",
    "blues['genre'] = 'bl'\n",
    "blues.name = 'blues'\n",
    "\n",
    "country_list = get_genre_list(data,'country')\n",
    "country = data.iloc[country_list,:]\n",
    "country['genre'] = 'ct'\n",
    "country.name = 'country'\n",
    "\n",
    "electronic_list = get_genre_list(data,'(electronic)|(edm)')\n",
    "electronic = data.iloc[electronic_list,:]\n",
    "electronic['genre'] = 'el'\n",
    "electronic.name = 'electronic'\n",
    "\n",
    "folk_list = get_genre_list(data,'folk')\n",
    "folk = data.iloc[folk_list,:]\n",
    "folk['genre'] = 'fk'\n",
    "folk.name = 'folk'\n",
    "\n",
    "jazz_list = get_genre_list(data,'jazz')\n",
    "jazz = data.iloc[jazz_list,:]\n",
    "jazz['genre'] = 'jz'\n",
    "jazz.name = 'jazz'\n",
    "\n",
    "latin_list = get_genre_list(data,'latin')\n",
    "latin = data.iloc[latin_list,:]\n",
    "latin['genre'] ='la'\n",
    "latin.name = 'latin'\n",
    "\n",
    "pop_list = get_genre_list(data,'pop')\n",
    "pop = data.iloc[pop_list,:]\n",
    "pop['genre'] = 'pp'\n",
    "pop.name = 'pop'\n",
    "\n",
    "r_b_list = get_genre_list(data,'(r&b)|(soul)')\n",
    "r_b = data.iloc[r_b_list,:]\n",
    "r_b['genre'] = 'rb'\n",
    "r_b.name = \"r&b/soul\"\n",
    "\n",
    "indie_list = get_genre_list(data,'indie')\n",
    "indie = data.iloc[indie_list,:]\n",
    "indie['genre'] = 'in'\n",
    "indie.name = 'indie'\n",
    "\n",
    "house_list = get_genre_list(data,'house')\n",
    "house = data.iloc[house_list,]\n",
    "house['genre'] = 'hs'\n",
    "house.name = 'house'\n",
    "\n",
    "rap_list = get_genre_list(data,'rap')\n",
    "rap = data.iloc[rap_list,]\n",
    "rap['genre'] = 'rp'\n",
    "rap.name = 'rap'"
   ]
  },
  {
   "cell_type": "code",
   "execution_count": 26,
   "metadata": {},
   "outputs": [
    {
     "name": "stdout",
     "output_type": "stream",
     "text": [
      "hip_hop: 18369 tracks\n",
      "pop: 109776 tracks\n",
      "rock: 19571 tracks\n",
      "blues: 670 tracks\n",
      "rap: 28990 tracks\n",
      "country: 4468 tracks\n",
      "electronic: 32664 tracks\n",
      "folk: 13430 tracks\n",
      "indie: 22355 tracks\n",
      "jazz: 2696 tracks\n",
      "latin: 11356 tracks\n",
      "r&b/soul: 13698 tracks\n",
      "house: 43592 tracks\n"
     ]
    }
   ],
   "source": [
    "# get number of entries in each genre\n",
    "genre_list = [hip_hop, pop, rock, blues, rap, country, electronic, folk, indie, jazz, latin, r_b, house]\n",
    "genre_lengths = []\n",
    "for df_genre in genre_list:\n",
    "    print('%s: %d tracks' % (str(df_genre.name), len(df_genre)))\n",
    "    genre_lengths.append(len(df_genre))"
   ]
  },
  {
   "cell_type": "code",
   "execution_count": 16,
   "metadata": {},
   "outputs": [],
   "source": [
    "df_all = get_all_entries('spotify_curated', ['track_name', 'track_id'])"
   ]
  },
  {
   "cell_type": "code",
   "execution_count": 18,
   "metadata": {},
   "outputs": [],
   "source": [
    "# calculate gini coefficient for solely the tracks in each genre\n",
    "gini_coeffs = []\n",
    "for df_genre in genre_list:\n",
    "    df_genre_temp = df_genre.drop_duplicates(['track_id'])\n",
    "    appearances = []\n",
    "    \n",
    "    for index, row in df_genre_temp.iterrows():   \n",
    "        count = len(df_all[df_all['track_id'] == row['track_id']])\n",
    "        if count != 0:\n",
    "            appearances.append(count)\n",
    "            \n",
    "    appearances_temp = np.asarray(appearances)\n",
    "    gini_coeffs.append(gini(appearances_temp))"
   ]
  },
  {
   "cell_type": "code",
   "execution_count": 25,
   "metadata": {},
   "outputs": [
    {
     "name": "stdout",
     "output_type": "stream",
     "text": [
      "hip_hop gini: 0.525375\n",
      "pop gini: 0.511412\n",
      "rock gini: 0.517274\n",
      "blues gini: 0.493628\n",
      "rap gini: 0.512662\n",
      "country gini: 0.485668\n",
      "electronic gini: 0.446856\n",
      "folk gini: 0.377754\n",
      "indie gini: 0.452293\n",
      "jazz gini: 0.236929\n",
      "latin gini: 0.576925\n",
      "r&b/soul gini: 0.527173\n",
      "house gini: 0.456588\n"
     ]
    }
   ],
   "source": [
    "for df_genre, gini_coeff in zip(genre_list, gini_coeffs):\n",
    "    print('%s gini: %f' % (str(df_genre.name), gini_coeff))"
   ]
  },
  {
   "cell_type": "code",
   "execution_count": 30,
   "metadata": {},
   "outputs": [
    {
     "data": {
      "text/plain": [
       "Text(0, 0.5, 'Gini coefficient')"
      ]
     },
     "execution_count": 30,
     "metadata": {},
     "output_type": "execute_result"
    },
    {
     "data": {
      "image/png": "[encoded data removed]",
      "text/plain": [
       "<Figure size 432x288 with 1 Axes>"
      ]
     },
     "metadata": {
      "needs_background": "light"
     },
     "output_type": "display_data"
    }
   ],
   "source": [
    "# plot gini coeff vs. length of genre\n",
    "plt.title('Gini coefficient of genre vs. # Tracks in genre')\n",
    "plt.scatter(genre_lengths, gini_coeffs)\n",
    "plt.xlabel('# tracks in genre')\n",
    "plt.ylabel('Gini coefficient')"
   ]
  }
 ],
 "metadata": {
  "kernelspec": {
   "display_name": "Python 3",
   "language": "python",
   "name": "python3"
  },
  "language_info": {
   "codemirror_mode": {
    "name": "ipython",
    "version": 3
   },
   "file_extension": ".py",
   "mimetype": "text/x-python",
   "name": "python",
   "nbconvert_exporter": "python",
   "pygments_lexer": "ipython3",
   "version": "3.6.7"
  }
 },
 "nbformat": 4,
 "nbformat_minor": 2
}
