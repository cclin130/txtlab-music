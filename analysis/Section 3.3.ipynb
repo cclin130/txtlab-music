{
 "cells": [
  {
   "cell_type": "markdown",
   "metadata": {},
   "source": [
    "### Jupyter Notebook for section 3.3\n",
    "This notebook looks at record label representation"
   ]
  },
  {
   "cell_type": "code",
   "execution_count": 3,
   "metadata": {},
   "outputs": [],
   "source": [
    "import pandas as pd\n",
    "import numpy as np\n",
    "import os, re\n",
    "from datetime import date, timedelta\n",
    "import seaborn as sns\n",
    "import matplotlib.pyplot as plt\n",
    "from scipy import stats\n",
    "from analysis_utils import CR2, gini"
   ]
  },
  {
   "cell_type": "code",
   "execution_count": 4,
   "metadata": {},
   "outputs": [],
   "source": [
    "unique_tracks = pd.read_csv('../spotify_data/all_unique_track.csv')\n",
    "all_tracks = pd.read_csv('../spotify_data/all_tracks_with_labels.csv')"
   ]
  },
  {
   "cell_type": "code",
   "execution_count": 5,
   "metadata": {},
   "outputs": [
    {
     "name": "stdout",
     "output_type": "stream",
     "text": [
      "2.567945643485212 % labels missing\n"
     ]
    }
   ],
   "source": [
    "label_list = unique_tracks[['album_label']]\n",
    "print((len(label_list[label_list['album_label'].isna()])/len(label_list)) * 100, '% labels missing')"
   ]
  },
  {
   "cell_type": "code",
   "execution_count": 6,
   "metadata": {},
   "outputs": [],
   "source": [
    "def get_label_count(tracks):\n",
    "    label_dict = {}\n",
    "    for i in range(0,len(tracks)):\n",
    "        label = tracks.iloc[i,0]\n",
    "        if label is np.nan: continue\n",
    "        labels = label.split('/')\n",
    "        for label in labels:\n",
    "            label_dict[label] = label_dict.get(label, 0) + 1\n",
    "\n",
    "    labels_unique = pd.DataFrame.from_dict(label_dict, orient = 'index').reset_index()\n",
    "    labels_unique.columns = ['label', 'count']\n",
    "    \n",
    "    return labels_unique"
   ]
  },
  {
   "cell_type": "code",
   "execution_count": 7,
   "metadata": {},
   "outputs": [],
   "source": [
    "# function to calculate top 2 concentration ratio. input df with labels\n",
    "def CR2(tracks):\n",
    "    label_dict = {}\n",
    "    is_na = 0\n",
    "    for i in range(0,len(tracks)):\n",
    "        label = tracks.iloc[i,0]\n",
    "        if label is np.nan:\n",
    "            is_na += 1\n",
    "            continue\n",
    "        labels = label.split('/')\n",
    "        for label in labels:\n",
    "            label_dict[label] = label_dict.get(label, 0) + 1\n",
    "\n",
    "    labels = pd.DataFrame.from_dict(label_dict, orient = 'index').reset_index()\n",
    "    labels.columns = ['label', 'count']\n",
    "    labels = labels.sort_values(by=['count'], ascending=False)\n",
    "    total = len(tracks) - is_na\n",
    "    l1 = labels.iloc[0,1]\n",
    "    l2 = labels.iloc[1,1]\n",
    "    \n",
    "    return (l1+l2)/total"
   ]
  },
  {
   "cell_type": "code",
   "execution_count": 8,
   "metadata": {},
   "outputs": [],
   "source": [
    "all_tracks = all_tracks.replace({'RCA Records Label': 'RCA Records'})\n",
    "all_tracks = all_tracks.replace({'WALT DISNEY RECORDS': 'Walt Disney Records'})\n",
    "unique_tracks = unique_tracks.replace({'RCA Records Label': 'RCA Records'})"
   ]
  },
  {
   "cell_type": "code",
   "execution_count": 9,
   "metadata": {},
   "outputs": [
    {
     "name": "stdout",
     "output_type": "stream",
     "text": [
      "CR2 for all tracks:  7.46276976245111\n"
     ]
    }
   ],
   "source": [
    "print('CR2 for all tracks: ', CR2(all_tracks[['label']])*100)"
   ]
  },
  {
   "cell_type": "code",
   "execution_count": 10,
   "metadata": {},
   "outputs": [
    {
     "name": "stdout",
     "output_type": "stream",
     "text": [
      "CR2 for unique tracks:  6.5736847502820215\n"
     ]
    }
   ],
   "source": [
    "print('CR2 for unique tracks: ', CR2(unique_tracks[['album_label']])*100)"
   ]
  },
  {
   "cell_type": "code",
   "execution_count": 11,
   "metadata": {},
   "outputs": [
    {
     "data": {
      "image/png": "[encoded data removed]",
      "text/plain": [
       "<Figure size 432x288 with 1 Axes>"
      ]
     },
     "metadata": {
      "needs_background": "light"
     },
     "output_type": "display_data"
    }
   ],
   "source": [
    "all_array = np.asarray(get_label_count(all_tracks[['label']])['count'])\n",
    "all_array.sort()\n",
    "plt.title('Number tracks per labels (all tracks)')\n",
    "plt.plot(all_array)\n",
    "plt.savefig('.png')"
   ]
  },
  {
   "cell_type": "code",
   "execution_count": 12,
   "metadata": {},
   "outputs": [
    {
     "data": {
      "text/plain": [
       "[<matplotlib.lines.Line2D at 0x1a26125cd0>]"
      ]
     },
     "execution_count": 12,
     "metadata": {},
     "output_type": "execute_result"
    },
    {
     "data": {
      "image/png": "[encoded data removed]",
      "text/plain": [
       "<Figure size 432x288 with 1 Axes>"
      ]
     },
     "metadata": {
      "needs_background": "light"
     },
     "output_type": "display_data"
    }
   ],
   "source": [
    "unique_array = np.asarray(get_label_count(unique_tracks[['album_label']])['count'])\n",
    "unique_array.sort()\n",
    "plt.title('Num tracks vs. Labels (unique tracks)')\n",
    "plt.plot(unique_array)"
   ]
  },
  {
   "cell_type": "markdown",
   "metadata": {},
   "source": [
    "### By Class"
   ]
  },
  {
   "cell_type": "code",
   "execution_count": 13,
   "metadata": {},
   "outputs": [
    {
     "name": "stdout",
     "output_type": "stream",
     "text": [
      "CR2 for SCL tracks:  5.989327682901937\n"
     ]
    }
   ],
   "source": [
    "scl = all_tracks[all_tracks['playlist_type']=='s']\n",
    "print('CR2 for SCL tracks: ', CR2(scl[['label']])*100)"
   ]
  },
  {
   "cell_type": "code",
   "execution_count": 31,
   "metadata": {},
   "outputs": [
    {
     "name": "stdout",
     "output_type": "stream",
     "text": [
      "CR2 for UCL tracks:  9.648662354647284\n"
     ]
    }
   ],
   "source": [
    "ucl = all_tracks[all_tracks['playlist_type']== 'u']\n",
    "print('CR2 for UCL tracks: ', CR2(ucl[['label']])*100)"
   ]
  },
  {
   "cell_type": "code",
   "execution_count": 40,
   "metadata": {},
   "outputs": [
    {
     "name": "stdout",
     "output_type": "stream",
     "text": [
      "Gini for SCL:  0.7306917003955271\n"
     ]
    }
   ],
   "source": [
    "print('Gini for SCL: ', gini(np.asarray(get_label_count(scl[['label']])['count'])))"
   ]
  },
  {
   "cell_type": "code",
   "execution_count": 16,
   "metadata": {},
   "outputs": [
    {
     "name": "stdout",
     "output_type": "stream",
     "text": [
      "Gini for UCL:  0.8083117829069344\n"
     ]
    }
   ],
   "source": [
    "print('Gini for UCL: ', gini(np.asarray(get_label_count(ucl[['label']])['count'])))"
   ]
  },
  {
   "cell_type": "code",
   "execution_count": 15,
   "metadata": {},
   "outputs": [
    {
     "data": {
      "image/png": "[encoded data removed]",
      "text/plain": [
       "<Figure size 432x288 with 1 Axes>"
      ]
     },
     "metadata": {
      "needs_background": "light"
     },
     "output_type": "display_data"
    }
   ],
   "source": [
    "scl_array = np.asarray(get_label_count(scl[['label']])['count'])\n",
    "scl_array.sort()\n",
    "plt.title('Number of appearances per label (SCL)')\n",
    "plt.plot(scl_array)\n",
    "plt.xlabel('label')\n",
    "plt.ylabel('# of appearances')\n",
    "plt.savefig('num_label_SCL.png')"
   ]
  },
  {
   "cell_type": "code",
   "execution_count": 17,
   "metadata": {},
   "outputs": [
    {
     "data": {
      "image/png": "[encoded data removed]",
      "text/plain": [
       "<Figure size 432x288 with 1 Axes>"
      ]
     },
     "metadata": {
      "needs_background": "light"
     },
     "output_type": "display_data"
    }
   ],
   "source": [
    "ucl_array = np.asarray(get_label_count(ucl[['label']])['count'])\n",
    "ucl_array.sort()\n",
    "plt.title('Number of appearances per label (UCL)')\n",
    "plt.plot(ucl_array)\n",
    "plt.xlabel('label')\n",
    "plt.ylabel('# of appearances')\n",
    "plt.savefig('num_label_UCL.png')"
   ]
  },
  {
   "cell_type": "markdown",
   "metadata": {},
   "source": [
    "### Across Spotify as a whole"
   ]
  },
  {
   "cell_type": "code",
   "execution_count": 36,
   "metadata": {},
   "outputs": [
    {
     "name": "stdout",
     "output_type": "stream",
     "text": [
      "Gini for all tracks:  0.8061446293944039\n"
     ]
    }
   ],
   "source": [
    "print('Gini for all tracks: ', gini(np.asarray(get_label_count(all_tracks[['label']])['count'])))"
   ]
  },
  {
   "cell_type": "code",
   "execution_count": 28,
   "metadata": {},
   "outputs": [
    {
     "name": "stdout",
     "output_type": "stream",
     "text": [
      "CR2 for all tracks:  7.46276976245111\n"
     ]
    }
   ],
   "source": [
    "print('CR2 for all tracks: ', CR2(all_tracks[['label']])*100)"
   ]
  },
  {
   "cell_type": "markdown",
   "metadata": {},
   "source": [
    "### Label Gini Coefficients"
   ]
  },
  {
   "cell_type": "code",
   "execution_count": 18,
   "metadata": {},
   "outputs": [],
   "source": [
    "unique_lists = scl['playlist_name'].unique()\n",
    "names = []\n",
    "gini_coefs = []\n",
    "cr2 = []\n",
    "for playlist in unique_lists:\n",
    "    names.append(playlist)\n",
    "    tracks = scl[scl['playlist_name']==playlist]\n",
    "    counts = get_label_count(tracks[['label']])\n",
    "    gini_coefs.append(gini(np.asarray(counts['count'])))\n",
    "    top_2 = counts.sort_values(by=['count'], ascending=False).head(2)\n",
    "    l1 = top_2.iloc[0,1]\n",
    "    l2 = top_2.iloc[1,1]\n",
    "    cr2.append((l1+l2)/counts['count'].sum())\n",
    "                      \n",
    "list_labels_scl = pd.DataFrame()\n",
    "list_labels_scl['playlist_name'] = names\n",
    "list_labels_scl['gini'] = gini_coefs\n",
    "list_labels_scl['cr2'] = cr2"
   ]
  },
  {
   "cell_type": "code",
   "execution_count": 19,
   "metadata": {},
   "outputs": [],
   "source": [
    "unique_lists = ucl['playlist_name'].unique()\n",
    "names = []\n",
    "gini_coefs = []\n",
    "cr2 = []\n",
    "for playlist in unique_lists:\n",
    "    names.append(playlist)\n",
    "    tracks = ucl[ucl['playlist_name']==playlist]\n",
    "    counts = get_label_count(tracks[['label']])\n",
    "    gini_coefs.append(gini(np.asarray(counts['count'])))\n",
    "    top_2 = counts.sort_values(by=['count'], ascending=False).head(2)\n",
    "    l1 = top_2.iloc[0,1]\n",
    "    l2 = top_2.iloc[1,1]\n",
    "    cr2.append((l1+l2)/counts['count'].sum())\n",
    "                      \n",
    "list_labels_ucl = pd.DataFrame()\n",
    "list_labels_ucl['playlist_name'] = names\n",
    "list_labels_ucl['gini'] = gini_coefs\n",
    "list_labels_ucl['cr2'] = cr2"
   ]
  },
  {
   "cell_type": "code",
   "execution_count": 20,
   "metadata": {},
   "outputs": [
    {
     "data": {
      "image/png": "[encoded data removed]",
      "text/plain": [
       "<Figure size 432x288 with 1 Axes>"
      ]
     },
     "metadata": {
      "needs_background": "light"
     },
     "output_type": "display_data"
    }
   ],
   "source": [
    "fig, ax = plt.subplots()\n",
    "ax.set_title('Label Gini coefficient per playlist')\n",
    "ax.boxplot([np.asarray(list_labels_scl['gini']), np.asarray(list_labels_ucl['gini'])])\n",
    "ax.set_xticklabels(['SCL', 'UCL'])\n",
    "plt.ylabel('Gini coefficient')\n",
    "plt.savefig('gini_label_boxplot.png')"
   ]
  },
  {
   "cell_type": "code",
   "execution_count": 22,
   "metadata": {},
   "outputs": [
    {
     "data": {
      "image/png": "[encoded data removed]",
      "text/plain": [
       "<Figure size 432x288 with 1 Axes>"
      ]
     },
     "metadata": {
      "needs_background": "light"
     },
     "output_type": "display_data"
    }
   ],
   "source": [
    "fig, ax = plt.subplots()\n",
    "ax.set_title('Label CR2 per playlist')\n",
    "ax.boxplot([np.asarray(list_labels_scl['cr2']*100), np.asarray(list_labels_ucl['cr2']*100)])\n",
    "ax.set_xticklabels(['SCL', 'UCL'])\n",
    "plt.ylabel('CR2')\n",
    "plt.savefig('cr2_label_boxplot.png')"
   ]
  },
  {
   "cell_type": "code",
   "execution_count": 23,
   "metadata": {},
   "outputs": [],
   "source": [
    "unique_lists = scl['playlist_name'].unique()\n",
    "names = []\n",
    "gini_coefs = []\n",
    "cr2 = []\n",
    "top_labels = []\n",
    "for playlist in unique_lists:\n",
    "    top_2_labels = []\n",
    "    names.append(playlist)\n",
    "    tracks = scl[scl['playlist_name']==playlist]\n",
    "    counts = get_label_count(tracks[['label']])\n",
    "    gini_coefs.append(gini(np.asarray(counts['count'])))\n",
    "    top_2 = counts.sort_values(by=['count'], ascending=False).head(2)\n",
    "    l1 = top_2.iloc[0,1]\n",
    "    l2 = top_2.iloc[1,1]\n",
    "    cr2.append((l1+l2)/counts['count'].sum())\n",
    "    l1 = top_2.iloc[0,0]\n",
    "    l2 = top_2.iloc[1,0]\n",
    "    top_2_labels.append(l1)\n",
    "    top_2_labels.append(l2)\n",
    "    top_labels.append(top_2_labels)\n",
    "                      \n",
    "list_labels_scl = pd.DataFrame()\n",
    "list_labels_scl['playlist_name'] = names\n",
    "list_labels_scl['gini'] = gini_coefs\n",
    "list_labels_scl['cr2'] = cr2\n",
    "list_labels_scl['top_2'] = top_labels"
   ]
  },
  {
   "cell_type": "code",
   "execution_count": 24,
   "metadata": {},
   "outputs": [
    {
     "data": {
      "text/html": [
       "<div>\n",
       "<style scoped>\n",
       "    .dataframe tbody tr th:only-of-type {\n",
       "        vertical-align: middle;\n",
       "    }\n",
       "\n",
       "    .dataframe tbody tr th {\n",
       "        vertical-align: top;\n",
       "    }\n",
       "\n",
       "    .dataframe thead th {\n",
       "        text-align: right;\n",
       "    }\n",
       "</style>\n",
       "<table border=\"1\" class=\"dataframe\">\n",
       "  <thead>\n",
       "    <tr style=\"text-align: right;\">\n",
       "      <th></th>\n",
       "      <th>playlist_name</th>\n",
       "      <th>gini</th>\n",
       "      <th>cr2</th>\n",
       "      <th>top_2</th>\n",
       "    </tr>\n",
       "  </thead>\n",
       "  <tbody>\n",
       "    <tr>\n",
       "      <th>42</th>\n",
       "      <td>Esquenta_Sertanejo</td>\n",
       "      <td>0.650641</td>\n",
       "      <td>0.655034</td>\n",
       "      <td>[Som Livre, Sony Music Entertainment]</td>\n",
       "    </tr>\n",
       "    <tr>\n",
       "      <th>50</th>\n",
       "      <td>Pop_Brasil</td>\n",
       "      <td>0.689503</td>\n",
       "      <td>0.468750</td>\n",
       "      <td>[Universal Music International Ltda., WM Brazil]</td>\n",
       "    </tr>\n",
       "    <tr>\n",
       "      <th>54</th>\n",
       "      <td>Funk_Hits</td>\n",
       "      <td>0.603184</td>\n",
       "      <td>0.452794</td>\n",
       "      <td>[WM Brazil, GR6 MUSIC]</td>\n",
       "    </tr>\n",
       "    <tr>\n",
       "      <th>29</th>\n",
       "      <td>Top_Brasil</td>\n",
       "      <td>0.668295</td>\n",
       "      <td>0.361222</td>\n",
       "      <td>[WM Brazil, Som Livre]</td>\n",
       "    </tr>\n",
       "    <tr>\n",
       "      <th>72</th>\n",
       "      <td>Baladas_Románticas</td>\n",
       "      <td>0.707233</td>\n",
       "      <td>0.331143</td>\n",
       "      <td>[Columbia, Sony Music Latin]</td>\n",
       "    </tr>\n",
       "    <tr>\n",
       "      <th>...</th>\n",
       "      <td>...</td>\n",
       "      <td>...</td>\n",
       "      <td>...</td>\n",
       "      <td>...</td>\n",
       "    </tr>\n",
       "    <tr>\n",
       "      <th>33</th>\n",
       "      <td>Dance_Rewind</td>\n",
       "      <td>0.505781</td>\n",
       "      <td>0.067833</td>\n",
       "      <td>[Ultra Records, LLC, Now! Music]</td>\n",
       "    </tr>\n",
       "    <tr>\n",
       "      <th>19</th>\n",
       "      <td>Good_Vibes</td>\n",
       "      <td>0.215165</td>\n",
       "      <td>0.065979</td>\n",
       "      <td>[Columbia, RCA Records]</td>\n",
       "    </tr>\n",
       "    <tr>\n",
       "      <th>12</th>\n",
       "      <td>Beast_Mode</td>\n",
       "      <td>0.463601</td>\n",
       "      <td>0.055435</td>\n",
       "      <td>[Reach Records, Spinnin' Records]</td>\n",
       "    </tr>\n",
       "    <tr>\n",
       "      <th>68</th>\n",
       "      <td>The_Most_Beautiful_Songs_in_the_World</td>\n",
       "      <td>0.173369</td>\n",
       "      <td>0.051661</td>\n",
       "      <td>[Columbia, Secret City Records]</td>\n",
       "    </tr>\n",
       "    <tr>\n",
       "      <th>30</th>\n",
       "      <td>Brain_Food</td>\n",
       "      <td>0.443449</td>\n",
       "      <td>0.049398</td>\n",
       "      <td>[mau5trap Recordings Limited, Five]</td>\n",
       "    </tr>\n",
       "  </tbody>\n",
       "</table>\n",
       "<p>74 rows × 4 columns</p>\n",
       "</div>"
      ],
      "text/plain": [
       "                            playlist_name      gini       cr2  \\\n",
       "42                     Esquenta_Sertanejo  0.650641  0.655034   \n",
       "50                             Pop_Brasil  0.689503  0.468750   \n",
       "54                              Funk_Hits  0.603184  0.452794   \n",
       "29                             Top_Brasil  0.668295  0.361222   \n",
       "72                     Baladas_Románticas  0.707233  0.331143   \n",
       "..                                    ...       ...       ...   \n",
       "33                           Dance_Rewind  0.505781  0.067833   \n",
       "19                             Good_Vibes  0.215165  0.065979   \n",
       "12                             Beast_Mode  0.463601  0.055435   \n",
       "68  The_Most_Beautiful_Songs_in_the_World  0.173369  0.051661   \n",
       "30                             Brain_Food  0.443449  0.049398   \n",
       "\n",
       "                                               top_2  \n",
       "42             [Som Livre, Sony Music Entertainment]  \n",
       "50  [Universal Music International Ltda., WM Brazil]  \n",
       "54                            [WM Brazil, GR6 MUSIC]  \n",
       "29                            [WM Brazil, Som Livre]  \n",
       "72                      [Columbia, Sony Music Latin]  \n",
       "..                                               ...  \n",
       "33                  [Ultra Records, LLC, Now! Music]  \n",
       "19                           [Columbia, RCA Records]  \n",
       "12                 [Reach Records, Spinnin' Records]  \n",
       "68                   [Columbia, Secret City Records]  \n",
       "30               [mau5trap Recordings Limited, Five]  \n",
       "\n",
       "[74 rows x 4 columns]"
      ]
     },
     "execution_count": 24,
     "metadata": {},
     "output_type": "execute_result"
    }
   ],
   "source": [
    "list_labels_scl.sort_values(by=['cr2'], ascending=False)"
   ]
  },
  {
   "cell_type": "code",
   "execution_count": 25,
   "metadata": {},
   "outputs": [
    {
     "data": {
      "text/html": [
       "<div>\n",
       "<style scoped>\n",
       "    .dataframe tbody tr th:only-of-type {\n",
       "        vertical-align: middle;\n",
       "    }\n",
       "\n",
       "    .dataframe tbody tr th {\n",
       "        vertical-align: top;\n",
       "    }\n",
       "\n",
       "    .dataframe thead th {\n",
       "        text-align: right;\n",
       "    }\n",
       "</style>\n",
       "<table border=\"1\" class=\"dataframe\">\n",
       "  <thead>\n",
       "    <tr style=\"text-align: right;\">\n",
       "      <th></th>\n",
       "      <th>gini</th>\n",
       "      <th>cr2</th>\n",
       "    </tr>\n",
       "  </thead>\n",
       "  <tbody>\n",
       "    <tr>\n",
       "      <th>count</th>\n",
       "      <td>74.000000</td>\n",
       "      <td>74.000000</td>\n",
       "    </tr>\n",
       "    <tr>\n",
       "      <th>mean</th>\n",
       "      <td>0.504048</td>\n",
       "      <td>0.173081</td>\n",
       "    </tr>\n",
       "    <tr>\n",
       "      <th>std</th>\n",
       "      <td>0.131049</td>\n",
       "      <td>0.105795</td>\n",
       "    </tr>\n",
       "    <tr>\n",
       "      <th>min</th>\n",
       "      <td>0.173369</td>\n",
       "      <td>0.049398</td>\n",
       "    </tr>\n",
       "    <tr>\n",
       "      <th>25%</th>\n",
       "      <td>0.443945</td>\n",
       "      <td>0.100984</td>\n",
       "    </tr>\n",
       "    <tr>\n",
       "      <th>50%</th>\n",
       "      <td>0.529876</td>\n",
       "      <td>0.141805</td>\n",
       "    </tr>\n",
       "    <tr>\n",
       "      <th>75%</th>\n",
       "      <td>0.589464</td>\n",
       "      <td>0.213750</td>\n",
       "    </tr>\n",
       "    <tr>\n",
       "      <th>max</th>\n",
       "      <td>0.707233</td>\n",
       "      <td>0.655034</td>\n",
       "    </tr>\n",
       "  </tbody>\n",
       "</table>\n",
       "</div>"
      ],
      "text/plain": [
       "            gini        cr2\n",
       "count  74.000000  74.000000\n",
       "mean    0.504048   0.173081\n",
       "std     0.131049   0.105795\n",
       "min     0.173369   0.049398\n",
       "25%     0.443945   0.100984\n",
       "50%     0.529876   0.141805\n",
       "75%     0.589464   0.213750\n",
       "max     0.707233   0.655034"
      ]
     },
     "execution_count": 25,
     "metadata": {},
     "output_type": "execute_result"
    }
   ],
   "source": [
    "list_labels_scl.describe()"
   ]
  },
  {
   "cell_type": "code",
   "execution_count": 26,
   "metadata": {},
   "outputs": [
    {
     "data": {
      "text/html": [
       "<div>\n",
       "<style scoped>\n",
       "    .dataframe tbody tr th:only-of-type {\n",
       "        vertical-align: middle;\n",
       "    }\n",
       "\n",
       "    .dataframe tbody tr th {\n",
       "        vertical-align: top;\n",
       "    }\n",
       "\n",
       "    .dataframe thead th {\n",
       "        text-align: right;\n",
       "    }\n",
       "</style>\n",
       "<table border=\"1\" class=\"dataframe\">\n",
       "  <thead>\n",
       "    <tr style=\"text-align: right;\">\n",
       "      <th></th>\n",
       "      <th>gini</th>\n",
       "      <th>cr2</th>\n",
       "    </tr>\n",
       "  </thead>\n",
       "  <tbody>\n",
       "    <tr>\n",
       "      <th>count</th>\n",
       "      <td>74.000000</td>\n",
       "      <td>74.000000</td>\n",
       "    </tr>\n",
       "    <tr>\n",
       "      <th>mean</th>\n",
       "      <td>0.573123</td>\n",
       "      <td>0.324499</td>\n",
       "    </tr>\n",
       "    <tr>\n",
       "      <th>std</th>\n",
       "      <td>0.125110</td>\n",
       "      <td>0.217574</td>\n",
       "    </tr>\n",
       "    <tr>\n",
       "      <th>min</th>\n",
       "      <td>0.252869</td>\n",
       "      <td>0.056075</td>\n",
       "    </tr>\n",
       "    <tr>\n",
       "      <th>25%</th>\n",
       "      <td>0.494961</td>\n",
       "      <td>0.175099</td>\n",
       "    </tr>\n",
       "    <tr>\n",
       "      <th>50%</th>\n",
       "      <td>0.571696</td>\n",
       "      <td>0.275987</td>\n",
       "    </tr>\n",
       "    <tr>\n",
       "      <th>75%</th>\n",
       "      <td>0.648425</td>\n",
       "      <td>0.395351</td>\n",
       "    </tr>\n",
       "    <tr>\n",
       "      <th>max</th>\n",
       "      <td>0.841065</td>\n",
       "      <td>1.000000</td>\n",
       "    </tr>\n",
       "  </tbody>\n",
       "</table>\n",
       "</div>"
      ],
      "text/plain": [
       "            gini        cr2\n",
       "count  74.000000  74.000000\n",
       "mean    0.573123   0.324499\n",
       "std     0.125110   0.217574\n",
       "min     0.252869   0.056075\n",
       "25%     0.494961   0.175099\n",
       "50%     0.571696   0.275987\n",
       "75%     0.648425   0.395351\n",
       "max     0.841065   1.000000"
      ]
     },
     "execution_count": 26,
     "metadata": {},
     "output_type": "execute_result"
    }
   ],
   "source": [
    "list_labels_ucl.describe()"
   ]
  },
  {
   "cell_type": "code",
   "execution_count": null,
   "metadata": {},
   "outputs": [],
   "source": []
  }
 ],
 "metadata": {
  "kernelspec": {
   "display_name": "Python 3",
   "language": "python",
   "name": "python3"
  },
  "language_info": {
   "codemirror_mode": {
    "name": "ipython",
    "version": 3
   },
   "file_extension": ".py",
   "mimetype": "text/x-python",
   "name": "python",
   "nbconvert_exporter": "python",
   "pygments_lexer": "ipython3",
   "version": "3.7.6"
  }
 },
 "nbformat": 4,
 "nbformat_minor": 2
}
