{
 "cells": [
  {
   "cell_type": "markdown",
   "metadata": {},
   "source": [
    "### Summary"
   ]
  },
  {
   "cell_type": "markdown",
   "metadata": {},
   "source": [
    "This jupyter notebook looks at general representation stats of tracks and artists in the playlist. For example, how many artists appear on only one playlist, or if you appear on a playlist, are you very likely to appear on another playlist? Does this differ between spotify and user curated playlists?\n",
    "\n",
    "We'll look at type-token ratio, % representation, gini index."
   ]
  },
  {
   "cell_type": "code",
   "execution_count": 1,
   "metadata": {},
   "outputs": [],
   "source": [
    "import pandas as pd\n",
    "import numpy as np\n",
    "import os, re\n",
    "from datetime import date, timedelta\n",
    "\n",
    "from analysis_utils import get_num_appearances"
   ]
  },
  {
   "cell_type": "markdown",
   "metadata": {},
   "source": [
    "### Type-token ratio\n",
    "\n",
    "#### Tracks"
   ]
  },
  {
   "cell_type": "code",
   "execution_count": 63,
   "metadata": {},
   "outputs": [],
   "source": [
    "unique_tracks = pd.read_csv('../spotify_data/all_unique_track.csv')"
   ]
  },
  {
   "cell_type": "code",
   "execution_count": 64,
   "metadata": {},
   "outputs": [],
   "source": [
    "result = get_num_appearances(unique_tracks[['track_id']], 'track_id', 'spotify_curated')"
   ]
  },
  {
   "cell_type": "code",
   "execution_count": 65,
   "metadata": {},
   "outputs": [
    {
     "name": "stdout",
     "output_type": "stream",
     "text": [
      "The type-token ratio for unique tracks in spotify curated is 20.760040\n"
     ]
    }
   ],
   "source": [
    "type_token = len(unique_tracks)/result['total_entries']\n",
    "print('The type-token ratio for unique tracks in spotify curated is %f' % (type_token * 100))"
   ]
  },
  {
   "cell_type": "code",
   "execution_count": 66,
   "metadata": {},
   "outputs": [],
   "source": [
    "result = get_num_appearances(unique_tracks[['track_id']], 'track_id', 'user_curated')"
   ]
  },
  {
   "cell_type": "code",
   "execution_count": 67,
   "metadata": {},
   "outputs": [
    {
     "name": "stdout",
     "output_type": "stream",
     "text": [
      "The type-token ratio for unique tracks in user curated is 19.604502\n"
     ]
    }
   ],
   "source": [
    "type_token = len(unique_tracks)/result['total_entries']\n",
    "print('The type-token ratio for unique tracks in user curated is %f' % (type_token * 100))"
   ]
  },
  {
   "cell_type": "markdown",
   "metadata": {},
   "source": [
    "#### Artists"
   ]
  },
  {
   "cell_type": "code",
   "execution_count": 68,
   "metadata": {},
   "outputs": [],
   "source": [
    "unique_artists = pd.read_csv('../spotify_data/all_unique_artist.csv')"
   ]
  },
  {
   "cell_type": "code",
   "execution_count": 71,
   "metadata": {},
   "outputs": [],
   "source": [
    "result = get_num_appearances(unique_artists[['artist_id']], 'artist_id', 'spotify_curated')"
   ]
  },
  {
   "cell_type": "code",
   "execution_count": 73,
   "metadata": {},
   "outputs": [
    {
     "name": "stdout",
     "output_type": "stream",
     "text": [
      "The type-token ratio for unique artists in spotify curated is 8.936276\n"
     ]
    }
   ],
   "source": [
    "type_token = len(unique_artists)/result['total_entries']\n",
    "print('The type-token ratio for unique artists in spotify curated is %f' % (type_token * 100))"
   ]
  },
  {
   "cell_type": "code",
   "execution_count": 74,
   "metadata": {},
   "outputs": [],
   "source": [
    "result = get_num_appearances(unique_artists[['artist_id']], 'artist_id', 'user_curated')"
   ]
  },
  {
   "cell_type": "code",
   "execution_count": 75,
   "metadata": {},
   "outputs": [
    {
     "name": "stdout",
     "output_type": "stream",
     "text": [
      "The type-token ratio for unique artists in user curated is 8.438868\n"
     ]
    }
   ],
   "source": [
    "type_token = len(unique_artists)/result['total_entries']\n",
    "print('The type-token ratio for unique artists in user curated is %f' % (type_token * 100))"
   ]
  },
  {
   "cell_type": "code",
   "execution_count": null,
   "metadata": {},
   "outputs": [],
   "source": []
  }
 ],
 "metadata": {
  "kernelspec": {
   "display_name": "Python 3",
   "language": "python",
   "name": "python3"
  },
  "language_info": {
   "codemirror_mode": {
    "name": "ipython",
    "version": 3
   },
   "file_extension": ".py",
   "mimetype": "text/x-python",
   "name": "python",
   "nbconvert_exporter": "python",
   "pygments_lexer": "ipython3",
   "version": "3.6.7"
  }
 },
 "nbformat": 4,
 "nbformat_minor": 2
}
