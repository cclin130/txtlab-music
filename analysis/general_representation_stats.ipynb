{
 "cells": [
  {
   "cell_type": "markdown",
   "metadata": {},
   "source": [
    "### Summary"
   ]
  },
  {
   "cell_type": "markdown",
   "metadata": {},
   "source": [
    "This jupyter notebook looks at general representation stats of tracks and artists in the playlist. For example, how many artists appear on only one playlist, or if you appear on a playlist, are you very likely to appear on another playlist? Does this differ between spotify and user curated playlists?\n",
    "\n",
    "We'll look at type-token ratio, gini index, T-test"
   ]
  },
  {
   "cell_type": "code",
   "execution_count": 33,
   "metadata": {},
   "outputs": [],
   "source": [
    "import pandas as pd\n",
    "import numpy as np\n",
    "import os, re\n",
    "from datetime import date, timedelta\n",
    "import matplotlib.pyplot as plt\n",
    "\n",
    "from analysis_utils import get_num_appearances, get_all_entries, gini"
   ]
  },
  {
   "cell_type": "markdown",
   "metadata": {},
   "source": [
    "### Type-token ratio\n",
    "\n",
    "#### Tracks"
   ]
  },
  {
   "cell_type": "code",
   "execution_count": 2,
   "metadata": {},
   "outputs": [],
   "source": [
    "unique_tracks = pd.read_csv('../spotify_data/all_unique_track.csv')"
   ]
  },
  {
   "cell_type": "code",
   "execution_count": 3,
   "metadata": {},
   "outputs": [],
   "source": [
    "result = get_num_appearances(unique_tracks[['track_id']], 'track_id', 'spotify_curated')"
   ]
  },
  {
   "cell_type": "code",
   "execution_count": 4,
   "metadata": {},
   "outputs": [
    {
     "name": "stdout",
     "output_type": "stream",
     "text": [
      "The type-token ratio for unique tracks in spotify curated is 20.760040\n"
     ]
    }
   ],
   "source": [
    "type_token = len(unique_tracks)/result['total_entries']\n",
    "print('The type-token ratio for unique tracks in spotify curated is %f' % (type_token * 100))"
   ]
  },
  {
   "cell_type": "code",
   "execution_count": 11,
   "metadata": {},
   "outputs": [],
   "source": [
    "result = get_num_appearances(unique_tracks[['track_id']], 'track_id', 'user_curated')"
   ]
  },
  {
   "cell_type": "code",
   "execution_count": 12,
   "metadata": {},
   "outputs": [
    {
     "name": "stdout",
     "output_type": "stream",
     "text": [
      "The type-token ratio for unique tracks in user curated is 19.604502\n"
     ]
    }
   ],
   "source": [
    "type_token = len(unique_tracks)/result['total_entries']\n",
    "print('The type-token ratio for unique tracks in user curated is %f' % (type_token * 100))"
   ]
  },
  {
   "cell_type": "markdown",
   "metadata": {},
   "source": [
    "#### Artists"
   ]
  },
  {
   "cell_type": "code",
   "execution_count": 6,
   "metadata": {},
   "outputs": [],
   "source": [
    "unique_artists = pd.read_csv('../spotify_data/all_unique_artist.csv')"
   ]
  },
  {
   "cell_type": "code",
   "execution_count": 7,
   "metadata": {},
   "outputs": [],
   "source": [
    "result = get_num_appearances(unique_artists[['artist_id']], 'artist_id', 'spotify_curated')"
   ]
  },
  {
   "cell_type": "code",
   "execution_count": 9,
   "metadata": {},
   "outputs": [
    {
     "name": "stdout",
     "output_type": "stream",
     "text": [
      "The type-token ratio for unique artists in spotify curated is 8.936276\n"
     ]
    }
   ],
   "source": [
    "type_token = len(unique_artists)/result['total_entries']\n",
    "print('The type-token ratio for unique artists in spotify curated is %f' % (type_token * 100))"
   ]
  },
  {
   "cell_type": "code",
   "execution_count": 74,
   "metadata": {},
   "outputs": [],
   "source": [
    "result = get_num_appearances(unique_artists[['artist_id']], 'artist_id', 'user_curated')"
   ]
  },
  {
   "cell_type": "code",
   "execution_count": 75,
   "metadata": {
    "scrolled": true
   },
   "outputs": [
    {
     "name": "stdout",
     "output_type": "stream",
     "text": [
      "The type-token ratio for unique artists in user curated is 8.438868\n"
     ]
    }
   ],
   "source": [
    "type_token = len(unique_labels)/result['total_entries']\n",
    "print('The type-token ratio for unique artists in user curated is %f' % (type_token * 100))"
   ]
  },
  {
   "cell_type": "markdown",
   "metadata": {},
   "source": [
    "#### Labels (artist labels)"
   ]
  },
  {
   "cell_type": "code",
   "execution_count": 15,
   "metadata": {},
   "outputs": [],
   "source": [
    "unique_labels = pd.read_csv('../spotify_data/all_unique_artist_with_labels.csv')"
   ]
  },
  {
   "cell_type": "code",
   "execution_count": 16,
   "metadata": {},
   "outputs": [
    {
     "name": "stdout",
     "output_type": "stream",
     "text": [
      "The type-token ratio for unique artists in spotify curated is 10.058497\n"
     ]
    }
   ],
   "source": [
    "type_token = len(unique_labels)/96416 # number of entries for spotify curated\n",
    "print('The type-token ratio for unique artists in spotify curated is %f' % (type_token * 100))"
   ]
  },
  {
   "cell_type": "code",
   "execution_count": 17,
   "metadata": {
    "scrolled": true
   },
   "outputs": [
    {
     "name": "stdout",
     "output_type": "stream",
     "text": [
      "The type-token ratio for unique artists in user curated is 9.498624\n"
     ]
    }
   ],
   "source": [
    "type_token = len(unique_labels)/102099\n",
    "print('The type-token ratio for unique artists in user curated is %f' % (type_token * 100))"
   ]
  },
  {
   "cell_type": "markdown",
   "metadata": {},
   "source": [
    "### Gini Coefficient"
   ]
  },
  {
   "cell_type": "markdown",
   "metadata": {},
   "source": [
    "#### Tracks"
   ]
  },
  {
   "cell_type": "code",
   "execution_count": 4,
   "metadata": {},
   "outputs": [],
   "source": [
    "unique_tracks = pd.read_csv('../spotify_data/all_unique_track.csv')"
   ]
  },
  {
   "cell_type": "code",
   "execution_count": 17,
   "metadata": {},
   "outputs": [],
   "source": [
    "df_all = get_all_entries('spotify_curated', ['track_name', 'track_id'])"
   ]
  },
  {
   "cell_type": "code",
   "execution_count": 19,
   "metadata": {
    "scrolled": true
   },
   "outputs": [],
   "source": [
    "appearances = []\n",
    "\n",
    "for index, row in unique_tracks.iterrows():   \n",
    "    count = len(df_all[df_all['track_id'] == row['track_id']])\n",
    "    if count != 0:\n",
    "        appearances.append(count)\n",
    "\n",
    "# df_count = pd.DataFrame({'num_appearances': appearances})\n",
    "# df = pd.concat([unique_tracks, df_count], axis=1)"
   ]
  },
  {
   "cell_type": "code",
   "execution_count": 37,
   "metadata": {},
   "outputs": [
    {
     "name": "stdout",
     "output_type": "stream",
     "text": [
      "Gini coefficient for tracks in spotify curated is 0.487897\n"
     ]
    }
   ],
   "source": [
    "appearances_temp = np.asarray(appearances)\n",
    "print('Gini coefficient for tracks in spotify curated is %f' % \n",
    "      gini(appearances_temp))"
   ]
  },
  {
   "cell_type": "code",
   "execution_count": 38,
   "metadata": {},
   "outputs": [
    {
     "data": {
      "text/plain": [
       "[<matplotlib.lines.Line2D at 0x7f01cfb36780>]"
      ]
     },
     "execution_count": 38,
     "metadata": {},
     "output_type": "execute_result"
    },
    {
     "data": {
      "image/png": "[encoded data removed]",
      "text/plain": [
       "<Figure size 432x288 with 1 Axes>"
      ]
     },
     "metadata": {
      "needs_background": "light"
     },
     "output_type": "display_data"
    }
   ],
   "source": [
    "appearances_temp.sort()\n",
    "plt.title('Num appearances vs. Tracks (Spotify Curated)')\n",
    "plt.plot(appearances_temp)"
   ]
  },
  {
   "cell_type": "code",
   "execution_count": 36,
   "metadata": {},
   "outputs": [],
   "source": [
    "df_all = get_all_entries('user_curated', ['track_name', 'track_id'])"
   ]
  },
  {
   "cell_type": "code",
   "execution_count": 39,
   "metadata": {
    "scrolled": true
   },
   "outputs": [],
   "source": [
    "appearances = []\n",
    "\n",
    "for index, row in unique_tracks.iterrows():   \n",
    "    count = len(df_all[df_all['track_id'] == row['track_id']])\n",
    "    if count != 0:\n",
    "        appearances.append(count)\n",
    "\n",
    "# df_count = pd.DataFrame({'num_appearances': appearances})\n",
    "# df = pd.concat([unique_tracks, df_count], axis=1)"
   ]
  },
  {
   "cell_type": "code",
   "execution_count": 40,
   "metadata": {},
   "outputs": [
    {
     "name": "stdout",
     "output_type": "stream",
     "text": [
      "Gini coefficient for tracks in user curated is 0.480025\n"
     ]
    }
   ],
   "source": [
    "appearances_temp = np.asarray(appearances)\n",
    "print('Gini coefficient for tracks in user curated is %f' % \n",
    "      gini(appearances_temp))"
   ]
  },
  {
   "cell_type": "code",
   "execution_count": 41,
   "metadata": {},
   "outputs": [
    {
     "data": {
      "text/plain": [
       "[<matplotlib.lines.Line2D at 0x7f01cab32a90>]"
      ]
     },
     "execution_count": 41,
     "metadata": {},
     "output_type": "execute_result"
    },
    {
     "data": {
      "image/png": "[encoded data removed]",
      "text/plain": [
       "<Figure size 432x288 with 1 Axes>"
      ]
     },
     "metadata": {
      "needs_background": "light"
     },
     "output_type": "display_data"
    }
   ],
   "source": [
    "appearances_temp.sort()\n",
    "plt.title('Num appearances vs. Tracks (User Curated)')\n",
    "plt.plot(appearances_temp)"
   ]
  },
  {
   "cell_type": "markdown",
   "metadata": {},
   "source": [
    "#### Artists"
   ]
  },
  {
   "cell_type": "code",
   "execution_count": 43,
   "metadata": {},
   "outputs": [],
   "source": [
    "unique_artists = pd.read_csv('../spotify_data/all_unique_artist.csv')"
   ]
  },
  {
   "cell_type": "code",
   "execution_count": 44,
   "metadata": {},
   "outputs": [],
   "source": [
    "df_all = get_all_entries('spotify_curated', ['artist', 'artist_id'])"
   ]
  },
  {
   "cell_type": "code",
   "execution_count": 45,
   "metadata": {
    "scrolled": true
   },
   "outputs": [],
   "source": [
    "appearances = []\n",
    "\n",
    "for index, row in unique_artists.iterrows():   \n",
    "    count = len(df_all[df_all['artist_id'] == row['artist_id']])\n",
    "    if count != 0:\n",
    "        appearances.append(count)\n",
    "\n",
    "# df_count = pd.DataFrame({'num_appearances': appearances})\n",
    "# df = pd.concat([unique_tracks, df_count], axis=1)"
   ]
  },
  {
   "cell_type": "code",
   "execution_count": 46,
   "metadata": {},
   "outputs": [
    {
     "name": "stdout",
     "output_type": "stream",
     "text": [
      "Gini coefficient for artists in spotify curated is 0.611535\n"
     ]
    }
   ],
   "source": [
    "appearances_temp = np.asarray(appearances)\n",
    "print('Gini coefficient for artists in spotify curated is %f' % \n",
    "      gini(appearances_temp))"
   ]
  },
  {
   "cell_type": "code",
   "execution_count": 47,
   "metadata": {},
   "outputs": [
    {
     "data": {
      "text/plain": [
       "[<matplotlib.lines.Line2D at 0x7f01ced55b70>]"
      ]
     },
     "execution_count": 47,
     "metadata": {},
     "output_type": "execute_result"
    },
    {
     "data": {
      "image/png": "[encoded data removed]",
      "text/plain": [
       "<Figure size 432x288 with 1 Axes>"
      ]
     },
     "metadata": {
      "needs_background": "light"
     },
     "output_type": "display_data"
    }
   ],
   "source": [
    "appearances_temp.sort()\n",
    "plt.title('Num appearances vs. Artists (Spotify Curated)')\n",
    "plt.plot(appearances_temp)"
   ]
  },
  {
   "cell_type": "code",
   "execution_count": 48,
   "metadata": {},
   "outputs": [],
   "source": [
    "df_all = get_all_entries('user_curated', ['artist', 'artist_id'])"
   ]
  },
  {
   "cell_type": "code",
   "execution_count": 49,
   "metadata": {
    "scrolled": true
   },
   "outputs": [],
   "source": [
    "appearances = []\n",
    "\n",
    "for index, row in unique_artists.iterrows():   \n",
    "    count = len(df_all[df_all['artist_id'] == row['artist_id']])\n",
    "    if count != 0:\n",
    "        appearances.append(count)\n",
    "\n",
    "# df_count = pd.DataFrame({'num_appearances': appearances})\n",
    "# df = pd.concat([unique_tracks, df_count], axis=1)"
   ]
  },
  {
   "cell_type": "code",
   "execution_count": 50,
   "metadata": {},
   "outputs": [
    {
     "name": "stdout",
     "output_type": "stream",
     "text": [
      "Gini coefficient for artists in user curated is 0.641565\n"
     ]
    }
   ],
   "source": [
    "appearances_temp = np.asarray(appearances2)\n",
    "print('Gini coefficient for artists in user curated is %f' % \n",
    "      gini(appearances_temp))"
   ]
  },
  {
   "cell_type": "code",
   "execution_count": 51,
   "metadata": {},
   "outputs": [
    {
     "data": {
      "text/plain": [
       "[<matplotlib.lines.Line2D at 0x7f01cff40630>]"
      ]
     },
     "execution_count": 51,
     "metadata": {},
     "output_type": "execute_result"
    },
    {
     "data": {
      "image/png": "[encoded data removed]",
      "text/plain": [
       "<Figure size 432x288 with 1 Axes>"
      ]
     },
     "metadata": {
      "needs_background": "light"
     },
     "output_type": "display_data"
    }
   ],
   "source": [
    "appearances_temp.sort()\n",
    "plt.title('Num appearances vs. Artists (User Curated)')\n",
    "plt.plot(appearances_temp)"
   ]
  },
  {
   "cell_type": "markdown",
   "metadata": {},
   "source": [
    "#### Labels (artist labels)"
   ]
  },
  {
   "cell_type": "code",
   "execution_count": 61,
   "metadata": {},
   "outputs": [],
   "source": [
    "unique_labels = pd.read_csv('../spotify_data/all_unique_artist_with_labels.csv')\n",
    "unique_artists = pd.read_csv('../spotify_data/all_unique_artist.csv')"
   ]
  },
  {
   "cell_type": "code",
   "execution_count": 62,
   "metadata": {},
   "outputs": [],
   "source": [
    "df_all = get_all_entries('spotify_curated', ['track_name', 'track_id','artist_id'])\n",
    "df_all = df_all.merge(unique_artists[['artist_id','record_label']], on=['artist_id'], how='left')"
   ]
  },
  {
   "cell_type": "code",
   "execution_count": 63,
   "metadata": {
    "scrolled": true
   },
   "outputs": [],
   "source": [
    "appearances = []\n",
    "\n",
    "for index, row in unique_labels.iterrows():   \n",
    "    count = len(df_all[df_all['record_label'] == row['record_label']])\n",
    "    if count != 0:\n",
    "        appearances.append(count)\n",
    "\n",
    "# df_count = pd.DataFrame({'num_appearances': appearances})\n",
    "# df = pd.concat([unique_tracks, df_count], axis=1)"
   ]
  },
  {
   "cell_type": "code",
   "execution_count": 64,
   "metadata": {},
   "outputs": [
    {
     "name": "stdout",
     "output_type": "stream",
     "text": [
      "Gini coefficient for labels in spotify curated is 0.757180\n"
     ]
    }
   ],
   "source": [
    "appearances_temp = np.asarray(appearances)\n",
    "print('Gini coefficient for labels in spotify curated is %f' % \n",
    "      gini(appearances_temp))"
   ]
  },
  {
   "cell_type": "code",
   "execution_count": 65,
   "metadata": {},
   "outputs": [
    {
     "data": {
      "text/plain": [
       "[<matplotlib.lines.Line2D at 0x7f01cb251eb8>]"
      ]
     },
     "execution_count": 65,
     "metadata": {},
     "output_type": "execute_result"
    },
    {
     "data": {
      "image/png": "[encoded data removed]",
      "text/plain": [
       "<Figure size 432x288 with 1 Axes>"
      ]
     },
     "metadata": {
      "needs_background": "light"
     },
     "output_type": "display_data"
    }
   ],
   "source": [
    "appearances_temp.sort()\n",
    "plt.title('Num appearances vs. Labels (Spotify Curated)')\n",
    "plt.plot(appearances_temp)"
   ]
  },
  {
   "cell_type": "code",
   "execution_count": 66,
   "metadata": {},
   "outputs": [],
   "source": [
    "df_all = get_all_entries('user_curated', ['track_name', 'track_id','artist_id'])\n",
    "df_all = df_all.merge(unique_artists[['artist_id','record_label']], on=['artist_id'], how='left')"
   ]
  },
  {
   "cell_type": "code",
   "execution_count": 68,
   "metadata": {},
   "outputs": [],
   "source": [
    "appearances = []\n",
    "\n",
    "for index, row in unique_labels.iterrows():   \n",
    "    count = len(df_all[df_all['record_label'] == row['record_label']])\n",
    "    if count != 0:\n",
    "        appearances.append(count)\n",
    "\n",
    "# df_count = pd.DataFrame({'num_appearances': appearances})\n",
    "# df = pd.concat([unique_tracks, df_count], axis=1)"
   ]
  },
  {
   "cell_type": "code",
   "execution_count": 69,
   "metadata": {},
   "outputs": [
    {
     "name": "stdout",
     "output_type": "stream",
     "text": [
      "Gini coefficient for labels in user curated is 0.723282\n"
     ]
    }
   ],
   "source": [
    "appearances_temp = np.asarray(appearances2)\n",
    "print('Gini coefficient for labels in user curated is %f' % \n",
    "      gini(appearances_temp))"
   ]
  },
  {
   "cell_type": "code",
   "execution_count": 70,
   "metadata": {},
   "outputs": [
    {
     "data": {
      "text/plain": [
       "[<matplotlib.lines.Line2D at 0x7f01ca56c630>]"
      ]
     },
     "execution_count": 70,
     "metadata": {},
     "output_type": "execute_result"
    },
    {
     "data": {
      "image/png": "[encoded data removed]",
      "text/plain": [
       "<Figure size 432x288 with 1 Axes>"
      ]
     },
     "metadata": {
      "needs_background": "light"
     },
     "output_type": "display_data"
    }
   ],
   "source": [
    "appearances_temp.sort()\n",
    "plt.title('Num appearances vs. Labels (User Curated)')\n",
    "plt.plot(appearances_temp)"
   ]
  },
  {
   "cell_type": "markdown",
   "metadata": {},
   "source": [
    "### T-test??"
   ]
  },
  {
   "cell_type": "code",
   "execution_count": null,
   "metadata": {},
   "outputs": [],
   "source": []
  },
  {
   "cell_type": "code",
   "execution_count": null,
   "metadata": {},
   "outputs": [],
   "source": []
  },
  {
   "cell_type": "code",
   "execution_count": null,
   "metadata": {},
   "outputs": [],
   "source": []
  },
  {
   "cell_type": "markdown",
   "metadata": {},
   "source": [
    "### Type-token of a single playlist"
   ]
  },
  {
   "cell_type": "code",
   "execution_count": null,
   "metadata": {},
   "outputs": [],
   "source": []
  },
  {
   "cell_type": "code",
   "execution_count": null,
   "metadata": {},
   "outputs": [],
   "source": []
  },
  {
   "cell_type": "code",
   "execution_count": null,
   "metadata": {},
   "outputs": [],
   "source": []
  },
  {
   "cell_type": "markdown",
   "metadata": {},
   "source": [
    "### Type-token of artists vs. labels"
   ]
  },
  {
   "cell_type": "code",
   "execution_count": null,
   "metadata": {},
   "outputs": [],
   "source": []
  },
  {
   "cell_type": "code",
   "execution_count": null,
   "metadata": {},
   "outputs": [],
   "source": []
  },
  {
   "cell_type": "code",
   "execution_count": null,
   "metadata": {},
   "outputs": [],
   "source": []
  },
  {
   "cell_type": "code",
   "execution_count": null,
   "metadata": {},
   "outputs": [],
   "source": []
  },
  {
   "cell_type": "code",
   "execution_count": null,
   "metadata": {},
   "outputs": [],
   "source": []
  }
 ],
 "metadata": {
  "kernelspec": {
   "display_name": "Python 3",
   "language": "python",
   "name": "python3"
  },
  "language_info": {
   "codemirror_mode": {
    "name": "ipython",
    "version": 3
   },
   "file_extension": ".py",
   "mimetype": "text/x-python",
   "name": "python",
   "nbconvert_exporter": "python",
   "pygments_lexer": "ipython3",
   "version": "3.6.7"
  }
 },
 "nbformat": 4,
 "nbformat_minor": 2
}
