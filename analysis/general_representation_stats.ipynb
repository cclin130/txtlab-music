{
 "cells": [
  {
   "cell_type": "markdown",
   "metadata": {},
   "source": [
    "### Summary"
   ]
  },
  {
   "cell_type": "markdown",
   "metadata": {},
   "source": [
    "This jupyter notebook looks at general representation stats of tracks and artists in the playlist. For example, how many artists appear on only one playlist, or if you appear on a playlist, are you very likely to appear on another playlist? Does this differ between spotify and user curated playlists?\n",
    "\n",
    "We'll look at type-token ratio, gini index, T-test"
   ]
  },
  {
   "cell_type": "code",
   "execution_count": 1,
   "metadata": {},
   "outputs": [],
   "source": [
    "import pandas as pd\n",
    "import numpy as np\n",
    "import os, re\n",
    "from datetime import date, timedelta\n",
    "import matplotlib.pyplot as plt\n",
    "\n",
    "from analysis_utils import get_num_appearances, get_all_entries, gini"
   ]
  },
  {
   "cell_type": "markdown",
   "metadata": {},
   "source": [
    "### Type-token ratio\n",
    "\n",
    "#### Tracks"
   ]
  },
  {
   "cell_type": "code",
   "execution_count": 2,
   "metadata": {},
   "outputs": [],
   "source": [
    "unique_tracks = pd.read_csv('../spotify_data/unique_entries_sorted/spotify_curated_unique_track.csv')"
   ]
  },
  {
   "cell_type": "code",
   "execution_count": 17,
   "metadata": {},
   "outputs": [],
   "source": [
    "result = get_num_appearances(unique_tracks[['track_id']], 'track_id', 'spotify_curated')"
   ]
  },
  {
   "cell_type": "code",
   "execution_count": 5,
   "metadata": {},
   "outputs": [
    {
     "name": "stdout",
     "output_type": "stream",
     "text": [
      "The type-token ratio for unique tracks in spotify curated is 11.993440\n"
     ]
    }
   ],
   "source": [
    "type_token = len(unique_tracks)/result['total_entries']\n",
    "print('The type-token ratio for unique tracks in spotify curated is %f' % (type_token * 100))"
   ]
  },
  {
   "cell_type": "code",
   "execution_count": 6,
   "metadata": {},
   "outputs": [],
   "source": [
    "unique_tracks = pd.read_csv('../spotify_data/unique_entries_sorted/user_curated_unique_track.csv')"
   ]
  },
  {
   "cell_type": "code",
   "execution_count": 19,
   "metadata": {},
   "outputs": [],
   "source": [
    "result = get_num_appearances(unique_tracks[['track_id']], 'track_id', 'user_curated')"
   ]
  },
  {
   "cell_type": "code",
   "execution_count": 9,
   "metadata": {},
   "outputs": [
    {
     "name": "stdout",
     "output_type": "stream",
     "text": [
      "The type-token ratio for unique tracks in user curated is 10.455538\n"
     ]
    }
   ],
   "source": [
    "type_token = len(unique_tracks)/result['total_entries']\n",
    "print('The type-token ratio for unique tracks in user curated is %f' % (type_token * 100))"
   ]
  },
  {
   "cell_type": "markdown",
   "metadata": {},
   "source": [
    "#### Artists"
   ]
  },
  {
   "cell_type": "code",
   "execution_count": 10,
   "metadata": {},
   "outputs": [],
   "source": [
    "unique_artists = pd.read_csv('../spotify_data/unique_entries_sorted/spotify_curated_unique_artist.csv')"
   ]
  },
  {
   "cell_type": "code",
   "execution_count": 11,
   "metadata": {},
   "outputs": [],
   "source": [
    "result = get_num_appearances(unique_artists[['artist_id']], 'artist_id', 'spotify_curated')"
   ]
  },
  {
   "cell_type": "code",
   "execution_count": 12,
   "metadata": {},
   "outputs": [
    {
     "name": "stdout",
     "output_type": "stream",
     "text": [
      "The type-token ratio for unique artists in spotify curated is 5.625104\n"
     ]
    }
   ],
   "source": [
    "type_token = len(unique_artists)/result['total_entries']\n",
    "print('The type-token ratio for unique artists in spotify curated is %f' % (type_token * 100))"
   ]
  },
  {
   "cell_type": "code",
   "execution_count": 13,
   "metadata": {},
   "outputs": [],
   "source": [
    "unique_artists = pd.read_csv('../spotify_data/unique_entries_sorted/user_curated_unique_artist.csv')"
   ]
  },
  {
   "cell_type": "code",
   "execution_count": 14,
   "metadata": {},
   "outputs": [],
   "source": [
    "result = get_num_appearances(unique_artists[['artist_id']], 'artist_id', 'user_curated')"
   ]
  },
  {
   "cell_type": "code",
   "execution_count": 16,
   "metadata": {
    "scrolled": true
   },
   "outputs": [
    {
     "name": "stdout",
     "output_type": "stream",
     "text": [
      "The type-token ratio for unique artists in user curated is 4.967727\n"
     ]
    }
   ],
   "source": [
    "type_token = len(unique_artists)/result['total_entries']\n",
    "print('The type-token ratio for unique artists in user curated is %f' % (type_token * 100))"
   ]
  },
  {
   "cell_type": "markdown",
   "metadata": {},
   "source": [
    "#### Labels (artist labels)"
   ]
  },
  {
   "cell_type": "code",
   "execution_count": 62,
   "metadata": {},
   "outputs": [],
   "source": [
    "labels = pd.read_csv('../spotify_data/all_unique_artist_with_labels.csv')[['artist_id', 'record_label']]\n",
    "unique_labels = pd.read_csv('../spotify_data/unique_entries_sorted/spotify_curated_unique_artist.csv')[['artist_id']]\n",
    "unique_labels = unique_labels.merge(labels, on=['artist_id'], how='left')"
   ]
  },
  {
   "cell_type": "code",
   "execution_count": 63,
   "metadata": {},
   "outputs": [
    {
     "name": "stdout",
     "output_type": "stream",
     "text": [
      "Percentage of unique entries with labels: 45.712902\n"
     ]
    }
   ],
   "source": [
    "print('Percentage of unique entries with labels: %f' % (100 * len(unique_labels.dropna())/len(unique_labels)))"
   ]
  },
  {
   "cell_type": "code",
   "execution_count": 64,
   "metadata": {},
   "outputs": [],
   "source": [
    "unique_labels.dropna(inplace=True)"
   ]
  },
  {
   "cell_type": "code",
   "execution_count": 54,
   "metadata": {},
   "outputs": [],
   "source": [
    "result = get_num_appearances(unique_labels[['artist_id']], 'artist_id', 'spotify_curated')"
   ]
  },
  {
   "cell_type": "code",
   "execution_count": 55,
   "metadata": {},
   "outputs": [
    {
     "name": "stdout",
     "output_type": "stream",
     "text": [
      "The type-token ratio for unique labels in spotify curated is 4.183468\n"
     ]
    }
   ],
   "source": [
    "type_token = len(unique_labels.drop_duplicates(['record_label']))/result['playlist_appearances'] # number of entries for spotify curated\n",
    "print('The type-token ratio for unique labels in spotify curated is %f' % (type_token * 100))"
   ]
  },
  {
   "cell_type": "code",
   "execution_count": 67,
   "metadata": {},
   "outputs": [],
   "source": [
    "labels = pd.read_csv('../spotify_data/all_unique_artist_with_labels.csv')[['artist_id', 'record_label']]\n",
    "unique_labels = pd.read_csv('../spotify_data/unique_entries_sorted/user_curated_unique_artist.csv')[['artist_id']]\n",
    "unique_labels = unique_labels.merge(labels, on=['artist_id'], how='left')"
   ]
  },
  {
   "cell_type": "code",
   "execution_count": 68,
   "metadata": {},
   "outputs": [
    {
     "name": "stdout",
     "output_type": "stream",
     "text": [
      "Percentage of unique entries with labels: 41.482262\n"
     ]
    }
   ],
   "source": [
    "print('Percentage of unique entries with labels: %f' % (100 * len(unique_labels.dropna())/len(unique_labels)))"
   ]
  },
  {
   "cell_type": "code",
   "execution_count": 69,
   "metadata": {},
   "outputs": [],
   "source": [
    "unique_labels.dropna(inplace=True)"
   ]
  },
  {
   "cell_type": "code",
   "execution_count": 59,
   "metadata": {},
   "outputs": [],
   "source": [
    "result = get_num_appearances(unique_labels[['artist_id']], 'artist_id', 'user_curated')"
   ]
  },
  {
   "cell_type": "code",
   "execution_count": 72,
   "metadata": {
    "scrolled": true
   },
   "outputs": [
    {
     "name": "stdout",
     "output_type": "stream",
     "text": [
      "The type-token ratio for unique labels in user curated is 2.713482\n"
     ]
    }
   ],
   "source": [
    "type_token = len(unique_labels.drop_duplicates(['record_label']))/result['playlist_appearances']\n",
    "print('The type-token ratio for unique labels in user curated is %f' % (type_token * 100))"
   ]
  },
  {
   "cell_type": "markdown",
   "metadata": {},
   "source": [
    "### Gini Coefficient"
   ]
  },
  {
   "cell_type": "markdown",
   "metadata": {},
   "source": [
    "#### Tracks"
   ]
  },
  {
   "cell_type": "code",
   "execution_count": 4,
   "metadata": {},
   "outputs": [],
   "source": [
    "unique_tracks = pd.read_csv('../spotify_data/all_unique_track.csv')"
   ]
  },
  {
   "cell_type": "code",
   "execution_count": 17,
   "metadata": {},
   "outputs": [],
   "source": [
    "df_all = get_all_entries('spotify_curated', ['track_name', 'track_id'])"
   ]
  },
  {
   "cell_type": "code",
   "execution_count": 19,
   "metadata": {
    "scrolled": true
   },
   "outputs": [],
   "source": [
    "appearances = []\n",
    "\n",
    "for index, row in unique_tracks.iterrows():   \n",
    "    count = len(df_all[df_all['track_id'] == row['track_id']])\n",
    "    if count != 0:\n",
    "        appearances.append(count)"
   ]
  },
  {
   "cell_type": "code",
   "execution_count": 37,
   "metadata": {},
   "outputs": [
    {
     "name": "stdout",
     "output_type": "stream",
     "text": [
      "Gini coefficient for tracks in spotify curated is 0.487897\n"
     ]
    }
   ],
   "source": [
    "appearances_temp = np.asarray(appearances)\n",
    "print('Gini coefficient for tracks in spotify curated is %f' % \n",
    "      gini(appearances_temp))"
   ]
  },
  {
   "cell_type": "code",
   "execution_count": 38,
   "metadata": {},
   "outputs": [
    {
     "data": {
      "text/plain": [
       "[<matplotlib.lines.Line2D at 0x7f01cfb36780>]"
      ]
     },
     "execution_count": 38,
     "metadata": {},
     "output_type": "execute_result"
    },
    {
     "data": {
      "image/png": "[encoded data removed]",
      "text/plain": [
       "<Figure size 432x288 with 1 Axes>"
      ]
     },
     "metadata": {
      "needs_background": "light"
     },
     "output_type": "display_data"
    }
   ],
   "source": [
    "appearances_temp.sort()\n",
    "plt.title('Num appearances vs. Tracks (Spotify Curated)')\n",
    "plt.plot(appearances_temp)"
   ]
  },
  {
   "cell_type": "code",
   "execution_count": 36,
   "metadata": {},
   "outputs": [],
   "source": [
    "df_all = get_all_entries('user_curated', ['track_name', 'track_id'])"
   ]
  },
  {
   "cell_type": "code",
   "execution_count": 39,
   "metadata": {
    "scrolled": true
   },
   "outputs": [],
   "source": [
    "appearances = []\n",
    "\n",
    "for index, row in unique_tracks.iterrows():   \n",
    "    count = len(df_all[df_all['track_id'] == row['track_id']])\n",
    "    if count != 0:\n",
    "        appearances.append(count)"
   ]
  },
  {
   "cell_type": "code",
   "execution_count": 40,
   "metadata": {},
   "outputs": [
    {
     "name": "stdout",
     "output_type": "stream",
     "text": [
      "Gini coefficient for tracks in user curated is 0.480025\n"
     ]
    }
   ],
   "source": [
    "appearances_temp = np.asarray(appearances)\n",
    "print('Gini coefficient for tracks in user curated is %f' % \n",
    "      gini(appearances_temp))"
   ]
  },
  {
   "cell_type": "code",
   "execution_count": 41,
   "metadata": {},
   "outputs": [
    {
     "data": {
      "text/plain": [
       "[<matplotlib.lines.Line2D at 0x7f01cab32a90>]"
      ]
     },
     "execution_count": 41,
     "metadata": {},
     "output_type": "execute_result"
    },
    {
     "data": {
      "image/png": "[encoded data removed]",
      "text/plain": [
       "<Figure size 432x288 with 1 Axes>"
      ]
     },
     "metadata": {
      "needs_background": "light"
     },
     "output_type": "display_data"
    }
   ],
   "source": [
    "appearances_temp.sort()\n",
    "plt.title('Num appearances vs. Tracks (User Curated)')\n",
    "plt.plot(appearances_temp)"
   ]
  },
  {
   "cell_type": "markdown",
   "metadata": {},
   "source": [
    "#### Artists"
   ]
  },
  {
   "cell_type": "code",
   "execution_count": 43,
   "metadata": {},
   "outputs": [],
   "source": [
    "unique_artists = pd.read_csv('../spotify_data/all_unique_artist.csv')"
   ]
  },
  {
   "cell_type": "code",
   "execution_count": 44,
   "metadata": {},
   "outputs": [],
   "source": [
    "df_all = get_all_entries('spotify_curated', ['artist', 'artist_id'])"
   ]
  },
  {
   "cell_type": "code",
   "execution_count": 45,
   "metadata": {
    "scrolled": true
   },
   "outputs": [],
   "source": [
    "appearances = []\n",
    "\n",
    "for index, row in unique_artists.iterrows():   \n",
    "    count = len(df_all[df_all['artist_id'] == row['artist_id']])\n",
    "    if count != 0:\n",
    "        appearances.append(count)"
   ]
  },
  {
   "cell_type": "code",
   "execution_count": 46,
   "metadata": {},
   "outputs": [
    {
     "name": "stdout",
     "output_type": "stream",
     "text": [
      "Gini coefficient for artists in spotify curated is 0.611535\n"
     ]
    }
   ],
   "source": [
    "appearances_temp = np.asarray(appearances)\n",
    "print('Gini coefficient for artists in spotify curated is %f' % \n",
    "      gini(appearances_temp))"
   ]
  },
  {
   "cell_type": "code",
   "execution_count": 47,
   "metadata": {},
   "outputs": [
    {
     "data": {
      "text/plain": [
       "[<matplotlib.lines.Line2D at 0x7f01ced55b70>]"
      ]
     },
     "execution_count": 47,
     "metadata": {},
     "output_type": "execute_result"
    },
    {
     "data": {
      "image/png": "[encoded data removed]",
      "text/plain": [
       "<Figure size 432x288 with 1 Axes>"
      ]
     },
     "metadata": {
      "needs_background": "light"
     },
     "output_type": "display_data"
    }
   ],
   "source": [
    "appearances_temp.sort()\n",
    "plt.title('Num appearances vs. Artists (Spotify Curated)')\n",
    "plt.plot(appearances_temp)"
   ]
  },
  {
   "cell_type": "code",
   "execution_count": 48,
   "metadata": {},
   "outputs": [],
   "source": [
    "df_all = get_all_entries('user_curated', ['artist', 'artist_id'])"
   ]
  },
  {
   "cell_type": "code",
   "execution_count": 49,
   "metadata": {
    "scrolled": true
   },
   "outputs": [],
   "source": [
    "appearances = []\n",
    "\n",
    "for index, row in unique_artists.iterrows():   \n",
    "    count = len(df_all[df_all['artist_id'] == row['artist_id']])\n",
    "    if count != 0:\n",
    "        appearances.append(count)"
   ]
  },
  {
   "cell_type": "code",
   "execution_count": 50,
   "metadata": {},
   "outputs": [
    {
     "name": "stdout",
     "output_type": "stream",
     "text": [
      "Gini coefficient for artists in user curated is 0.641565\n"
     ]
    }
   ],
   "source": [
    "appearances_temp = np.asarray(appearances2)\n",
    "print('Gini coefficient for artists in user curated is %f' % \n",
    "      gini(appearances_temp))"
   ]
  },
  {
   "cell_type": "code",
   "execution_count": 51,
   "metadata": {},
   "outputs": [
    {
     "data": {
      "text/plain": [
       "[<matplotlib.lines.Line2D at 0x7f01cff40630>]"
      ]
     },
     "execution_count": 51,
     "metadata": {},
     "output_type": "execute_result"
    },
    {
     "data": {
      "image/png": "[encoded data removed]",
      "text/plain": [
       "<Figure size 432x288 with 1 Axes>"
      ]
     },
     "metadata": {
      "needs_background": "light"
     },
     "output_type": "display_data"
    }
   ],
   "source": [
    "appearances_temp.sort()\n",
    "plt.title('Num appearances vs. Artists (User Curated)')\n",
    "plt.plot(appearances_temp)"
   ]
  },
  {
   "cell_type": "markdown",
   "metadata": {},
   "source": [
    "#### Labels (artist labels)"
   ]
  },
  {
   "cell_type": "code",
   "execution_count": 73,
   "metadata": {},
   "outputs": [],
   "source": [
    "labels = pd.read_csv('../spotify_data/all_unique_artist_with_labels.csv')[['artist_id', 'record_label']]\n",
    "unique_labels = pd.read_csv('../spotify_data/unique_entries_sorted/spotify_curated_unique_artist.csv')[['artist_id']]\n",
    "unique_labels = unique_labels.merge(labels, on=['artist_id'], how='left').dropna()"
   ]
  },
  {
   "cell_type": "code",
   "execution_count": 74,
   "metadata": {},
   "outputs": [],
   "source": [
    "df_all = get_all_entries('spotify_curated', ['track_id','artist_id'])\n",
    "df_all = df_all.merge(unique_labels[['artist_id','record_label']], on=['artist_id'], how='inner')"
   ]
  },
  {
   "cell_type": "code",
   "execution_count": 76,
   "metadata": {
    "scrolled": true
   },
   "outputs": [],
   "source": [
    "appearances = []\n",
    "\n",
    "for index, row in unique_labels.iterrows():   \n",
    "    count = len(df_all[df_all['record_label'] == row['record_label']])\n",
    "    if count != 0:\n",
    "        appearances.append(count)"
   ]
  },
  {
   "cell_type": "code",
   "execution_count": 77,
   "metadata": {
    "scrolled": true
   },
   "outputs": [
    {
     "name": "stdout",
     "output_type": "stream",
     "text": [
      "Gini coefficient for labels in spotify curated is 0.770658\n"
     ]
    }
   ],
   "source": [
    "appearances_temp = np.asarray(appearances)\n",
    "print('Gini coefficient for labels in spotify curated is %f' % \n",
    "      gini(appearances_temp))"
   ]
  },
  {
   "cell_type": "code",
   "execution_count": 78,
   "metadata": {},
   "outputs": [
    {
     "data": {
      "text/plain": [
       "[<matplotlib.lines.Line2D at 0x7fc00ad93da0>]"
      ]
     },
     "execution_count": 78,
     "metadata": {},
     "output_type": "execute_result"
    },
    {
     "data": {
      "image/png": "[encoded data removed]",
      "text/plain": [
       "<Figure size 432x288 with 1 Axes>"
      ]
     },
     "metadata": {
      "needs_background": "light"
     },
     "output_type": "display_data"
    }
   ],
   "source": [
    "appearances_temp.sort()\n",
    "plt.title('Num appearances vs. Labels (Spotify Curated)')\n",
    "plt.plot(appearances_temp)"
   ]
  },
  {
   "cell_type": "code",
   "execution_count": 79,
   "metadata": {},
   "outputs": [],
   "source": [
    "labels = pd.read_csv('../spotify_data/all_unique_artist_with_labels.csv')[['artist_id', 'record_label']]\n",
    "unique_labels = pd.read_csv('../spotify_data/unique_entries_sorted/user_curated_unique_artist.csv')[['artist_id']]\n",
    "unique_labels = unique_labels.merge(labels, on=['artist_id'], how='left').dropna()"
   ]
  },
  {
   "cell_type": "code",
   "execution_count": 81,
   "metadata": {},
   "outputs": [],
   "source": [
    "df_all = get_all_entries('user_curated', ['track_id','artist_id'])\n",
    "df_all = df_all.merge(unique_labels[['artist_id','record_label']], on=['artist_id'], how='left')"
   ]
  },
  {
   "cell_type": "code",
   "execution_count": 82,
   "metadata": {},
   "outputs": [],
   "source": [
    "appearances = []\n",
    "\n",
    "for index, row in unique_labels.iterrows():   \n",
    "    count = len(df_all[df_all['record_label'] == row['record_label']])\n",
    "    if count != 0:\n",
    "        appearances.append(count)"
   ]
  },
  {
   "cell_type": "code",
   "execution_count": 84,
   "metadata": {},
   "outputs": [
    {
     "name": "stdout",
     "output_type": "stream",
     "text": [
      "Gini coefficient for labels in user curated is 0.766660\n"
     ]
    }
   ],
   "source": [
    "appearances_temp = np.asarray(appearances)\n",
    "print('Gini coefficient for labels in user curated is %f' % \n",
    "      gini(appearances_temp))"
   ]
  },
  {
   "cell_type": "code",
   "execution_count": 85,
   "metadata": {},
   "outputs": [
    {
     "data": {
      "text/plain": [
       "[<matplotlib.lines.Line2D at 0x7fc00ba160f0>]"
      ]
     },
     "execution_count": 85,
     "metadata": {},
     "output_type": "execute_result"
    },
    {
     "data": {
      "image/png": "[encoded data removed]",
      "text/plain": [
       "<Figure size 432x288 with 1 Axes>"
      ]
     },
     "metadata": {
      "needs_background": "light"
     },
     "output_type": "display_data"
    }
   ],
   "source": [
    "appearances_temp.sort()\n",
    "plt.title('Num appearances vs. Labels (User Curated)')\n",
    "plt.plot(appearances_temp)"
   ]
  },
  {
   "cell_type": "markdown",
   "metadata": {},
   "source": [
    "### Type-token of individual playlists"
   ]
  },
  {
   "cell_type": "markdown",
   "metadata": {},
   "source": [
    "#### Tracks"
   ]
  },
  {
   "cell_type": "code",
   "execution_count": 13,
   "metadata": {},
   "outputs": [],
   "source": [
    "type_tokens_spotify = []\n",
    "\n",
    "rootdir = '../spotify_data/playlist_tracks/spotify_curated/'\n",
    "\n",
    "for playlist in os.listdir(rootdir):\n",
    "    dfs_all = []\n",
    "    \n",
    "    if not os.path.isdir(rootdir + '/' + playlist): continue\n",
    "    \n",
    "    for file in os.listdir(rootdir + '/' + playlist):           \n",
    "        filepath = rootdir + '/' + playlist + '/' + file\n",
    "        if os.path.isdir(filepath): continue\n",
    "\n",
    "        dfs_all.append(pd.read_csv(filepath)[['track_id']])\n",
    "        \n",
    "    all_songs = pd.concat(dfs_all)\n",
    "    type_tokens_spotify.append(len(all_songs.drop_duplicates(['track_id']))/len(all_songs))"
   ]
  },
  {
   "cell_type": "code",
   "execution_count": 14,
   "metadata": {},
   "outputs": [],
   "source": [
    "type_tokens_user = []\n",
    "\n",
    "rootdir = '../spotify_data/playlist_tracks/user_curated/'\n",
    "\n",
    "for playlist in os.listdir(rootdir):\n",
    "    dfs_all = []\n",
    "    \n",
    "    if not os.path.isdir(rootdir + '/' + playlist): continue\n",
    "    \n",
    "    for file in os.listdir(rootdir + '/' + playlist):           \n",
    "        filepath = rootdir + '/' + playlist + '/' + file\n",
    "        if os.path.isdir(filepath): continue\n",
    "\n",
    "        dfs_all.append(pd.read_csv(filepath)[['track_id']])\n",
    "        \n",
    "    all_songs = pd.concat(dfs_all)\n",
    "    type_tokens_user.append(len(all_songs.drop_duplicates(['track_id']))/len(all_songs))"
   ]
  },
  {
   "cell_type": "code",
   "execution_count": 16,
   "metadata": {},
   "outputs": [
    {
     "data": {
      "text/plain": [
       "{'whiskers': [<matplotlib.lines.Line2D at 0x7fa7f27bf358>,\n",
       "  <matplotlib.lines.Line2D at 0x7fa7f27bf6a0>,\n",
       "  <matplotlib.lines.Line2D at 0x7fa7f27ce400>,\n",
       "  <matplotlib.lines.Line2D at 0x7fa7f27ce748>],\n",
       " 'caps': [<matplotlib.lines.Line2D at 0x7fa7f27bf9e8>,\n",
       "  <matplotlib.lines.Line2D at 0x7fa7f27b9ef0>,\n",
       "  <matplotlib.lines.Line2D at 0x7fa7f27cea90>,\n",
       "  <matplotlib.lines.Line2D at 0x7fa7f27cedd8>],\n",
       " 'boxes': [<matplotlib.lines.Line2D at 0x7fa7f27b9f28>,\n",
       "  <matplotlib.lines.Line2D at 0x7fa7f27ce080>],\n",
       " 'medians': [<matplotlib.lines.Line2D at 0x7fa7f27b99e8>,\n",
       "  <matplotlib.lines.Line2D at 0x7fa7f27d9160>],\n",
       " 'fliers': [<matplotlib.lines.Line2D at 0x7fa7f27adc50>,\n",
       "  <matplotlib.lines.Line2D at 0x7fa7f27d94a8>],\n",
       " 'means': []}"
      ]
     },
     "execution_count": 16,
     "metadata": {},
     "output_type": "execute_result"
    },
    {
     "data": {
      "image/png": "[encoded data removed]",
      "text/plain": [
       "<Figure size 432x288 with 1 Axes>"
      ]
     },
     "metadata": {
      "needs_background": "light"
     },
     "output_type": "display_data"
    }
   ],
   "source": [
    "fig, ax = plt.subplots()\n",
    "ax.set_title('Track type token per playlist')\n",
    "ax.set_xticklabels(['spotify', 'user'])\n",
    "ax.boxplot([type_tokens_spotify, type_tokens_user])"
   ]
  },
  {
   "cell_type": "markdown",
   "metadata": {},
   "source": [
    "#### Artists"
   ]
  },
  {
   "cell_type": "code",
   "execution_count": 25,
   "metadata": {},
   "outputs": [],
   "source": [
    "type_tokens_spotify = []\n",
    "\n",
    "rootdir = '../spotify_data/playlist_tracks/spotify_curated/'\n",
    "\n",
    "for playlist in os.listdir(rootdir):\n",
    "    dfs_all = []\n",
    "    \n",
    "    if not os.path.isdir(rootdir + '/' + playlist): continue\n",
    "    \n",
    "    for file in os.listdir(rootdir + '/' + playlist):           \n",
    "        filepath = rootdir + '/' + playlist + '/' + file\n",
    "        if os.path.isdir(filepath): continue\n",
    "\n",
    "        dfs_all.append(pd.read_csv(filepath)[['artist_id']])\n",
    "        \n",
    "    all_songs = pd.concat(dfs_all)\n",
    "    type_tokens_spotify.append(len(all_songs.drop_duplicates(['artist_id']))/len(all_songs))"
   ]
  },
  {
   "cell_type": "code",
   "execution_count": 26,
   "metadata": {},
   "outputs": [],
   "source": [
    "type_tokens_user = []\n",
    "\n",
    "rootdir = '../spotify_data/playlist_tracks/user_curated/'\n",
    "\n",
    "for playlist in os.listdir(rootdir):\n",
    "    dfs_all = []\n",
    "    \n",
    "    if not os.path.isdir(rootdir + '/' + playlist): continue\n",
    "    \n",
    "    for file in os.listdir(rootdir + '/' + playlist):           \n",
    "        filepath = rootdir + '/' + playlist + '/' + file\n",
    "        if os.path.isdir(filepath): continue\n",
    "\n",
    "        dfs_all.append(pd.read_csv(filepath)[['artist_id']])\n",
    "        \n",
    "    all_songs = pd.concat(dfs_all)\n",
    "    type_tokens_user.append(len(all_songs.drop_duplicates(['artist_id']))/len(all_songs))"
   ]
  },
  {
   "cell_type": "code",
   "execution_count": 27,
   "metadata": {},
   "outputs": [
    {
     "data": {
      "text/plain": [
       "{'whiskers': [<matplotlib.lines.Line2D at 0x7fa7f2b25198>,\n",
       "  <matplotlib.lines.Line2D at 0x7fa7f01b49e8>,\n",
       "  <matplotlib.lines.Line2D at 0x7fa7f01f2898>,\n",
       "  <matplotlib.lines.Line2D at 0x7fa7f01663c8>],\n",
       " 'caps': [<matplotlib.lines.Line2D at 0x7fa7f01da5f8>,\n",
       "  <matplotlib.lines.Line2D at 0x7fa7f01fb588>,\n",
       "  <matplotlib.lines.Line2D at 0x7fa7f0166278>,\n",
       "  <matplotlib.lines.Line2D at 0x7fa7f0166828>],\n",
       " 'boxes': [<matplotlib.lines.Line2D at 0x7fa7f01fb748>,\n",
       "  <matplotlib.lines.Line2D at 0x7fa7f01f2668>],\n",
       " 'medians': [<matplotlib.lines.Line2D at 0x7fa7f01f21d0>,\n",
       "  <matplotlib.lines.Line2D at 0x7fa7f0166b70>],\n",
       " 'fliers': [<matplotlib.lines.Line2D at 0x7fa7f01f2da0>,\n",
       "  <matplotlib.lines.Line2D at 0x7fa7f0166eb8>],\n",
       " 'means': []}"
      ]
     },
     "execution_count": 27,
     "metadata": {},
     "output_type": "execute_result"
    },
    {
     "data": {
      "image/png": "[encoded data removed]",
      "text/plain": [
       "<Figure size 432x288 with 1 Axes>"
      ]
     },
     "metadata": {
      "needs_background": "light"
     },
     "output_type": "display_data"
    }
   ],
   "source": [
    "fig, ax = plt.subplots()\n",
    "ax.set_title('Artist type token per playlist')\n",
    "ax.set_xticklabels(['spotify', 'user'])\n",
    "ax.boxplot([type_tokens_spotify, type_tokens_user])"
   ]
  },
  {
   "cell_type": "markdown",
   "metadata": {},
   "source": [
    "#### Labels (artist labels)"
   ]
  },
  {
   "cell_type": "code",
   "execution_count": 29,
   "metadata": {},
   "outputs": [],
   "source": [
    "labels = pd.read_csv('../spotify_data/all_unique_artist_with_labels.csv')[['artist_id', 'record_label']]"
   ]
  },
  {
   "cell_type": "code",
   "execution_count": 38,
   "metadata": {},
   "outputs": [],
   "source": [
    "type_tokens_spotify = []\n",
    "\n",
    "rootdir = '../spotify_data/playlist_tracks/spotify_curated/'\n",
    "\n",
    "for playlist in os.listdir(rootdir):\n",
    "    dfs_all = []\n",
    "    \n",
    "    if not os.path.isdir(rootdir + '/' + playlist): continue\n",
    "    \n",
    "    for file in os.listdir(rootdir + '/' + playlist):           \n",
    "        filepath = rootdir + '/' + playlist + '/' + file\n",
    "        if os.path.isdir(filepath): continue\n",
    "\n",
    "        dfs_all.append(pd.read_csv(filepath)[['artist_id']])\n",
    "        \n",
    "    all_songs = pd.concat(dfs_all)\n",
    "    all_songs = all_songs.merge(labels, on=['artist_id'], how='left')\n",
    "    all_songs.dropna(subset=['record_label'], inplace=True)\n",
    "    \n",
    "    type_tokens_spotify.append(len(all_songs.drop_duplicates(['record_label']))/len(all_songs))"
   ]
  },
  {
   "cell_type": "code",
   "execution_count": 39,
   "metadata": {},
   "outputs": [],
   "source": [
    "type_tokens_spotify = []\n",
    "\n",
    "rootdir = '../spotify_data/playlist_tracks/user_curated/'\n",
    "\n",
    "for playlist in os.listdir(rootdir):\n",
    "    dfs_all = []\n",
    "    \n",
    "    if not os.path.isdir(rootdir + '/' + playlist): continue\n",
    "    \n",
    "    for file in os.listdir(rootdir + '/' + playlist):           \n",
    "        filepath = rootdir + '/' + playlist + '/' + file\n",
    "        if os.path.isdir(filepath): continue\n",
    "\n",
    "        dfs_all.append(pd.read_csv(filepath)[['artist_id']])\n",
    "        \n",
    "    all_songs = pd.concat(dfs_all)\n",
    "    all_songs = all_songs.merge(labels, on=['artist_id'], how='left')\n",
    "    all_songs.dropna(subset=['record_label'], inplace=True)\n",
    "    \n",
    "    type_tokens_spotify.append(len(all_songs.drop_duplicates(['record_label']))/len(all_songs))"
   ]
  },
  {
   "cell_type": "code",
   "execution_count": 40,
   "metadata": {},
   "outputs": [
    {
     "data": {
      "text/plain": [
       "{'whiskers': [<matplotlib.lines.Line2D at 0x7fa7f2b2a0b8>,\n",
       "  <matplotlib.lines.Line2D at 0x7fa7f2b2ae10>,\n",
       "  <matplotlib.lines.Line2D at 0x7fa7f2ae6a90>,\n",
       "  <matplotlib.lines.Line2D at 0x7fa7f2ae6940>],\n",
       " 'caps': [<matplotlib.lines.Line2D at 0x7fa7f2afcbe0>,\n",
       "  <matplotlib.lines.Line2D at 0x7fa7f2b2af28>,\n",
       "  <matplotlib.lines.Line2D at 0x7fa7f2ae64e0>,\n",
       "  <matplotlib.lines.Line2D at 0x7fa7f01a9c18>],\n",
       " 'boxes': [<matplotlib.lines.Line2D at 0x7fa7f2b2ac18>,\n",
       "  <matplotlib.lines.Line2D at 0x7fa7f2b154a8>],\n",
       " 'medians': [<matplotlib.lines.Line2D at 0x7fa7f02acd30>,\n",
       "  <matplotlib.lines.Line2D at 0x7fa7f2a863c8>],\n",
       " 'fliers': [<matplotlib.lines.Line2D at 0x7fa7f2ada908>,\n",
       "  <matplotlib.lines.Line2D at 0x7fa7f2a86668>],\n",
       " 'means': []}"
      ]
     },
     "execution_count": 40,
     "metadata": {},
     "output_type": "execute_result"
    },
    {
     "data": {
      "image/png": "[encoded data removed]",
      "text/plain": [
       "<Figure size 432x288 with 1 Axes>"
      ]
     },
     "metadata": {
      "needs_background": "light"
     },
     "output_type": "display_data"
    }
   ],
   "source": [
    "fig, ax = plt.subplots()\n",
    "ax.set_title('Label type token per playlist')\n",
    "ax.set_xticklabels(['spotify', 'user'])\n",
    "ax.boxplot([type_tokens_spotify, type_tokens_user])"
   ]
  },
  {
   "cell_type": "markdown",
   "metadata": {},
   "source": [
    "### Overall popularity distribution"
   ]
  },
  {
   "cell_type": "markdown",
   "metadata": {},
   "source": [
    "#### Tracks + Artists"
   ]
  },
  {
   "cell_type": "code",
   "execution_count": null,
   "metadata": {},
   "outputs": [],
   "source": [
    "track_popularity_spotify = []\n",
    "artist_popularity_spotify = []\n",
    "\n",
    "rootdir = '../spotify_data/playlist_tracks/spotify_curated/'\n",
    "\n",
    "for playlist in os.listdir(rootdir):\n",
    "    dfs_all = []\n",
    "    \n",
    "    if not os.path.isdir(rootdir + '/' + playlist): continue\n",
    "    \n",
    "    for file in os.listdir(rootdir + '/' + playlist):           \n",
    "        filepath = rootdir + '/' + playlist + '/' + file\n",
    "        if os.path.isdir(filepath): continue\n",
    "\n",
    "        dfs_all.append(pd.read_csv(filepath)[['track_popularity', 'artist_popularity']])\n",
    "        \n",
    "    all_songs = pd.concat(dfs_all)\n",
    "    type_tokens_spotify.append(len(all_songs.drop_duplicates(['track_id']))/len(all_songs))"
   ]
  },
  {
   "cell_type": "code",
   "execution_count": null,
   "metadata": {},
   "outputs": [],
   "source": [
    "track_popularity_user = []\n",
    "artist_popularity_user = []\n",
    "\n",
    "rootdir = '../spotify_data/playlist_tracks/user_curated/'\n",
    "\n",
    "for playlist in os.listdir(rootdir):\n",
    "    dfs_all = []\n",
    "    \n",
    "    if not os.path.isdir(rootdir + '/' + playlist): continue\n",
    "    \n",
    "    for file in os.listdir(rootdir + '/' + playlist):           \n",
    "        filepath = rootdir + '/' + playlist + '/' + file\n",
    "        if os.path.isdir(filepath): continue\n",
    "\n",
    "        dfs_all.append(pd.read_csv(filepath)[['track_id']])\n",
    "        \n",
    "    all_songs = pd.concat(dfs_all)\n",
    "    type_tokens_spotify.append(len(all_songs.drop_duplicates(['track_id']))/len(all_songs))"
   ]
  },
  {
   "cell_type": "code",
   "execution_count": null,
   "metadata": {},
   "outputs": [],
   "source": [
    "fig, ax = plt.subplots()\n",
    "ax.set_title('Track type token per playlist')\n",
    "ax.set_xticklabels(['spotify', 'user'])\n",
    "ax.boxplot([type_tokens_spotify, type_tokens_user])"
   ]
  },
  {
   "cell_type": "code",
   "execution_count": null,
   "metadata": {},
   "outputs": [],
   "source": []
  },
  {
   "cell_type": "code",
   "execution_count": null,
   "metadata": {},
   "outputs": [],
   "source": []
  },
  {
   "cell_type": "code",
   "execution_count": null,
   "metadata": {},
   "outputs": [],
   "source": []
  }
 ],
 "metadata": {
  "kernelspec": {
   "display_name": "Python 3",
   "language": "python",
   "name": "python3"
  },
  "language_info": {
   "codemirror_mode": {
    "name": "ipython",
    "version": 3
   },
   "file_extension": ".py",
   "mimetype": "text/x-python",
   "name": "python",
   "nbconvert_exporter": "python",
   "pygments_lexer": "ipython3",
   "version": "3.6.7"
  }
 },
 "nbformat": 4,
 "nbformat_minor": 2
}
