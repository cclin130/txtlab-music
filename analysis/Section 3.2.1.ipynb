{
 "cells": [
  {
   "cell_type": "markdown",
   "metadata": {},
   "source": [
    "### Section 3.2.1\n",
    "\n",
    "This section looks at gender representation across class"
   ]
  },
  {
   "cell_type": "code",
   "execution_count": 1,
   "metadata": {},
   "outputs": [],
   "source": [
    "import pandas as pd"
   ]
  },
  {
   "cell_type": "code",
   "execution_count": 2,
   "metadata": {},
   "outputs": [],
   "source": [
    "all_tracks = pd.read_csv('../spotify_data/all_tracks.csv')\n",
    "\n",
    "track_ids = all_tracks['track_id'].unique()\n",
    "\n",
    "artist_ids = all_tracks['artist_id'].unique()"
   ]
  },
  {
   "cell_type": "code",
   "execution_count": 3,
   "metadata": {},
   "outputs": [
    {
     "name": "stderr",
     "output_type": "stream",
     "text": [
      "/Users/benlebrun/opt/anaconda3/lib/python3.7/site-packages/ipykernel_launcher.py:3: SettingWithCopyWarning: \n",
      "A value is trying to be set on a copy of a slice from a DataFrame\n",
      "\n",
      "See the caveats in the documentation: https://pandas.pydata.org/pandas-docs/stable/user_guide/indexing.html#returning-a-view-versus-a-copy\n",
      "  This is separate from the ipykernel package so we can avoid doing imports until\n",
      "/Users/benlebrun/opt/anaconda3/lib/python3.7/site-packages/ipykernel_launcher.py:4: SettingWithCopyWarning: \n",
      "A value is trying to be set on a copy of a slice from a DataFrame\n",
      "\n",
      "See the caveats in the documentation: https://pandas.pydata.org/pandas-docs/stable/user_guide/indexing.html#returning-a-view-versus-a-copy\n",
      "  after removing the cwd from sys.path.\n"
     ]
    }
   ],
   "source": [
    "sc = all_tracks[all_tracks['playlist_type'] == 's']\n",
    "uc = all_tracks[all_tracks['playlist_type'] == 'u']\n",
    "uc.dropna(subset=['gender'],inplace=True)\n",
    "sc.dropna(subset=['gender'],inplace=True)"
   ]
  },
  {
   "cell_type": "code",
   "execution_count": 4,
   "metadata": {},
   "outputs": [
    {
     "name": "stdout",
     "output_type": "stream",
     "text": [
      "Percentage of Spotify curated artists that are men (all tracks):  75.51888161298056\n"
     ]
    }
   ],
   "source": [
    "print('Percentage of Spotify curated artists that are men (all tracks): ', len(sc[sc['gender']==1])/len(sc)*100)"
   ]
  },
  {
   "cell_type": "code",
   "execution_count": 6,
   "metadata": {},
   "outputs": [
    {
     "name": "stdout",
     "output_type": "stream",
     "text": [
      "Percentage of Spotify curated artists that are women (all tracks):  24.481118387019443\n"
     ]
    }
   ],
   "source": [
    "print('Percentage of Spotify curated artists that are women (all tracks): ', len(sc[sc['gender']==0])/len(sc)*100)"
   ]
  },
  {
   "cell_type": "code",
   "execution_count": 7,
   "metadata": {},
   "outputs": [
    {
     "name": "stdout",
     "output_type": "stream",
     "text": [
      "Percentage of user curated artists that are men (all tracks):  77.68853967227788\n"
     ]
    }
   ],
   "source": [
    "print('Percentage of user curated artists that are men (all tracks): ', len(uc[uc['gender']==1])/len(uc)*100)"
   ]
  },
  {
   "cell_type": "code",
   "execution_count": 8,
   "metadata": {},
   "outputs": [
    {
     "name": "stdout",
     "output_type": "stream",
     "text": [
      "Percentage of user curated artists that are men (all tracks):  22.311460327722106\n"
     ]
    }
   ],
   "source": [
    "print('Percentage of user curated artists that are men (all tracks): ', len(uc[uc['gender']==0])/len(uc)*100)"
   ]
  },
  {
   "cell_type": "code",
   "execution_count": 9,
   "metadata": {},
   "outputs": [
    {
     "name": "stdout",
     "output_type": "stream",
     "text": [
      "Percentage of Spotify curated artists that are men (unique artists):  72.4625850340136\n"
     ]
    }
   ],
   "source": [
    "print('Percentage of Spotify curated artists that are men (unique artists): ', len(sc[sc['gender']==1]['artist_id'].unique())/len(sc['artist_id'].unique())*100)"
   ]
  },
  {
   "cell_type": "code",
   "execution_count": 10,
   "metadata": {},
   "outputs": [
    {
     "name": "stdout",
     "output_type": "stream",
     "text": [
      "Percentage of Spotify curated artists that are women (unique artists):  27.537414965986397\n"
     ]
    }
   ],
   "source": [
    "print('Percentage of Spotify curated artists that are women (unique artists): ', len(sc[sc['gender']==0]['artist_id'].unique())/len(sc['artist_id'].unique())*100)"
   ]
  },
  {
   "cell_type": "code",
   "execution_count": 11,
   "metadata": {},
   "outputs": [
    {
     "name": "stdout",
     "output_type": "stream",
     "text": [
      "Percentage of user curated artists that are men (unique artists):  70.82413539367181\n"
     ]
    }
   ],
   "source": [
    "print('Percentage of user curated artists that are men (unique artists): ', len(uc[uc['gender']==1]['artist_id'].unique())/len(uc['artist_id'].unique())*100)"
   ]
  },
  {
   "cell_type": "code",
   "execution_count": 12,
   "metadata": {},
   "outputs": [
    {
     "name": "stdout",
     "output_type": "stream",
     "text": [
      "Percentage of user curated artists that are women (unique artists):  29.175864606328183\n"
     ]
    }
   ],
   "source": [
    "print('Percentage of user curated artists that are women (unique artists): ', len(uc[uc['gender']==0]['artist_id'].unique())/len(uc['artist_id'].unique())*100)"
   ]
  },
  {
   "cell_type": "markdown",
   "metadata": {},
   "source": [
    "### Number of artist apperances by class"
   ]
  },
  {
   "cell_type": "code",
   "execution_count": 13,
   "metadata": {},
   "outputs": [],
   "source": [
    "unique_artists = all_tracks['artist_id'].unique()"
   ]
  },
  {
   "cell_type": "code",
   "execution_count": 14,
   "metadata": {},
   "outputs": [],
   "source": [
    "# number of appearances for artists in user curated lists \n",
    "artist_ids = uc['artist_id'].unique()\n",
    "num_lists=[]\n",
    "num_tracks=[]\n",
    "tracks = []\n",
    "gender = []\n",
    "\n",
    "for artist_id in artist_ids:\n",
    "    id_test = uc[uc['artist_id']==artist_id]\n",
    "    gender.append(id_test.iloc[0,27])\n",
    "    num_tracks.append(len(id_test['track_id']))\n",
    "    tracks.append(artist_id)\n",
    "    num_lists.append(len(id_test))\n",
    "    \n",
    "num_list_apperances_uc = pd.DataFrame()\n",
    "num_list_apperances_uc['artist_id'] = tracks\n",
    "num_list_apperances_uc['num_apperances'] = num_lists\n",
    "num_list_apperances_uc['num_tracks'] = num_tracks\n",
    "num_list_apperances_uc['artist_gender'] = gender"
   ]
  },
  {
   "cell_type": "code",
   "execution_count": null,
   "metadata": {},
   "outputs": [],
   "source": [
    "# number of appearances for artists in spotify curated lists \n",
    "artist_ids = sc['artist_id'].unique()\n",
    "num_lists=[]\n",
    "num_tracks=[]\n",
    "tracks = []\n",
    "gender = []\n",
    "\n",
    "for artist_id in artist_ids:\n",
    "    id_test = sc[sc['artist_id']==artist_id]\n",
    "    gender.append(id_test.iloc[0,27])\n",
    "    num_tracks.append(len(id_test['track_id']))\n",
    "    tracks.append(artist_id)\n",
    "    num_lists.append(len(id_test))\n",
    "    \n",
    "    \n",
    "num_list_apperances_sc = pd.DataFrame()\n",
    "num_list_apperances_sc['artist_id'] = tracks\n",
    "num_list_apperances_sc['num_apperances'] = num_lists\n",
    "num_list_apperances_sc['num_tracks'] = num_tracks\n",
    "num_list_apperances_sc['artist_gender'] = gender"
   ]
  },
  {
   "cell_type": "code",
   "execution_count": null,
   "metadata": {},
   "outputs": [],
   "source": [
    "# splitting by gender\n",
    "uc_men = num_list_apperances_uc[num_list_apperances_uc['artist_gender']==1]\n",
    "sc_men = num_list_apperances_sc[num_list_apperances_sc['artist_gender']==1]"
   ]
  },
  {
   "cell_type": "code",
   "execution_count": null,
   "metadata": {},
   "outputs": [],
   "source": [
    "uc_men.describe()"
   ]
  },
  {
   "cell_type": "code",
   "execution_count": null,
   "metadata": {},
   "outputs": [],
   "source": [
    "uc_women = num_list_apperances_uc[num_list_apperances_uc['artist_gender']==0]\n",
    "sc_women = num_list_apperances_sc[num_list_apperances_sc['artist_gender']==0]"
   ]
  },
  {
   "cell_type": "code",
   "execution_count": null,
   "metadata": {},
   "outputs": [],
   "source": [
    "uc_women.describe()"
   ]
  },
  {
   "cell_type": "code",
   "execution_count": null,
   "metadata": {},
   "outputs": [],
   "source": [
    "sc_men.describe()"
   ]
  },
  {
   "cell_type": "code",
   "execution_count": null,
   "metadata": {},
   "outputs": [],
   "source": [
    "sc_women.describe()"
   ]
  },
  {
   "cell_type": "code",
   "execution_count": null,
   "metadata": {},
   "outputs": [],
   "source": []
  }
 ],
 "metadata": {
  "kernelspec": {
   "display_name": "Python 3",
   "language": "python",
   "name": "python3"
  },
  "language_info": {
   "codemirror_mode": {
    "name": "ipython",
    "version": 3
   },
   "file_extension": ".py",
   "mimetype": "text/x-python",
   "name": "python",
   "nbconvert_exporter": "python",
   "pygments_lexer": "ipython3",
   "version": "3.7.6"
  }
 },
 "nbformat": 4,
 "nbformat_minor": 4
}
