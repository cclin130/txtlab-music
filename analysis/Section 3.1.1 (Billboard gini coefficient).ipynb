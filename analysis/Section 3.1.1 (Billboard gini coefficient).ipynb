{
 "cells": [
  {
   "cell_type": "markdown",
   "metadata": {},
   "source": [
    "### Summary"
   ]
  },
  {
   "cell_type": "markdown",
   "metadata": {},
   "source": [
    "This jupyter notebook looks at general representation stats of tracks and artists in our 5 years of Billboard data (2003 to 2008). Specifically we calculate the Gini coefficient and concentration of the top 10% to benchmark against our Spotify data."
   ]
  },
  {
   "cell_type": "code",
   "execution_count": 2,
   "metadata": {},
   "outputs": [],
   "source": [
    "import pandas as pd\n",
    "import numpy as np\n",
    "import os, re\n",
    "from datetime import date, timedelta\n",
    "import matplotlib.pyplot as plt\n",
    "\n",
    "from analysis_utils import gini"
   ]
  },
  {
   "cell_type": "markdown",
   "metadata": {},
   "source": [
    "Start by getting all the entries in our 5 years of data"
   ]
  },
  {
   "cell_type": "code",
   "execution_count": 6,
   "metadata": {},
   "outputs": [],
   "source": [
    "all_entries = []\n",
    "\n",
    "for file in os.listdir('../billboard_data'):\n",
    "    file_path = '../billboard_data/' + file\n",
    "    df_temp = pd.read_csv(file_path)\n",
    "    all_entries.append(df_temp)\n",
    "    \n",
    "df_all = pd.concat(all_entries)\n",
    "df_all = df_all.iloc[:, 1:]"
   ]
  },
  {
   "cell_type": "code",
   "execution_count": 11,
   "metadata": {},
   "outputs": [
    {
     "name": "stdout",
     "output_type": "stream",
     "text": [
      "Our 5 years of Billboard data has a total of 31300 entries\n",
      "Our 5 years of Billboard data has a total of 1158 unique artists\n",
      "Our 5 years of Billboard data has a total of 2101 unique tracks\n"
     ]
    }
   ],
   "source": [
    "print('Our 5 years of Billboard data has a total of %d entries'%(len(df_all)))\n",
    "print('Our 5 years of Billboard data has a total of %d unique artists'%(len(df_all.drop_duplicates('artist'))))\n",
    "print('Our 5 years of Billboard data has a total of %d unique tracks'%(len(df_all.drop_duplicates('track'))))"
   ]
  },
  {
   "cell_type": "markdown",
   "metadata": {},
   "source": [
    "### Gini Coefficient"
   ]
  },
  {
   "cell_type": "markdown",
   "metadata": {},
   "source": [
    "#### Tracks"
   ]
  },
  {
   "cell_type": "code",
   "execution_count": 12,
   "metadata": {},
   "outputs": [],
   "source": [
    "df_unique_tracks = df_all.drop_duplicates('track')"
   ]
  },
  {
   "cell_type": "code",
   "execution_count": 14,
   "metadata": {},
   "outputs": [],
   "source": [
    "appearances = []\n",
    "\n",
    "for index, row in df_unique_tracks.iterrows():   \n",
    "    count = len(df_all[df_all['track'] == row['track']])\n",
    "    if count != 0:\n",
    "        appearances.append(count)"
   ]
  },
  {
   "cell_type": "code",
   "execution_count": 15,
   "metadata": {},
   "outputs": [
    {
     "name": "stdout",
     "output_type": "stream",
     "text": [
      "Gini coefficient for tracks in Billboard Hot 100 (2003 to 2008) is 0.378738\n"
     ]
    }
   ],
   "source": [
    "appearances_temp = np.asarray(appearances)\n",
    "print('Gini coefficient for tracks in Billboard Hot 100 (2003 to 2008) is %f' % \n",
    "      gini(appearances_temp))"
   ]
  },
  {
   "cell_type": "code",
   "execution_count": 18,
   "metadata": {},
   "outputs": [
    {
     "data": {
      "image/png": "[encoded data removed]",
      "text/plain": [
       "<Figure size 432x288 with 1 Axes>"
      ]
     },
     "metadata": {
      "needs_background": "light"
     },
     "output_type": "display_data"
    }
   ],
   "source": [
    "appearances_temp.sort()\n",
    "plt.title('Num appearances vs. Tracks (Billboard Hot 100)')\n",
    "plt.plot(appearances_temp)\n",
    "plt.xlabel('track #')\n",
    "plt.ylabel('# appearances')\n",
    "plt.savefig('billboard_tracks.png', bbox_inches = 'tight')"
   ]
  },
  {
   "cell_type": "markdown",
   "metadata": {},
   "source": [
    "#### Artists"
   ]
  },
  {
   "cell_type": "code",
   "execution_count": 19,
   "metadata": {},
   "outputs": [],
   "source": [
    "df_unique_artists = df_all.drop_duplicates('artist')"
   ]
  },
  {
   "cell_type": "code",
   "execution_count": 20,
   "metadata": {
    "scrolled": true
   },
   "outputs": [],
   "source": [
    "appearances = []\n",
    "\n",
    "for index, row in df_unique_artists.iterrows():   \n",
    "    count = len(df_all[df_all['artist'] == row['artist']])\n",
    "    if count != 0:\n",
    "        appearances.append(count)"
   ]
  },
  {
   "cell_type": "code",
   "execution_count": 21,
   "metadata": {},
   "outputs": [
    {
     "name": "stdout",
     "output_type": "stream",
     "text": [
      "Gini coefficient for artists in Billboard Hot 100 (2003 to 2008) is 0.552488\n"
     ]
    }
   ],
   "source": [
    "appearances_temp = np.asarray(appearances)\n",
    "print('Gini coefficient for artists in Billboard Hot 100 (2003 to 2008) is %f' % \n",
    "      gini(appearances_temp))"
   ]
  },
  {
   "cell_type": "code",
   "execution_count": 22,
   "metadata": {},
   "outputs": [
    {
     "data": {
      "image/png": "[encoded data removed]",
      "text/plain": [
       "<Figure size 432x288 with 1 Axes>"
      ]
     },
     "metadata": {
      "needs_background": "light"
     },
     "output_type": "display_data"
    }
   ],
   "source": [
    "appearances_temp.sort()\n",
    "plt.title('Num appearances vs. Artists (Billboard Hot 100)')\n",
    "plt.plot(appearances_temp)\n",
    "plt.xlabel('artist #')\n",
    "plt.ylabel('# appearances')\n",
    "plt.savefig('billboard_artists.png', bbox_inches = 'tight')"
   ]
  },
  {
   "cell_type": "markdown",
   "metadata": {},
   "source": [
    "### Concentration of top 10%"
   ]
  },
  {
   "cell_type": "markdown",
   "metadata": {},
   "source": [
    "#### Tracks"
   ]
  },
  {
   "cell_type": "code",
   "execution_count": 23,
   "metadata": {},
   "outputs": [],
   "source": [
    "df_all_sorted = df_all.groupby(['track']).count()\\\n",
    "                .reset_index()\\\n",
    "                .sort_values(by='artist', ascending=False)"
   ]
  },
  {
   "cell_type": "code",
   "execution_count": 26,
   "metadata": {},
   "outputs": [
    {
     "name": "stdout",
     "output_type": "stream",
     "text": [
      "The concentration of the top 10 percent of tracks is 0.238850\n"
     ]
    }
   ],
   "source": [
    "# get top 10%, then calculate the concentration of top 10%\n",
    "top_10_num = int(len(df_all_sorted)/10)\n",
    "top_10_df_all = df_all_sorted.iloc[:top_10_num, :]\n",
    "\n",
    "top_10_conc = top_10_df_all['artist'].sum() / df_all_sorted['artist'].sum()\n",
    "print('The concentration of the top 10 percent of tracks is %f' % \n",
    "      top_10_conc)"
   ]
  },
  {
   "cell_type": "markdown",
   "metadata": {},
   "source": [
    "#### Artists"
   ]
  },
  {
   "cell_type": "code",
   "execution_count": 27,
   "metadata": {},
   "outputs": [],
   "source": [
    "df_all_sorted = df_all.groupby(['artist']).count()\\\n",
    "                .reset_index()\\\n",
    "                .sort_values(by='track', ascending=False)"
   ]
  },
  {
   "cell_type": "code",
   "execution_count": 28,
   "metadata": {},
   "outputs": [
    {
     "name": "stdout",
     "output_type": "stream",
     "text": [
      "The concentration of the top 10 percent of artists is 0.432971\n"
     ]
    }
   ],
   "source": [
    "# get top 10%, then calculate the concentration of top 10%\n",
    "top_10_num = int(len(df_all_sorted)/10)\n",
    "top_10_df_all = df_all_sorted.iloc[:top_10_num, :]\n",
    "\n",
    "top_10_conc = top_10_df_all['track'].sum() / df_all_sorted['track'].sum()\n",
    "print('The concentration of the top 10 percent of artists is %f' % \n",
    "      top_10_conc)"
   ]
  }
 ],
 "metadata": {
  "kernelspec": {
   "display_name": "Python 3",
   "language": "python",
   "name": "python3"
  },
  "language_info": {
   "codemirror_mode": {
    "name": "ipython",
    "version": 3
   },
   "file_extension": ".py",
   "mimetype": "text/x-python",
   "name": "python",
   "nbconvert_exporter": "python",
   "pygments_lexer": "ipython3",
   "version": "3.6.7"
  }
 },
 "nbformat": 4,
 "nbformat_minor": 2
}
