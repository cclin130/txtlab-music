{
 "cells": [
  {
   "cell_type": "markdown",
   "metadata": {},
   "source": [
    "## Building data sets \n",
    "\n",
    "In this notebook, we assemble the `all_tracks.csv` and `all_tracks_with_labels.csv` data sets."
   ]
  },
  {
   "cell_type": "code",
   "execution_count": 1,
   "metadata": {},
   "outputs": [],
   "source": [
    "import pandas as pd\n",
    "import numpy as np\n",
    "import os, itertools\n",
    "from analysis_utils import get_all_entries"
   ]
  },
  {
   "cell_type": "markdown",
   "metadata": {},
   "source": [
    "### all tracks data set"
   ]
  },
  {
   "cell_type": "code",
   "execution_count": 2,
   "metadata": {},
   "outputs": [],
   "source": [
    "artists = pd.read_csv('../spotify_data/all_unique_artist.csv')\n",
    "artist_genders = dict(zip(artists['artist_id'], artists['gender']))"
   ]
  },
  {
   "cell_type": "code",
   "execution_count": 3,
   "metadata": {},
   "outputs": [],
   "source": [
    "def get_entries(curation, index_cols, artist_genders):\n",
    "    ''' same as get_all_entries only extended to include playlist name and artist gender '''\n",
    "    rootdir = '../spotify_data/playlist_tracks/%s/' % curation\n",
    "    \n",
    "    dfs_all = []\n",
    "    for playlist in os.listdir(rootdir):\n",
    "        if not os.path.isdir(rootdir + '/' + playlist): continue\n",
    "        \n",
    "        for file in os.listdir(rootdir + '/' + playlist):           \n",
    "            filepath = rootdir + '/' + playlist + '/' + file\n",
    "            if os.path.isdir(filepath): continue\n",
    "            df = pd.read_csv(filepath)[index_cols]\n",
    "            df['playlist_name'] = playlist\n",
    "            df['gender'] = [artist_genders[artist_id] for artist_id in df.artist_id]\n",
    "            dfs_all.append(df)\n",
    "\n",
    "    return pd.concat(dfs_all)"
   ]
  },
  {
   "cell_type": "code",
   "execution_count": 4,
   "metadata": {},
   "outputs": [],
   "source": [
    "cols = pd.read_csv('../spotify_data/playlist_tracks/spotify_curated/Classic_Road_Trip_Songs/2019-06-16.csv').columns"
   ]
  },
  {
   "cell_type": "code",
   "execution_count": 5,
   "metadata": {},
   "outputs": [],
   "source": [
    "all_spotify_curated = get_entries('spotify_curated', artist_genders=artist_genders, index_cols=cols)"
   ]
  },
  {
   "cell_type": "code",
   "execution_count": 6,
   "metadata": {},
   "outputs": [],
   "source": [
    "all_user_curated = get_entries('user_curated', artist_genders=artist_genders, index_cols=cols)"
   ]
  },
  {
   "cell_type": "code",
   "execution_count": 7,
   "metadata": {},
   "outputs": [
    {
     "data": {
      "text/plain": [
       "(103189, 109010)"
      ]
     },
     "execution_count": 7,
     "metadata": {},
     "output_type": "execute_result"
    }
   ],
   "source": [
    "len(all_spotify_curated), len(all_user_curated)"
   ]
  },
  {
   "cell_type": "code",
   "execution_count": 8,
   "metadata": {},
   "outputs": [],
   "source": [
    "all_spotify_curated['playlist_type'] = 's'\n",
    "all_user_curated['playlist_type'] = 'u'"
   ]
  },
  {
   "cell_type": "code",
   "execution_count": 9,
   "metadata": {},
   "outputs": [],
   "source": [
    "all_tracks = pd.concat([all_spotify_curated, all_user_curated])"
   ]
  },
  {
   "cell_type": "code",
   "execution_count": 10,
   "metadata": {},
   "outputs": [],
   "source": [
    "assert len(all_tracks) == len(pd.concat([get_all_entries('spotify_curated', ['track_id']), get_all_entries('user_curated', ['track_id'])]))"
   ]
  },
  {
   "cell_type": "code",
   "execution_count": 197,
   "metadata": {},
   "outputs": [],
   "source": [
    "all_tracks.to_csv('../spotify_data/all_tracks.csv', index=False)"
   ]
  },
  {
   "cell_type": "markdown",
   "metadata": {},
   "source": [
    "### label data set\n",
    "\n",
    "since we count tracks associated with multiple labels as multiple seperate label appearances, we need to make a different data set for record label analysis"
   ]
  },
  {
   "cell_type": "code",
   "execution_count": 180,
   "metadata": {},
   "outputs": [],
   "source": [
    "tracks = pd.read_csv('../spotify_data/all_unique_track_with_labels.csv')"
   ]
  },
  {
   "cell_type": "code",
   "execution_count": 181,
   "metadata": {},
   "outputs": [],
   "source": [
    "unique_tracks = tracks.drop_duplicates(subset=['track_id'], keep='first')\n",
    "# tracks that are duplicated\n",
    "duplicates = tracks[tracks.duplicated(subset=['track_id'], keep='first')]"
   ]
  },
  {
   "cell_type": "code",
   "execution_count": 182,
   "metadata": {},
   "outputs": [],
   "source": [
    "track_labels = dict(zip(unique_tracks['track_id'], unique_tracks['album_label']))"
   ]
  },
  {
   "cell_type": "code",
   "execution_count": 183,
   "metadata": {},
   "outputs": [],
   "source": [
    "for track_id, second_label in zip(duplicates.track_id, duplicates.album_label):\n",
    "    cur_label = track_labels[track_id]\n",
    "    if isinstance(cur_label, str):\n",
    "        track_labels[track_id] = [cur_label, second_label]\n",
    "    elif not isinstance(cur_label, float):\n",
    "        # if not np.nan and not a string, we append to the list \n",
    "        cur_label.append(second_label)\n",
    "        track_labels[track_id] = cur_label"
   ]
  },
  {
   "cell_type": "code",
   "execution_count": 184,
   "metadata": {},
   "outputs": [
    {
     "data": {
      "text/plain": [
       "['Resilience Records', 'Nothing Else Matters', 'RCA']"
      ]
     },
     "execution_count": 184,
     "metadata": {},
     "output_type": "execute_result"
    }
   ],
   "source": [
    "# track with three labels\n",
    "track_labels['7gl2cxHUqmZm1gbva9fLku']"
   ]
  },
  {
   "cell_type": "code",
   "execution_count": 185,
   "metadata": {},
   "outputs": [],
   "source": [
    "assert len(track_labels) == len(unique_tracks)"
   ]
  },
  {
   "cell_type": "code",
   "execution_count": 162,
   "metadata": {},
   "outputs": [],
   "source": [
    "def get_all_label_entries(curation, track_labels):    \n",
    "    rootdir = '../spotify_data/playlist_tracks/%s/' % curation\n",
    "    \n",
    "    tracks = []\n",
    "    for playlist in os.listdir(rootdir):\n",
    "        if not os.path.isdir(rootdir + '/' + playlist): continue\n",
    "        for file in os.listdir(rootdir + '/' + playlist):           \n",
    "            filepath = rootdir + '/' + playlist + '/' + file\n",
    "            if os.path.isdir(filepath): continue\n",
    "                \n",
    "            track_ids = pd.read_csv(filepath)['track_id']\n",
    "            for track in track_ids:\n",
    "                try:\n",
    "                    label = track_labels[track]\n",
    "                except KeyError:\n",
    "                    label = np.nan\n",
    "                if isinstance(label, list):\n",
    "                    # if label is list then there are multiple labels\n",
    "                    # track with multiple labels => multiple appearances\n",
    "                    tracks.extend([[track, playlist, l] for l in label])\n",
    "                else:\n",
    "                    tracks.append([track, playlist, label])\n",
    "\n",
    "    return pd.DataFrame(tracks, columns=['track_id', 'playlist_name', 'label'])"
   ]
  },
  {
   "cell_type": "code",
   "execution_count": 163,
   "metadata": {},
   "outputs": [],
   "source": [
    "spotify_labels = get_all_label_entries('spotify_curated', track_labels)"
   ]
  },
  {
   "cell_type": "code",
   "execution_count": 164,
   "metadata": {},
   "outputs": [],
   "source": [
    "user_labels = get_all_label_entries('user_curated', track_labels)"
   ]
  },
  {
   "cell_type": "code",
   "execution_count": 165,
   "metadata": {},
   "outputs": [],
   "source": [
    "spotify_labels['playlist_type'] = 's'\n",
    "user_labels['playlist_type'] = 'u'"
   ]
  },
  {
   "cell_type": "code",
   "execution_count": 166,
   "metadata": {},
   "outputs": [],
   "source": [
    "all_labels = pd.concat([spotify_labels, user_labels])"
   ]
  },
  {
   "cell_type": "code",
   "execution_count": 168,
   "metadata": {},
   "outputs": [
    {
     "data": {
      "text/html": [
       "<div>\n",
       "<style scoped>\n",
       "    .dataframe tbody tr th:only-of-type {\n",
       "        vertical-align: middle;\n",
       "    }\n",
       "\n",
       "    .dataframe tbody tr th {\n",
       "        vertical-align: top;\n",
       "    }\n",
       "\n",
       "    .dataframe thead th {\n",
       "        text-align: right;\n",
       "    }\n",
       "</style>\n",
       "<table border=\"1\" class=\"dataframe\">\n",
       "  <thead>\n",
       "    <tr style=\"text-align: right;\">\n",
       "      <th></th>\n",
       "      <th>track_id</th>\n",
       "      <th>playlist_name</th>\n",
       "      <th>label</th>\n",
       "      <th>playlist_type</th>\n",
       "    </tr>\n",
       "  </thead>\n",
       "  <tbody>\n",
       "    <tr>\n",
       "      <th>0</th>\n",
       "      <td>2zvot9pY2FNl1E94kc4K8M</td>\n",
       "      <td>Classic_Road_Trip_Songs</td>\n",
       "      <td>Mercury Records Limited</td>\n",
       "      <td>s</td>\n",
       "    </tr>\n",
       "    <tr>\n",
       "      <th>1</th>\n",
       "      <td>45yEy5WJywhJ3sDI28ajTm</td>\n",
       "      <td>Classic_Road_Trip_Songs</td>\n",
       "      <td>EMI Catalogue</td>\n",
       "      <td>s</td>\n",
       "    </tr>\n",
       "    <tr>\n",
       "      <th>2</th>\n",
       "      <td>0FeCO85RKW8fDRytwXof2x</td>\n",
       "      <td>Classic_Road_Trip_Songs</td>\n",
       "      <td>Now! Music</td>\n",
       "      <td>s</td>\n",
       "    </tr>\n",
       "    <tr>\n",
       "      <th>3</th>\n",
       "      <td>1XDgeeNIbwXobo7EkcLa2u</td>\n",
       "      <td>Classic_Road_Trip_Songs</td>\n",
       "      <td>Universal Music Spain S.L.</td>\n",
       "      <td>s</td>\n",
       "    </tr>\n",
       "    <tr>\n",
       "      <th>4</th>\n",
       "      <td>7Ar4G7Ci11gpt6sfH9Cgz5</td>\n",
       "      <td>Classic_Road_Trip_Songs</td>\n",
       "      <td>Rhino</td>\n",
       "      <td>s</td>\n",
       "    </tr>\n",
       "    <tr>\n",
       "      <th>...</th>\n",
       "      <td>...</td>\n",
       "      <td>...</td>\n",
       "      <td>...</td>\n",
       "      <td>...</td>\n",
       "    </tr>\n",
       "    <tr>\n",
       "      <th>122014</th>\n",
       "      <td>7gl2cxHUqmZm1gbva9fLku</td>\n",
       "      <td>Running_Workout_Goals</td>\n",
       "      <td>Resilience Records</td>\n",
       "      <td>u</td>\n",
       "    </tr>\n",
       "    <tr>\n",
       "      <th>122015</th>\n",
       "      <td>7gl2cxHUqmZm1gbva9fLku</td>\n",
       "      <td>Running_Workout_Goals</td>\n",
       "      <td>Nothing Else Matters</td>\n",
       "      <td>u</td>\n",
       "    </tr>\n",
       "    <tr>\n",
       "      <th>122016</th>\n",
       "      <td>7gl2cxHUqmZm1gbva9fLku</td>\n",
       "      <td>Running_Workout_Goals</td>\n",
       "      <td>RCA</td>\n",
       "      <td>u</td>\n",
       "    </tr>\n",
       "    <tr>\n",
       "      <th>122017</th>\n",
       "      <td>6oJ6le65B3SEqPwMRNXWjY</td>\n",
       "      <td>Running_Workout_Goals</td>\n",
       "      <td>Kygo</td>\n",
       "      <td>u</td>\n",
       "    </tr>\n",
       "    <tr>\n",
       "      <th>122018</th>\n",
       "      <td>6oJ6le65B3SEqPwMRNXWjY</td>\n",
       "      <td>Running_Workout_Goals</td>\n",
       "      <td>RCA Records</td>\n",
       "      <td>u</td>\n",
       "    </tr>\n",
       "  </tbody>\n",
       "</table>\n",
       "<p>235808 rows × 4 columns</p>\n",
       "</div>"
      ],
      "text/plain": [
       "                      track_id            playlist_name  \\\n",
       "0       2zvot9pY2FNl1E94kc4K8M  Classic_Road_Trip_Songs   \n",
       "1       45yEy5WJywhJ3sDI28ajTm  Classic_Road_Trip_Songs   \n",
       "2       0FeCO85RKW8fDRytwXof2x  Classic_Road_Trip_Songs   \n",
       "3       1XDgeeNIbwXobo7EkcLa2u  Classic_Road_Trip_Songs   \n",
       "4       7Ar4G7Ci11gpt6sfH9Cgz5  Classic_Road_Trip_Songs   \n",
       "...                        ...                      ...   \n",
       "122014  7gl2cxHUqmZm1gbva9fLku    Running_Workout_Goals   \n",
       "122015  7gl2cxHUqmZm1gbva9fLku    Running_Workout_Goals   \n",
       "122016  7gl2cxHUqmZm1gbva9fLku    Running_Workout_Goals   \n",
       "122017  6oJ6le65B3SEqPwMRNXWjY    Running_Workout_Goals   \n",
       "122018  6oJ6le65B3SEqPwMRNXWjY    Running_Workout_Goals   \n",
       "\n",
       "                             label playlist_type  \n",
       "0          Mercury Records Limited             s  \n",
       "1                    EMI Catalogue             s  \n",
       "2                       Now! Music             s  \n",
       "3       Universal Music Spain S.L.             s  \n",
       "4                            Rhino             s  \n",
       "...                            ...           ...  \n",
       "122014          Resilience Records             u  \n",
       "122015        Nothing Else Matters             u  \n",
       "122016                         RCA             u  \n",
       "122017                        Kygo             u  \n",
       "122018                 RCA Records             u  \n",
       "\n",
       "[235808 rows x 4 columns]"
      ]
     },
     "execution_count": 168,
     "metadata": {},
     "output_type": "execute_result"
    }
   ],
   "source": [
    "all_labels"
   ]
  },
  {
   "cell_type": "code",
   "execution_count": 196,
   "metadata": {},
   "outputs": [],
   "source": [
    "all_labels.to_csv('../spotify_data/all_tracks_with_labels.csv', index=False)"
   ]
  },
  {
   "cell_type": "code",
   "execution_count": null,
   "metadata": {},
   "outputs": [],
   "source": []
  }
 ],
 "metadata": {
  "kernelspec": {
   "display_name": "Python 3",
   "language": "python",
   "name": "python3"
  },
  "language_info": {
   "codemirror_mode": {
    "name": "ipython",
    "version": 3
   },
   "file_extension": ".py",
   "mimetype": "text/x-python",
   "name": "python",
   "nbconvert_exporter": "python",
   "pygments_lexer": "ipython3",
   "version": "3.7.6"
  }
 },
 "nbformat": 4,
 "nbformat_minor": 4
}
