{
 "cells": [
  {
   "cell_type": "markdown",
   "metadata": {},
   "source": [
    "### Section 3.2.2"
   ]
  },
  {
   "cell_type": "code",
   "execution_count": 1,
   "metadata": {},
   "outputs": [],
   "source": [
    "import pandas as pd\n",
    "import numpy as np\n",
    "import os, re\n",
    "from datetime import date, timedelta\n",
    "\n",
    "from analysis_utils import get_label_count, get_num_appearances, get_genres, get_genre_list, get_genre_intersections,get_genre_intersection_props, get_gender_distribution"
   ]
  },
  {
   "cell_type": "code",
   "execution_count": 2,
   "metadata": {},
   "outputs": [],
   "source": [
    "data = pd.read_csv('../spotify_data/all_tracks.csv')"
   ]
  },
  {
   "cell_type": "markdown",
   "metadata": {},
   "source": [
    "### Genre Partionning"
   ]
  },
  {
   "cell_type": "code",
   "execution_count": 3,
   "metadata": {},
   "outputs": [],
   "source": [
    "pd.options.mode.chained_assignment = None\n",
    "\n",
    "hip_list = get_genre_list(data,'hip hop')\n",
    "hip_hop = data.iloc[hip_list,:]\n",
    "hip_hop['genre'] = 'hh'\n",
    "hip_hop.name = 'hip_hop'\n",
    "\n",
    "rock_list = get_genre_list(data,'rock')\n",
    "rock = data.iloc[rock_list,:]\n",
    "rock['genre'] = 'rk'\n",
    "rock.name = 'rock'\n",
    "\n",
    "blues_list = get_genre_list(data,'blues')\n",
    "blues = data.iloc[blues_list,:]\n",
    "blues['genre'] = 'bl'\n",
    "blues.name = 'blues'\n",
    "\n",
    "country_list = get_genre_list(data,'country')\n",
    "country = data.iloc[country_list,:]\n",
    "country['genre'] = 'ct'\n",
    "country.name = 'country'\n",
    "\n",
    "electronic_list = get_genre_list(data,'(electronic)|(edm)')\n",
    "electronic = data.iloc[electronic_list,:]\n",
    "electronic['genre'] = 'el'\n",
    "electronic.name = 'electronic'\n",
    "\n",
    "folk_list = get_genre_list(data,'folk')\n",
    "folk = data.iloc[folk_list,:]\n",
    "folk['genre'] = 'fk'\n",
    "folk.name = 'folk'\n",
    "\n",
    "jazz_list = get_genre_list(data,'jazz')\n",
    "jazz = data.iloc[jazz_list,:]\n",
    "jazz['genre'] = 'jz'\n",
    "jazz.name = 'jazz'\n",
    "\n",
    "latin_list = get_genre_list(data,'latin')\n",
    "latin = data.iloc[latin_list,:]\n",
    "latin['genre'] ='la'\n",
    "latin.name = 'latin'\n",
    "\n",
    "pop_list = get_genre_list(data,'pop')\n",
    "pop = data.iloc[pop_list,:]\n",
    "pop['genre'] = 'pp'\n",
    "pop.name = 'pop'\n",
    "\n",
    "r_b_list = get_genre_list(data,'(r&b)|(soul)')\n",
    "r_b = data.iloc[r_b_list,:]\n",
    "r_b['genre'] = 'rb'\n",
    "r_b.name = \"r&b/soul\"\n",
    "\n",
    "indie_list = get_genre_list(data,'indie')\n",
    "indie = data.iloc[indie_list,:]\n",
    "indie['genre'] = 'in'\n",
    "indie.name = 'indie'\n",
    "\n",
    "house_list = get_genre_list(data,'house')\n",
    "house = data.iloc[house_list,]\n",
    "house['genre'] = 'hs'\n",
    "house.name = 'house'\n",
    "\n",
    "rap_list = get_genre_list(data,'rap')\n",
    "rap = data.iloc[rap_list,]\n",
    "rap['genre'] = 'rp'\n",
    "rap.name = 'rap'"
   ]
  },
  {
   "cell_type": "code",
   "execution_count": 4,
   "metadata": {},
   "outputs": [],
   "source": [
    "all_buc_genres = pd.concat([hip_hop, pop, rock, blues, rap, country, electronic, folk, indie, jazz, latin, r_b, house])"
   ]
  },
  {
   "cell_type": "code",
   "execution_count": 5,
   "metadata": {},
   "outputs": [
    {
     "name": "stdout",
     "output_type": "stream",
     "text": [
      "Amount of tracks in 'other' category:  23023\n",
      "Amount of unique tracks in 'other' category:  2471\n"
     ]
    }
   ],
   "source": [
    "# 'other' category\n",
    "other = data[~data['index'].isin(all_buc_genres['index'])]\n",
    "other = other[~(other['artist_genres'].isna())]\n",
    "print(\"Amount of tracks in 'other' category: \", len(other))\n",
    "print(\"Amount of unique tracks in 'other' category: \", len(other['track_id'].unique()))"
   ]
  },
  {
   "cell_type": "code",
   "execution_count": 6,
   "metadata": {},
   "outputs": [],
   "source": [
    "other_men = other[other['gender']==1]\n",
    "other_women = other[other['gender']==0]"
   ]
  },
  {
   "cell_type": "code",
   "execution_count": 7,
   "metadata": {},
   "outputs": [
    {
     "name": "stdout",
     "output_type": "stream",
     "text": [
      "man concentration ratio in other category:  0.7534694528632956\n",
      "woman concentration ratio in other category:  0.24653054713670441\n"
     ]
    }
   ],
   "source": [
    "print('man concentration ratio in other category: ', len(other_men)/(len(other_men)+len(other_women)))\n",
    "print('woman concentration ratio in other category: ', len(other_women)/(len(other_men)+len(other_women)))"
   ]
  },
  {
   "cell_type": "markdown",
   "metadata": {},
   "source": [
    "### Gender distribution by genre"
   ]
  },
  {
   "cell_type": "code",
   "execution_count": 8,
   "metadata": {},
   "outputs": [],
   "source": [
    "rap_perc, electronic_perc, pop_perc = get_gender_distribution(rap), get_gender_distribution(electronic), get_gender_distribution(pop)"
   ]
  },
  {
   "cell_type": "code",
   "execution_count": 9,
   "metadata": {},
   "outputs": [],
   "source": [
    "hip_hop_perc, rock_perc = get_gender_distribution(hip_hop), get_gender_distribution(rock)"
   ]
  },
  {
   "cell_type": "code",
   "execution_count": 10,
   "metadata": {},
   "outputs": [],
   "source": [
    "blues_perc, country_perc, folk_perc = get_gender_distribution(blues), get_gender_distribution(country), get_gender_distribution(folk)"
   ]
  },
  {
   "cell_type": "code",
   "execution_count": 11,
   "metadata": {},
   "outputs": [],
   "source": [
    "jazz_perc, latin_perc, r_b_perc = get_gender_distribution(jazz), get_gender_distribution(latin), get_gender_distribution(r_b)"
   ]
  },
  {
   "cell_type": "code",
   "execution_count": 12,
   "metadata": {},
   "outputs": [],
   "source": [
    "indie_perc, house_perc = get_gender_distribution(indie), get_gender_distribution(house)"
   ]
  },
  {
   "cell_type": "code",
   "execution_count": 13,
   "metadata": {},
   "outputs": [],
   "source": [
    "other_perc = get_gender_distribution(other)"
   ]
  },
  {
   "cell_type": "code",
   "execution_count": 15,
   "metadata": {
    "scrolled": true
   },
   "outputs": [
    {
     "data": {
      "image/png": "[encoded data removed]",
      "text/plain": [
       "<Figure size 1296x504 with 1 Axes>"
      ]
     },
     "metadata": {
      "needs_background": "light"
     },
     "output_type": "display_data"
    }
   ],
   "source": [
    "import matplotlib.pyplot as plt\n",
    "N = 14\n",
    "men_perc = (r_b_perc, indie_perc, folk_perc, pop_perc,other_perc,country_perc,latin_perc,jazz_perc,rap_perc,house_perc,rock_perc,blues_perc,hip_hop_perc,electronic_perc)\n",
    "women_perc = (1-r_b_perc, 1-indie_perc, 1-folk_perc, 1-pop_perc,1-other_perc,1-country_perc,1-latin_perc,1-jazz_perc,1-rap_perc,1-house_perc,1-rock_perc,1-blues_perc,1-hip_hop_perc,1-electronic_perc)\n",
    "ind = np.arange(N)\n",
    "width = 0.35\n",
    "plt.figure(figsize=(18,7))\n",
    "plt.bar(ind, men_perc, width, label='Men', color='#71CE92')\n",
    "plt.bar(ind + width, women_perc, width,\n",
    "    label='Women', color='silver')\n",
    "\n",
    "plt.ylabel('Percent of tracks')\n",
    "plt.xlabel('Genre')\n",
    "\n",
    "plt.xticks(ind + width / 2, ('r&b/soul', 'indie', 'folk','pop','other','country','latin','jazz','rap','house','rock','blues','hip hop','electronic'))\n",
    "plt.legend(loc='best')\n",
    "plt.savefig('gender_dist_genre.png')\n",
    "plt.show(10,10)"
   ]
  },
  {
   "cell_type": "code",
   "execution_count": 21,
   "metadata": {},
   "outputs": [
    {
     "name": "stdout",
     "output_type": "stream",
     "text": [
      "Average male concentration ratio: 81.37364598336887\n"
     ]
    }
   ],
   "source": [
    "# average concentration\n",
    "total = 0\n",
    "for man_ratio in men_perc:\n",
    "    total += man_ratio\n",
    "print(\"Average male concentration ratio:\", total/len(men_perc)*100)"
   ]
  },
  {
   "cell_type": "code",
   "execution_count": 24,
   "metadata": {},
   "outputs": [
    {
     "name": "stdout",
     "output_type": "stream",
     "text": [
      "Male concentration ratio across dataset: 80.86180274078363\n"
     ]
    }
   ],
   "source": [
    "# concentration across dataset as a whole (including other)\n",
    "all_genres = pd.concat([all_buc_genres, other])\n",
    "women = all_genres[all_genres['gender']==0]\n",
    "men = all_genres[all_genres['gender']==1]\n",
    "print(\"Male concentration ratio across dataset:\", len(men)/(len(men)+len(women))*100)"
   ]
  },
  {
   "cell_type": "code",
   "execution_count": 25,
   "metadata": {},
   "outputs": [
    {
     "name": "stdout",
     "output_type": "stream",
     "text": [
      "Male concentration ratio across dataset: 81.09358344339338\n"
     ]
    }
   ],
   "source": [
    "# concentration across dataset as a whole (excluding other)\n",
    "women = all_buc_genres[all_buc_genres['gender']==0]\n",
    "men = all_buc_genres[all_buc_genres['gender']==1]\n",
    "print(\"Male concentration ratio across dataset:\", len(men)/(len(men)+len(women))*100)"
   ]
  },
  {
   "cell_type": "code",
   "execution_count": 23,
   "metadata": {},
   "outputs": [
    {
     "data": {
      "text/html": [
       "<div>\n",
       "<style scoped>\n",
       "    .dataframe tbody tr th:only-of-type {\n",
       "        vertical-align: middle;\n",
       "    }\n",
       "\n",
       "    .dataframe tbody tr th {\n",
       "        vertical-align: top;\n",
       "    }\n",
       "\n",
       "    .dataframe thead th {\n",
       "        text-align: right;\n",
       "    }\n",
       "</style>\n",
       "<table border=\"1\" class=\"dataframe\">\n",
       "  <thead>\n",
       "    <tr style=\"text-align: right;\">\n",
       "      <th></th>\n",
       "      <th>index</th>\n",
       "      <th>track_name</th>\n",
       "      <th>track_id</th>\n",
       "      <th>date_added</th>\n",
       "      <th>album_name</th>\n",
       "      <th>release_date</th>\n",
       "      <th>track_duration_ms</th>\n",
       "      <th>track_popularity</th>\n",
       "      <th>artist</th>\n",
       "      <th>artist_id</th>\n",
       "      <th>...</th>\n",
       "      <th>instrumentalness</th>\n",
       "      <th>liveness</th>\n",
       "      <th>valence</th>\n",
       "      <th>tempo</th>\n",
       "      <th>time_signature</th>\n",
       "      <th>playlist_name</th>\n",
       "      <th>playlist_type</th>\n",
       "      <th>gender</th>\n",
       "      <th>label</th>\n",
       "      <th>genre</th>\n",
       "    </tr>\n",
       "  </thead>\n",
       "  <tbody>\n",
       "    <tr>\n",
       "      <th>1515</th>\n",
       "      <td>1515</td>\n",
       "      <td>Truth Hurts</td>\n",
       "      <td>5Qel1sTrU4LM8HlJSPT2jd</td>\n",
       "      <td>2019-05-10T04:01:32Z</td>\n",
       "      <td>Truth Hurts</td>\n",
       "      <td>2017-09-19</td>\n",
       "      <td>173325</td>\n",
       "      <td>79</td>\n",
       "      <td>Lizzo</td>\n",
       "      <td>56oDRnqbIiwx4mymNEv7dS</td>\n",
       "      <td>...</td>\n",
       "      <td>0.000000</td>\n",
       "      <td>0.123</td>\n",
       "      <td>0.412</td>\n",
       "      <td>158.087</td>\n",
       "      <td>4.0</td>\n",
       "      <td>Mood_Booster</td>\n",
       "      <td>s</td>\n",
       "      <td>0.0</td>\n",
       "      <td>Nice Life/Atlantic</td>\n",
       "      <td>hh</td>\n",
       "    </tr>\n",
       "    <tr>\n",
       "      <th>1560</th>\n",
       "      <td>1560</td>\n",
       "      <td>Tempo (feat. Missy Elliott)</td>\n",
       "      <td>6nBQFAIVFmAx2oZ8p6lUg6</td>\n",
       "      <td>2019-05-10T04:01:32Z</td>\n",
       "      <td>Cuz I Love You</td>\n",
       "      <td>2019-04-19</td>\n",
       "      <td>175342</td>\n",
       "      <td>72</td>\n",
       "      <td>Lizzo</td>\n",
       "      <td>56oDRnqbIiwx4mymNEv7dS</td>\n",
       "      <td>...</td>\n",
       "      <td>0.000011</td>\n",
       "      <td>0.358</td>\n",
       "      <td>0.588</td>\n",
       "      <td>107.019</td>\n",
       "      <td>4.0</td>\n",
       "      <td>Mood_Booster</td>\n",
       "      <td>s</td>\n",
       "      <td>0.0</td>\n",
       "      <td>Atlantic Records</td>\n",
       "      <td>hh</td>\n",
       "    </tr>\n",
       "    <tr>\n",
       "      <th>1632</th>\n",
       "      <td>1632</td>\n",
       "      <td>Truth Hurts</td>\n",
       "      <td>5Qel1sTrU4LM8HlJSPT2jd</td>\n",
       "      <td>2019-05-10T04:01:32Z</td>\n",
       "      <td>Truth Hurts</td>\n",
       "      <td>2017-09-19</td>\n",
       "      <td>173325</td>\n",
       "      <td>76</td>\n",
       "      <td>Lizzo</td>\n",
       "      <td>56oDRnqbIiwx4mymNEv7dS</td>\n",
       "      <td>...</td>\n",
       "      <td>0.000000</td>\n",
       "      <td>0.123</td>\n",
       "      <td>0.412</td>\n",
       "      <td>158.087</td>\n",
       "      <td>4.0</td>\n",
       "      <td>Mood_Booster</td>\n",
       "      <td>s</td>\n",
       "      <td>0.0</td>\n",
       "      <td>Nice Life/Atlantic</td>\n",
       "      <td>hh</td>\n",
       "    </tr>\n",
       "    <tr>\n",
       "      <th>1644</th>\n",
       "      <td>1644</td>\n",
       "      <td>Tempo (feat. Missy Elliott)</td>\n",
       "      <td>6nBQFAIVFmAx2oZ8p6lUg6</td>\n",
       "      <td>2019-05-10T04:01:32Z</td>\n",
       "      <td>Cuz I Love You</td>\n",
       "      <td>2019-04-19</td>\n",
       "      <td>175342</td>\n",
       "      <td>73</td>\n",
       "      <td>Lizzo</td>\n",
       "      <td>56oDRnqbIiwx4mymNEv7dS</td>\n",
       "      <td>...</td>\n",
       "      <td>0.000011</td>\n",
       "      <td>0.358</td>\n",
       "      <td>0.588</td>\n",
       "      <td>107.019</td>\n",
       "      <td>4.0</td>\n",
       "      <td>Mood_Booster</td>\n",
       "      <td>s</td>\n",
       "      <td>0.0</td>\n",
       "      <td>Atlantic Records</td>\n",
       "      <td>hh</td>\n",
       "    </tr>\n",
       "    <tr>\n",
       "      <th>1700</th>\n",
       "      <td>1700</td>\n",
       "      <td>Truth Hurts</td>\n",
       "      <td>5Qel1sTrU4LM8HlJSPT2jd</td>\n",
       "      <td>2019-05-24T04:20:18Z</td>\n",
       "      <td>Truth Hurts</td>\n",
       "      <td>2017-09-19</td>\n",
       "      <td>173325</td>\n",
       "      <td>74</td>\n",
       "      <td>Lizzo</td>\n",
       "      <td>56oDRnqbIiwx4mymNEv7dS</td>\n",
       "      <td>...</td>\n",
       "      <td>0.000000</td>\n",
       "      <td>0.123</td>\n",
       "      <td>0.412</td>\n",
       "      <td>158.087</td>\n",
       "      <td>4.0</td>\n",
       "      <td>Mood_Booster</td>\n",
       "      <td>s</td>\n",
       "      <td>0.0</td>\n",
       "      <td>Nice Life/Atlantic</td>\n",
       "      <td>hh</td>\n",
       "    </tr>\n",
       "  </tbody>\n",
       "</table>\n",
       "<p>5 rows × 30 columns</p>\n",
       "</div>"
      ],
      "text/plain": [
       "      index                   track_name                track_id  \\\n",
       "1515   1515                  Truth Hurts  5Qel1sTrU4LM8HlJSPT2jd   \n",
       "1560   1560  Tempo (feat. Missy Elliott)  6nBQFAIVFmAx2oZ8p6lUg6   \n",
       "1632   1632                  Truth Hurts  5Qel1sTrU4LM8HlJSPT2jd   \n",
       "1644   1644  Tempo (feat. Missy Elliott)  6nBQFAIVFmAx2oZ8p6lUg6   \n",
       "1700   1700                  Truth Hurts  5Qel1sTrU4LM8HlJSPT2jd   \n",
       "\n",
       "                date_added      album_name release_date  track_duration_ms  \\\n",
       "1515  2019-05-10T04:01:32Z     Truth Hurts   2017-09-19             173325   \n",
       "1560  2019-05-10T04:01:32Z  Cuz I Love You   2019-04-19             175342   \n",
       "1632  2019-05-10T04:01:32Z     Truth Hurts   2017-09-19             173325   \n",
       "1644  2019-05-10T04:01:32Z  Cuz I Love You   2019-04-19             175342   \n",
       "1700  2019-05-24T04:20:18Z     Truth Hurts   2017-09-19             173325   \n",
       "\n",
       "      track_popularity artist               artist_id  ...  instrumentalness  \\\n",
       "1515                79  Lizzo  56oDRnqbIiwx4mymNEv7dS  ...          0.000000   \n",
       "1560                72  Lizzo  56oDRnqbIiwx4mymNEv7dS  ...          0.000011   \n",
       "1632                76  Lizzo  56oDRnqbIiwx4mymNEv7dS  ...          0.000000   \n",
       "1644                73  Lizzo  56oDRnqbIiwx4mymNEv7dS  ...          0.000011   \n",
       "1700                74  Lizzo  56oDRnqbIiwx4mymNEv7dS  ...          0.000000   \n",
       "\n",
       "      liveness valence    tempo  time_signature  playlist_name  playlist_type  \\\n",
       "1515     0.123   0.412  158.087             4.0   Mood_Booster              s   \n",
       "1560     0.358   0.588  107.019             4.0   Mood_Booster              s   \n",
       "1632     0.123   0.412  158.087             4.0   Mood_Booster              s   \n",
       "1644     0.358   0.588  107.019             4.0   Mood_Booster              s   \n",
       "1700     0.123   0.412  158.087             4.0   Mood_Booster              s   \n",
       "\n",
       "      gender               label  genre  \n",
       "1515     0.0  Nice Life/Atlantic     hh  \n",
       "1560     0.0    Atlantic Records     hh  \n",
       "1632     0.0  Nice Life/Atlantic     hh  \n",
       "1644     0.0    Atlantic Records     hh  \n",
       "1700     0.0  Nice Life/Atlantic     hh  \n",
       "\n",
       "[5 rows x 30 columns]"
      ]
     },
     "execution_count": 23,
     "metadata": {},
     "output_type": "execute_result"
    }
   ],
   "source": [
    "all_genres.head(5)"
   ]
  },
  {
   "cell_type": "markdown",
   "metadata": {},
   "source": [
    "### Chi Squared Test for Independence\n",
    "\n",
    "    Ho: Artist Gender and Genre are independent.\n",
    "\n",
    "    Ha: Artist Gender and Genre are dependent."
   ]
  },
  {
   "cell_type": "code",
   "execution_count": 33,
   "metadata": {},
   "outputs": [],
   "source": [
    "table = [[23646,30124,76384,15670,16421,590,3237,9089,1596,9774,5932,13838,35619,9447],\n",
    "        [3007,1436,25642,1422,1965,10,882,3128,212,1409,1704,5556,4276,3091]]"
   ]
  },
  {
   "cell_type": "code",
   "execution_count": 34,
   "metadata": {
    "scrolled": true
   },
   "outputs": [
    {
     "name": "stdout",
     "output_type": "stream",
     "text": [
      "dof = 13\n",
      "probability = 0.950, critical = 22.362, stat = 14447.774\n",
      "significance = 0.050, p = 0.000\n"
     ]
    }
   ],
   "source": [
    "from scipy.stats import chi2_contingency\n",
    "from scipy.stats import chi2\n",
    "\n",
    "stat, p, dof, expected = chi2_contingency(table)\n",
    "print('dof = %d' % dof)\n",
    "\n",
    "prob = 0.95\n",
    "alpha = 1.0 - prob\n",
    "critical = chi2.ppf(prob, dof)\n",
    "print('probability = %.3f, critical = %.3f, stat = %.3f' % (prob, critical, stat))\n",
    "print('significance = %.3f, p = %.3f' % (alpha, p))"
   ]
  },
  {
   "cell_type": "markdown",
   "metadata": {},
   "source": [
    "### Building a data set with unique genre tags"
   ]
  },
  {
   "cell_type": "code",
   "execution_count": 34,
   "metadata": {},
   "outputs": [],
   "source": [
    "unique_artists = pd.read_csv('../spotify_data/all_unique_artist.csv')"
   ]
  },
  {
   "cell_type": "code",
   "execution_count": 39,
   "metadata": {},
   "outputs": [
    {
     "data": {
      "text/html": [
       "<div>\n",
       "<style scoped>\n",
       "    .dataframe tbody tr th:only-of-type {\n",
       "        vertical-align: middle;\n",
       "    }\n",
       "\n",
       "    .dataframe tbody tr th {\n",
       "        vertical-align: top;\n",
       "    }\n",
       "\n",
       "    .dataframe thead th {\n",
       "        text-align: right;\n",
       "    }\n",
       "</style>\n",
       "<table border=\"1\" class=\"dataframe\">\n",
       "  <thead>\n",
       "    <tr style=\"text-align: right;\">\n",
       "      <th></th>\n",
       "      <th>artist</th>\n",
       "      <th>artist_id</th>\n",
       "      <th>gender</th>\n",
       "      <th>record_label</th>\n",
       "      <th>artist_country</th>\n",
       "      <th>current_city</th>\n",
       "      <th>hometown_city</th>\n",
       "      <th>band_members</th>\n",
       "      <th>spotify_tags</th>\n",
       "    </tr>\n",
       "  </thead>\n",
       "  <tbody>\n",
       "    <tr>\n",
       "      <th>0</th>\n",
       "      <td>Michael Jackson</td>\n",
       "      <td>3fMbdgg4jU18AjLCKBhRSm</td>\n",
       "      <td>1.0</td>\n",
       "      <td>Epic/Legacy Recordings</td>\n",
       "      <td>us</td>\n",
       "      <td>NaN</td>\n",
       "      <td>NaN</td>\n",
       "      <td>NaN</td>\n",
       "      <td>pop</td>\n",
       "    </tr>\n",
       "    <tr>\n",
       "      <th>1</th>\n",
       "      <td>Toto</td>\n",
       "      <td>0PFtn5NtBbbUNbU9EAmIWF</td>\n",
       "      <td>1.0</td>\n",
       "      <td>Toto Recordings</td>\n",
       "      <td>us</td>\n",
       "      <td>Los Angeles</td>\n",
       "      <td>Los Angeles</td>\n",
       "      <td>Steve Lukather - Guitar and Vocals \\nDavid Pai...</td>\n",
       "      <td>rock/album rock/mellow gold/soft rock</td>\n",
       "    </tr>\n",
       "    <tr>\n",
       "      <th>2</th>\n",
       "      <td>The Who</td>\n",
       "      <td>67ea9eGLXYMsO2eYQRui3w</td>\n",
       "      <td>1.0</td>\n",
       "      <td>Universal / Polydor</td>\n",
       "      <td>gb</td>\n",
       "      <td>NaN</td>\n",
       "      <td>NaN</td>\n",
       "      <td>The Official Facebook page of The Who.\\nPete T...</td>\n",
       "      <td>rock/singer-songwriter/album rock/classic rock...</td>\n",
       "    </tr>\n",
       "    <tr>\n",
       "      <th>3</th>\n",
       "      <td>Eurythmics</td>\n",
       "      <td>0NKDgy9j66h3DLnN8qu1bB</td>\n",
       "      <td>1.0</td>\n",
       "      <td>Legacy</td>\n",
       "      <td>gb</td>\n",
       "      <td>NaN</td>\n",
       "      <td>NaN</td>\n",
       "      <td>Annie Lennox\\nDave Stewart</td>\n",
       "      <td>rock/synthpop/art rock/mellow gold/soft rock/d...</td>\n",
       "    </tr>\n",
       "    <tr>\n",
       "      <th>4</th>\n",
       "      <td>Journey</td>\n",
       "      <td>0rvjqX7ttXeg3mTy8Xscbt</td>\n",
       "      <td>1.0</td>\n",
       "      <td>Nomota Sony</td>\n",
       "      <td>us</td>\n",
       "      <td>NaN</td>\n",
       "      <td>San Francisco</td>\n",
       "      <td>Neal Schon (lead guitar backing vocals) Ross V...</td>\n",
       "      <td>rock/album rock/classic rock/hard rock/mellow ...</td>\n",
       "    </tr>\n",
       "  </tbody>\n",
       "</table>\n",
       "</div>"
      ],
      "text/plain": [
       "            artist               artist_id  gender            record_label  \\\n",
       "0  Michael Jackson  3fMbdgg4jU18AjLCKBhRSm     1.0  Epic/Legacy Recordings   \n",
       "1             Toto  0PFtn5NtBbbUNbU9EAmIWF     1.0         Toto Recordings   \n",
       "2          The Who  67ea9eGLXYMsO2eYQRui3w     1.0     Universal / Polydor   \n",
       "3       Eurythmics  0NKDgy9j66h3DLnN8qu1bB     1.0                  Legacy   \n",
       "4          Journey  0rvjqX7ttXeg3mTy8Xscbt     1.0             Nomota Sony   \n",
       "\n",
       "  artist_country current_city  hometown_city  \\\n",
       "0             us          NaN            NaN   \n",
       "1             us  Los Angeles    Los Angeles   \n",
       "2             gb          NaN            NaN   \n",
       "3             gb          NaN            NaN   \n",
       "4             us          NaN  San Francisco   \n",
       "\n",
       "                                        band_members  \\\n",
       "0                                                NaN   \n",
       "1  Steve Lukather - Guitar and Vocals \\nDavid Pai...   \n",
       "2  The Official Facebook page of The Who.\\nPete T...   \n",
       "3                         Annie Lennox\\nDave Stewart   \n",
       "4  Neal Schon (lead guitar backing vocals) Ross V...   \n",
       "\n",
       "                                        spotify_tags  \n",
       "0                                                pop  \n",
       "1              rock/album rock/mellow gold/soft rock  \n",
       "2  rock/singer-songwriter/album rock/classic rock...  \n",
       "3  rock/synthpop/art rock/mellow gold/soft rock/d...  \n",
       "4  rock/album rock/classic rock/hard rock/mellow ...  "
      ]
     },
     "execution_count": 39,
     "metadata": {},
     "output_type": "execute_result"
    }
   ],
   "source": [
    "unique_artists.head(5)"
   ]
  },
  {
   "cell_type": "code",
   "execution_count": 40,
   "metadata": {},
   "outputs": [],
   "source": [
    "artist_ids = unique_artists['artist_id']"
   ]
  },
  {
   "cell_type": "code",
   "execution_count": 41,
   "metadata": {},
   "outputs": [],
   "source": [
    "all_tracks = pd.read_csv('../spotify_data/all_tracks.csv')"
   ]
  },
  {
   "cell_type": "code",
   "execution_count": 42,
   "metadata": {},
   "outputs": [],
   "source": [
    "all_tags = []\n",
    "for artist_id in artist_ids:\n",
    "    tags=[]\n",
    "    artist = all_tracks[all_tracks['artist_id'] == artist_id]\n",
    "    for i in range(0,len(artist)):\n",
    "        try:\n",
    "            art_tags = artist[['artist_genres']].iloc[i,0].split(',')\n",
    "        except:\n",
    "            continue\n",
    "        \n",
    "        for tag in art_tags:\n",
    "            if tag not in tags:\n",
    "                tags.append(tag)\n",
    "    \n",
    "\n",
    "    if len(tags) == 0:\n",
    "        all_tags.append(np.nan)\n",
    "    else:\n",
    "        all_tags.append(tags)\n",
    "    "
   ]
  },
  {
   "cell_type": "code",
   "execution_count": 43,
   "metadata": {},
   "outputs": [],
   "source": [
    "unique_artists['unique_tags'] = all_tags"
   ]
  },
  {
   "cell_type": "code",
   "execution_count": 44,
   "metadata": {},
   "outputs": [],
   "source": [
    "unique_artists.to_csv('../spotify_data/all_unique_artist_with_tags.csv')"
   ]
  },
  {
   "cell_type": "markdown",
   "metadata": {},
   "source": [
    "### Average number of unique tags by artist"
   ]
  },
  {
   "cell_type": "code",
   "execution_count": 83,
   "metadata": {},
   "outputs": [],
   "source": [
    "men = unique_artists[unique_artists['gender']==1]\n",
    "women = unique_artists[unique_artists['gender']==0]"
   ]
  },
  {
   "cell_type": "code",
   "execution_count": 46,
   "metadata": {},
   "outputs": [
    {
     "name": "stdout",
     "output_type": "stream",
     "text": [
      "average number of unique tags for men: 4.813675724096745\n"
     ]
    }
   ],
   "source": [
    "total = 0\n",
    "count = 0\n",
    "for i in range(0,len(men)):\n",
    "    try:\n",
    "        total += len(men.iloc[i,9])\n",
    "    except:\n",
    "        continue\n",
    "    # nan's not counted in average\n",
    "    count += 1\n",
    "        \n",
    "print(\"average number of unique tags for men:\", total/count)    "
   ]
  },
  {
   "cell_type": "code",
   "execution_count": 47,
   "metadata": {},
   "outputs": [
    {
     "name": "stdout",
     "output_type": "stream",
     "text": [
      "average number of unique tags for women: 3.885899814471243\n"
     ]
    }
   ],
   "source": [
    "total = 0\n",
    "count = 0\n",
    "for i in range(0,len(women)):\n",
    "    try:\n",
    "        total += len(women.iloc[i,9])\n",
    "    except:\n",
    "        continue\n",
    "    # nan's not counter in average\n",
    "    count += 1\n",
    "        \n",
    "print(\"average number of unique tags for women:\", total/count)    "
   ]
  },
  {
   "cell_type": "markdown",
   "metadata": {},
   "source": [
    "### Number of genres artist is bucketed to "
   ]
  },
  {
   "cell_type": "code",
   "execution_count": 58,
   "metadata": {},
   "outputs": [
    {
     "name": "stdout",
     "output_type": "stream",
     "text": [
      "average number of genres for men: 1.7909166435890336\n"
     ]
    }
   ],
   "source": [
    "total = 0\n",
    "count = 0\n",
    "for artist in men['artist_id'].unique():\n",
    "    artist_tracks = all_buc_genres[all_buc_genres['artist_id']==artist]\n",
    "    try:\n",
    "        total += len(artist_tracks['genre'].unique())\n",
    "    except:\n",
    "        continue\n",
    "    count += 1\n",
    "    \n",
    "print(\"average number of genres for men:\", total/count)"
   ]
  },
  {
   "cell_type": "code",
   "execution_count": 59,
   "metadata": {},
   "outputs": [
    {
     "name": "stdout",
     "output_type": "stream",
     "text": [
      "average number of genres for women: 1.1522292993630574\n"
     ]
    }
   ],
   "source": [
    "total = 0\n",
    "count = 0\n",
    "for artist in women['artist_id'].unique():\n",
    "    artist_tracks = all_buc_genres[all_buc_genres['artist_id']==artist]\n",
    "    try:\n",
    "        total += len(artist_tracks['genre'].unique())\n",
    "    except:\n",
    "        continue\n",
    "    count += 1\n",
    "    \n",
    "print(\"average number of genres for women:\", total/count)"
   ]
  },
  {
   "cell_type": "markdown",
   "metadata": {},
   "source": [
    "### Number of genre tags by track"
   ]
  },
  {
   "cell_type": "code",
   "execution_count": 61,
   "metadata": {},
   "outputs": [],
   "source": [
    "unique_tracks = all_tracks.drop_duplicates(subset='track_id')"
   ]
  },
  {
   "cell_type": "code",
   "execution_count": 62,
   "metadata": {},
   "outputs": [],
   "source": [
    "tags = unique_tracks[['track_id','artist_id', 'artist_genres','gender','playlist_type']]"
   ]
  },
  {
   "cell_type": "code",
   "execution_count": 63,
   "metadata": {},
   "outputs": [],
   "source": [
    "tags['tag_count'] = tags.artist_genres.str.count(',')\n",
    "tags['tag_count'] = tags['tag_count'] + 1 #since 3 genres = 2 commas"
   ]
  },
  {
   "cell_type": "code",
   "execution_count": 91,
   "metadata": {},
   "outputs": [],
   "source": [
    "tags = tags.dropna(subset=['tag_count'])"
   ]
  },
  {
   "cell_type": "code",
   "execution_count": 92,
   "metadata": {},
   "outputs": [],
   "source": [
    "men = tags[tags['gender']==1]\n",
    "women = tags[tags['gender']==0]"
   ]
  },
  {
   "cell_type": "code",
   "execution_count": 93,
   "metadata": {},
   "outputs": [
    {
     "name": "stdout",
     "output_type": "stream",
     "text": [
      "mean number of tags for track by a man artist:  4.664264849074976\n"
     ]
    }
   ],
   "source": [
    "print('mean number of tags for track by a man artist: ', men['tag_count'].sum()/len(men))"
   ]
  },
  {
   "cell_type": "code",
   "execution_count": 94,
   "metadata": {},
   "outputs": [
    {
     "name": "stdout",
     "output_type": "stream",
     "text": [
      "mean number of tags for track by a woman artist:  3.9370811615785555\n"
     ]
    }
   ],
   "source": [
    "print('mean number of tags for track by a woman artist: ', women['tag_count'].sum()/len(women))"
   ]
  },
  {
   "cell_type": "markdown",
   "metadata": {},
   "source": [
    "### Number of genre buckets by track"
   ]
  },
  {
   "cell_type": "code",
   "execution_count": 78,
   "metadata": {},
   "outputs": [
    {
     "name": "stdout",
     "output_type": "stream",
     "text": [
      "Average number of genres a track by a man artist is bucketed to: 2.0410085632730732\n"
     ]
    }
   ],
   "source": [
    "unique_tracks_men = unique_tracks[unique_tracks['gender']==1]\n",
    "total = 0\n",
    "count = 0\n",
    "for track in unique_tracks_men['track_id']:\n",
    "    tracks = all_buc_genres[all_buc_genres['track_id']==track]\n",
    "    try:\n",
    "        total += len(tracks['genre'].unique())\n",
    "       \n",
    "    except:\n",
    "        continue\n",
    "    count += 1\n",
    "\n",
    "print('Average number of genres a track by a man artist is bucketed to:', total/count)"
   ]
  },
  {
   "cell_type": "code",
   "execution_count": 79,
   "metadata": {},
   "outputs": [
    {
     "name": "stdout",
     "output_type": "stream",
     "text": [
      "Average number of genres a track by a woman artist is bucketed to: 1.4818775995246583\n"
     ]
    }
   ],
   "source": [
    "unique_tracks_women = unique_tracks[unique_tracks['gender']==0]\n",
    "total = 0\n",
    "count = 0\n",
    "for track in unique_tracks_women['track_id']:\n",
    "    tracks = all_buc_genres[all_buc_genres['track_id']==track]\n",
    "    try:\n",
    "        total += len(tracks['genre'].unique())\n",
    "       \n",
    "    except:\n",
    "        continue\n",
    "    count += 1\n",
    "\n",
    "print('Average number of genres a track by a woman artist is bucketed to:', total/count)"
   ]
  },
  {
   "cell_type": "code",
   "execution_count": null,
   "metadata": {},
   "outputs": [],
   "source": []
  }
 ],
 "metadata": {
  "kernelspec": {
   "display_name": "Python 3",
   "language": "python",
   "name": "python3"
  },
  "language_info": {
   "codemirror_mode": {
    "name": "ipython",
    "version": 3
   },
   "file_extension": ".py",
   "mimetype": "text/x-python",
   "name": "python",
   "nbconvert_exporter": "python",
   "pygments_lexer": "ipython3",
   "version": "3.7.6"
  }
 },
 "nbformat": 4,
 "nbformat_minor": 2
}
