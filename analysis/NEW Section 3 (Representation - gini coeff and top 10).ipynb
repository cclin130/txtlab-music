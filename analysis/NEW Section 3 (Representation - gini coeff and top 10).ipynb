{
 "cells": [
  {
   "cell_type": "markdown",
   "metadata": {},
   "source": [
    "# Notebook summary"
   ]
  },
  {
   "cell_type": "markdown",
   "metadata": {},
   "source": [
    "This jupyter notebook looks at general representation stats of tracks and artists in our 16 weeks of Spotify data and 6 years of Billboard Hot 100 data (Jan 2003 to Dec 2008). For each dataset, we calculate:\n",
    "- the Gini coefficient\n",
    "- concentration of the top 10%"
   ]
  },
  {
   "cell_type": "code",
   "execution_count": 67,
   "metadata": {},
   "outputs": [],
   "source": [
    "from collections import deque\n",
    "import pandas as pd\n",
    "import numpy as np\n",
    "import os, re\n",
    "from datetime import date, timedelta\n",
    "import matplotlib.pyplot as plt\n",
    "\n",
    "from analysis_utils import get_num_appearances, get_all_entries, gini,\\\n",
    "    track_concentration_ratio"
   ]
  },
  {
   "cell_type": "markdown",
   "metadata": {},
   "source": [
    "## Spotify data"
   ]
  },
  {
   "cell_type": "markdown",
   "metadata": {},
   "source": [
    "### Calculating Gini coefficient\n",
    "Tracks"
   ]
  },
  {
   "cell_type": "code",
   "execution_count": 17,
   "metadata": {},
   "outputs": [],
   "source": [
    "df_all_spotify_track = get_all_entries('spotify_curated', ['track_name', 'track_id'])"
   ]
  },
  {
   "cell_type": "code",
   "execution_count": 3,
   "metadata": {},
   "outputs": [],
   "source": [
    "temp = df_all_spotify_track.groupby(['track_id']).count().reset_index()\n",
    "temp.columns = ['track_id', 'count']\n",
    "appearances_count = temp[temp['count'] != 0]"
   ]
  },
  {
   "cell_type": "code",
   "execution_count": 4,
   "metadata": {},
   "outputs": [
    {
     "name": "stdout",
     "output_type": "stream",
     "text": [
      "Gini coefficient for tracks in spotify curated is 0.487900\n"
     ]
    }
   ],
   "source": [
    "appearances_temp = np.asarray(appearances_count['count'])\n",
    "print('Gini coefficient for tracks in spotify curated is %f' % \n",
    "      gini(appearances_temp))"
   ]
  },
  {
   "cell_type": "code",
   "execution_count": 18,
   "metadata": {},
   "outputs": [],
   "source": [
    "df_all_user_track = get_all_entries('user_curated', ['track_name', 'track_id'])"
   ]
  },
  {
   "cell_type": "code",
   "execution_count": 6,
   "metadata": {
    "scrolled": true
   },
   "outputs": [],
   "source": [
    "temp = df_all_user_track.groupby(['track_id']).count().reset_index()\n",
    "temp.columns = ['track_id', 'count']\n",
    "appearances_count = temp[temp['count'] != 0]"
   ]
  },
  {
   "cell_type": "code",
   "execution_count": 7,
   "metadata": {},
   "outputs": [
    {
     "name": "stdout",
     "output_type": "stream",
     "text": [
      "Gini coefficient for tracks in user curated is 0.480086\n"
     ]
    }
   ],
   "source": [
    "appearances_temp = np.asarray(appearances_count['count'])\n",
    "print('Gini coefficient for tracks in user curated is %f' % \n",
    "      gini(appearances_temp))"
   ]
  },
  {
   "cell_type": "markdown",
   "metadata": {},
   "source": [
    "Artists"
   ]
  },
  {
   "cell_type": "code",
   "execution_count": 19,
   "metadata": {},
   "outputs": [],
   "source": [
    "df_all_spotify_artist = get_all_entries('spotify_curated', ['artist', 'artist_id'])"
   ]
  },
  {
   "cell_type": "code",
   "execution_count": 9,
   "metadata": {
    "scrolled": true
   },
   "outputs": [],
   "source": [
    "temp = df_all_spotify_artist.groupby(['artist_id']).count().reset_index()\n",
    "temp.columns = ['artist_id', 'count']\n",
    "appearances_count = temp[temp['count'] != 0]"
   ]
  },
  {
   "cell_type": "code",
   "execution_count": 10,
   "metadata": {},
   "outputs": [
    {
     "name": "stdout",
     "output_type": "stream",
     "text": [
      "Gini coefficient for artists in spotify curated is 0.611535\n"
     ]
    }
   ],
   "source": [
    "appearances_temp = np.asarray(appearances_count['count'])\n",
    "print('Gini coefficient for artists in spotify curated is %f' % \n",
    "      gini(appearances_temp))"
   ]
  },
  {
   "cell_type": "code",
   "execution_count": 20,
   "metadata": {},
   "outputs": [],
   "source": [
    "df_all_user_artist = get_all_entries('user_curated', ['artist', 'artist_id'])"
   ]
  },
  {
   "cell_type": "code",
   "execution_count": 12,
   "metadata": {
    "scrolled": true
   },
   "outputs": [],
   "source": [
    "temp = df_all_user_artist.groupby(['artist_id']).count().reset_index()\n",
    "temp.columns = ['artist_id', 'count']\n",
    "appearances_count = temp[temp['count'] != 0]"
   ]
  },
  {
   "cell_type": "code",
   "execution_count": 13,
   "metadata": {},
   "outputs": [
    {
     "name": "stdout",
     "output_type": "stream",
     "text": [
      "Gini coefficient for artists in user curated is 0.641565\n"
     ]
    }
   ],
   "source": [
    "appearances_temp = np.asarray(appearances_count['count'])\n",
    "print('Gini coefficient for artists in user curated is %f' % \n",
    "      gini(appearances_temp))"
   ]
  },
  {
   "cell_type": "markdown",
   "metadata": {},
   "source": [
    "### Concentration of top 10%"
   ]
  },
  {
   "cell_type": "markdown",
   "metadata": {},
   "source": [
    "Tracks"
   ]
  },
  {
   "cell_type": "code",
   "execution_count": 26,
   "metadata": {},
   "outputs": [],
   "source": [
    "df_all = pd.concat([df_all_spotify_track, df_all_user_track])\n",
    "df_all_sorted = df_all.groupby(['track_id']).count()\\\n",
    "                .reset_index()\\\n",
    "                .sort_values(by='track_name', ascending=False)"
   ]
  },
  {
   "cell_type": "code",
   "execution_count": 50,
   "metadata": {},
   "outputs": [
    {
     "name": "stdout",
     "output_type": "stream",
     "text": [
      "The concentration of the top 10 percent of tracks is 0.359554 of entries\n"
     ]
    }
   ],
   "source": [
    "# get top 10%, then calculate the concentration of top 10%\n",
    "top_10_num = int(len(df_all_sorted)/10)\n",
    "df_top_10 = df_all_sorted.iloc[:top_10_num, :]\n",
    "\n",
    "top_10_entries = df_top_10.merge(df_all, on=['track_id'], how='left')\n",
    "top_10_conc = len(top_10_entries) / len(df_all)\n",
    "print('The concentration of the top 10 percent of tracks is %f of entries' % \n",
    "      top_10_conc)"
   ]
  },
  {
   "cell_type": "code",
   "execution_count": 53,
   "metadata": {},
   "outputs": [
    {
     "name": "stdout",
     "output_type": "stream",
     "text": [
      "The concentration of the top 10 percent of SCL tracks is 0.301137 of the SCL entries\n",
      "The concentration of the top 10 percent of UCL tracks is 0.334740 of UCL entries\n"
     ]
    }
   ],
   "source": [
    "# repeat calculations with more granularity (i.e. on a per playlist type)\n",
    "# spotify curated\n",
    "df_all_spotify_track_sorted = df_all_spotify_track.groupby(['track_id']).count()\\\n",
    "                            .reset_index()\\\n",
    "                            .sort_values(by='track_name', ascending=False)\n",
    "top_10_num_spotify_track = int(len(df_all_spotify_track_sorted)/10)\n",
    "df_top_10_spotify_track = df_all_spotify_track_sorted.iloc[:top_10_num_spotify_track, :]\n",
    "\n",
    "top_10_entries_spotify_track = df_top_10_spotify_track.merge(df_all_spotify_track, on=['track_id'], how='left')\n",
    "top_10_conc_spotify_track = len(top_10_entries_spotify_track) / len(df_all_spotify_track)\n",
    "\n",
    "# user curated\n",
    "df_all_user_track_sorted = df_all_user_track.groupby(['track_id']).count()\\\n",
    "                            .reset_index()\\\n",
    "                            .sort_values(by='track_name', ascending=False)\n",
    "top_10_num_user_track = int(len(df_all_user_track_sorted)/10)\n",
    "df_top_10_user_track = df_all_user_track_sorted.iloc[:top_10_num_user_track, :]\n",
    "\n",
    "top_10_entries_user_track = df_top_10_user_track.merge(df_all_user_track, on=['track_id'], how='left')\n",
    "top_10_conc_user_track = len(top_10_entries_user_track) / len(df_all_user_track)\n",
    "\n",
    "print('The concentration of the top 10 percent of SCL tracks is %f of the SCL entries' % \n",
    "      top_10_conc_spotify_track)\n",
    "print('The concentration of the top 10 percent of UCL tracks is %f of UCL entries' % \n",
    "      top_10_conc_user_track)"
   ]
  },
  {
   "cell_type": "markdown",
   "metadata": {},
   "source": [
    "Artists"
   ]
  },
  {
   "cell_type": "code",
   "execution_count": 56,
   "metadata": {},
   "outputs": [],
   "source": [
    "df_all = pd.concat([df_all_spotify_artist, df_all_user_artist])\n",
    "df_all_sorted = df_all.groupby(['artist_id']).count()\\\n",
    "                .reset_index()\\\n",
    "                .sort_values(by='artist', ascending=False)"
   ]
  },
  {
   "cell_type": "code",
   "execution_count": 57,
   "metadata": {},
   "outputs": [
    {
     "name": "stdout",
     "output_type": "stream",
     "text": [
      "The concentration of the top 10 percent of artists is 0.546666 of entries\n"
     ]
    }
   ],
   "source": [
    "# get top 10%, then calculate the concentration of top 10%\n",
    "top_10_num = int(len(df_all_sorted)/10)\n",
    "df_top_10 = df_all_sorted.iloc[:top_10_num, :]\n",
    "\n",
    "top_10_entries = df_top_10.merge(df_all, on=['artist_id'], how='left')\n",
    "top_10_conc = len(top_10_entries) / len(df_all)\n",
    "print('The concentration of the top 10 percent of artists is %f of entries' % \n",
    "      top_10_conc)"
   ]
  },
  {
   "cell_type": "code",
   "execution_count": 58,
   "metadata": {},
   "outputs": [
    {
     "name": "stdout",
     "output_type": "stream",
     "text": [
      "The concentration of the top 10 percent of SCL artists is 0.475332 of the SCL entries\n",
      "The concentration of the top 10 percent of UCL artists is 0.521585 of UCL entries\n"
     ]
    }
   ],
   "source": [
    "# repeat calculations with more granularity (i.e. on a per playlist type)\n",
    "# spotify curated\n",
    "df_all_spotify_artist_sorted = df_all_spotify_artist.groupby(['artist_id']).count()\\\n",
    "                            .reset_index()\\\n",
    "                            .sort_values(by='artist', ascending=False)\n",
    "top_10_num_spotify_artist = int(len(df_all_spotify_artist_sorted)/10)\n",
    "df_top_10_spotify_artist = df_all_spotify_artist_sorted.iloc[:top_10_num_spotify_artist, :]\n",
    "\n",
    "top_10_entries_spotify_artist = df_top_10_spotify_artist.merge(df_all_spotify_artist, on=['artist_id'], how='left')\n",
    "top_10_conc_spotify_artist = len(top_10_entries_spotify_artist) / len(df_all_spotify_artist)\n",
    "\n",
    "# user curated\n",
    "df_all_user_artist_sorted = df_all_user_artist.groupby(['artist_id']).count()\\\n",
    "                            .reset_index()\\\n",
    "                            .sort_values(by='artist', ascending=False)\n",
    "top_10_num_user_artist = int(len(df_all_user_artist_sorted)/10)\n",
    "df_top_10_user_artist = df_all_user_artist_sorted.iloc[:top_10_num_user_artist, :]\n",
    "\n",
    "top_10_entries_user_artist = df_top_10_user_artist.merge(df_all_user_artist, on=['artist_id'], how='left')\n",
    "top_10_conc_user_artist = len(top_10_entries_user_artist) / len(df_all_user_artist)\n",
    "\n",
    "print('The concentration of the top 10 percent of SCL artists is %f of the SCL entries' % \n",
    "      top_10_conc_spotify_artist)\n",
    "print('The concentration of the top 10 percent of UCL artists is %f of the UCL entries' % \n",
    "      top_10_conc_user_artist)"
   ]
  },
  {
   "cell_type": "markdown",
   "metadata": {},
   "source": [
    "### Billboard data"
   ]
  },
  {
   "cell_type": "markdown",
   "metadata": {},
   "source": [
    "Start by getting all the entries in our 5 years of data."
   ]
  },
  {
   "cell_type": "code",
   "execution_count": 60,
   "metadata": {},
   "outputs": [
    {
     "name": "stdout",
     "output_type": "stream",
     "text": [
      "Our 5 years of Billboard data has a total of 31300 entries\n",
      "Our 5 years of Billboard data has a total of 1158 unique artists\n",
      "Our 5 years of Billboard data has a total of 2101 unique tracks\n"
     ]
    }
   ],
   "source": [
    "all_entries = []\n",
    "\n",
    "for file in os.listdir('../billboard_data'):\n",
    "    if file == 'sc': continue\n",
    "    file_path = '../billboard_data/' + file\n",
    "    df_temp = pd.read_csv(file_path)\n",
    "    all_entries.append(df_temp)\n",
    "    \n",
    "df_all = pd.concat(all_entries)\n",
    "df_all = df_all.iloc[:, 1:]\n",
    "\n",
    "print('Our 5 years of Billboard data has a total of %d entries'%(len(df_all)))\n",
    "print('Our 5 years of Billboard data has a total of %d unique artists'%(len(df_all.drop_duplicates('artist'))))\n",
    "print('Our 5 years of Billboard data has a total of %d unique tracks'%(len(df_all.drop_duplicates('track'))))"
   ]
  },
  {
   "cell_type": "markdown",
   "metadata": {},
   "source": [
    "Loop through Billboard data and calculate gini coefficient for each 16-week window."
   ]
  },
  {
   "cell_type": "code",
   "execution_count": 97,
   "metadata": {},
   "outputs": [],
   "source": [
    "def get_gini_for_billboard_range(df, column):\n",
    "    temp = df.groupby([column]).count()\\\n",
    "            .reset_index()\\\n",
    "            .iloc[:, 0:2]\n",
    "    temp.columns = [column, 'count']\n",
    "    appearances_count = temp[temp['count'] != 0]\n",
    "    appearances_temp = np.asarray(appearances_count['count'])\n",
    "    return gini(appearances_temp)"
   ]
  },
  {
   "cell_type": "code",
   "execution_count": 107,
   "metadata": {
    "scrolled": true
   },
   "outputs": [],
   "source": [
    "df_queue = deque()\n",
    "track_ginis = []\n",
    "artist_ginis = []\n",
    "\n",
    "current_week = date(2003, 1, 4)\n",
    "data_dir = '../billboard_data/'\n",
    "\n",
    "while current_week <= date(2008, 12, 17):\n",
    "    full_path = data_dir + str(current_week) + '.csv'\n",
    "    df_queue.append(pd.read_csv(full_path))\n",
    "    \n",
    "    # check if window is big enough\n",
    "    if len(df_queue) == 16:\n",
    "        df_temp = pd.concat(df_queue)\n",
    "        track_ginis.append(get_gini_for_billboard_range(df_temp, 'track'))\n",
    "        artist_ginis.append(get_gini_for_billboard_range(df_temp, 'artist'))\n",
    "        \n",
    "        df_queue.popleft()\n",
    "    \n",
    "    current_week = current_week + timedelta(days=7)"
   ]
  },
  {
   "cell_type": "code",
   "execution_count": 110,
   "metadata": {},
   "outputs": [
    {
     "data": {
      "text/plain": [
       "Text(0, 0.5, 'gini coeff')"
      ]
     },
     "execution_count": 110,
     "metadata": {},
     "output_type": "execute_result"
    },
    {
     "data": {
      "image/png": "[encoded data removed]",
      "text/plain": [
       "<Figure size 432x288 with 1 Axes>"
      ]
     },
     "metadata": {
      "needs_background": "light"
     },
     "output_type": "display_data"
    }
   ],
   "source": [
    "plt.title('16-week Billboard Track Gini Coeff vs. Week')\n",
    "plt.plot(track_ginis)\n",
    "plt.xlabel('week #')\n",
    "plt.ylabel('gini coeff')"
   ]
  },
  {
   "cell_type": "code",
   "execution_count": 111,
   "metadata": {},
   "outputs": [
    {
     "data": {
      "text/plain": [
       "Text(0, 0.5, 'gini coeff')"
      ]
     },
     "execution_count": 111,
     "metadata": {},
     "output_type": "execute_result"
    },
    {
     "data": {
      "image/png": "[encoded data removed]",
      "text/plain": [
       "<Figure size 432x288 with 1 Axes>"
      ]
     },
     "metadata": {
      "needs_background": "light"
     },
     "output_type": "display_data"
    }
   ],
   "source": [
    "plt.title('16-week Billboard Artist Gini Coeff vs. Week')\n",
    "plt.plot(artist_ginis)\n",
    "plt.xlabel('week #')\n",
    "plt.ylabel('gini coeff')"
   ]
  },
  {
   "cell_type": "markdown",
   "metadata": {},
   "source": [
    "### Concentration of top 10%"
   ]
  },
  {
   "cell_type": "markdown",
   "metadata": {},
   "source": [
    "#### Tracks"
   ]
  },
  {
   "cell_type": "code",
   "execution_count": 23,
   "metadata": {},
   "outputs": [],
   "source": [
    "df_all_sorted = df_all.groupby(['track']).count()\\\n",
    "                .reset_index()\\\n",
    "                .sort_values(by='artist', ascending=False)"
   ]
  },
  {
   "cell_type": "code",
   "execution_count": 26,
   "metadata": {},
   "outputs": [
    {
     "name": "stdout",
     "output_type": "stream",
     "text": [
      "The concentration of the top 10 percent of tracks is 0.238850\n"
     ]
    }
   ],
   "source": [
    "# get top 10%, then calculate the concentration of top 10%\n",
    "top_10_num = int(len(df_all_sorted)/10)\n",
    "top_10_df_all = df_all_sorted.iloc[:top_10_num, :]\n",
    "\n",
    "top_10_conc = top_10_df_all['artist'].sum() / df_all_sorted['artist'].sum()\n",
    "print('The concentration of the top 10 percent of tracks is %f' % \n",
    "      top_10_conc)"
   ]
  },
  {
   "cell_type": "markdown",
   "metadata": {},
   "source": [
    "#### Artists"
   ]
  },
  {
   "cell_type": "code",
   "execution_count": 27,
   "metadata": {},
   "outputs": [],
   "source": [
    "df_all_sorted = df_all.groupby(['artist']).count()\\\n",
    "                .reset_index()\\\n",
    "                .sort_values(by='track', ascending=False)"
   ]
  },
  {
   "cell_type": "code",
   "execution_count": 28,
   "metadata": {},
   "outputs": [
    {
     "name": "stdout",
     "output_type": "stream",
     "text": [
      "The concentration of the top 10 percent of artists is 0.432971\n"
     ]
    }
   ],
   "source": [
    "# get top 10%, then calculate the concentration of top 10%\n",
    "top_10_num = int(len(df_all_sorted)/10)\n",
    "top_10_df_all = df_all_sorted.iloc[:top_10_num, :]\n",
    "\n",
    "top_10_conc = top_10_df_all['track'].sum() / df_all_sorted['track'].sum()\n",
    "print('The concentration of the top 10 percent of artists is %f' % \n",
    "      top_10_conc)"
   ]
  },
  {
   "cell_type": "code",
   "execution_count": null,
   "metadata": {},
   "outputs": [],
   "source": []
  },
  {
   "cell_type": "code",
   "execution_count": null,
   "metadata": {},
   "outputs": [],
   "source": []
  },
  {
   "cell_type": "code",
   "execution_count": null,
   "metadata": {},
   "outputs": [],
   "source": []
  },
  {
   "cell_type": "code",
   "execution_count": null,
   "metadata": {},
   "outputs": [],
   "source": []
  }
 ],
 "metadata": {
  "kernelspec": {
   "display_name": "Python 3",
   "language": "python",
   "name": "python3"
  },
  "language_info": {
   "codemirror_mode": {
    "name": "ipython",
    "version": 3
   },
   "file_extension": ".py",
   "mimetype": "text/x-python",
   "name": "python",
   "nbconvert_exporter": "python",
   "pygments_lexer": "ipython3",
   "version": "3.6.10"
  }
 },
 "nbformat": 4,
 "nbformat_minor": 4
}
