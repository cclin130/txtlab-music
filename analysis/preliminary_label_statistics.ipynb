{
 "cells": [
  {
   "cell_type": "code",
   "execution_count": 4,
   "metadata": {},
   "outputs": [],
   "source": [
    "import pandas as pd\n",
    "import numpy as np\n",
    "import os, re\n",
    "from datetime import date, timedelta"
   ]
  },
  {
   "cell_type": "code",
   "execution_count": 5,
   "metadata": {},
   "outputs": [],
   "source": [
    "unique_tracks = pd.read_csv('../spotify_data/all_unique_track.csv')"
   ]
  },
  {
   "cell_type": "code",
   "execution_count": 6,
   "metadata": {},
   "outputs": [
    {
     "data": {
      "text/html": [
       "<div>\n",
       "<style scoped>\n",
       "    .dataframe tbody tr th:only-of-type {\n",
       "        vertical-align: middle;\n",
       "    }\n",
       "\n",
       "    .dataframe tbody tr th {\n",
       "        vertical-align: top;\n",
       "    }\n",
       "\n",
       "    .dataframe thead th {\n",
       "        text-align: right;\n",
       "    }\n",
       "</style>\n",
       "<table border=\"1\" class=\"dataframe\">\n",
       "  <thead>\n",
       "    <tr style=\"text-align: right;\">\n",
       "      <th></th>\n",
       "      <th>track_name</th>\n",
       "      <th>track_id</th>\n",
       "      <th>album_label</th>\n",
       "    </tr>\n",
       "  </thead>\n",
       "  <tbody>\n",
       "    <tr>\n",
       "      <th>0</th>\n",
       "      <td>Billie Jean</td>\n",
       "      <td>5ChkMS8OtdzJeqyybCc9R5</td>\n",
       "      <td>Epic</td>\n",
       "    </tr>\n",
       "    <tr>\n",
       "      <th>1</th>\n",
       "      <td>Africa</td>\n",
       "      <td>2374M0fQpWi3dLnB54qaLX</td>\n",
       "      <td>UMC (Universal Music Catalogue)</td>\n",
       "    </tr>\n",
       "    <tr>\n",
       "      <th>2</th>\n",
       "      <td>Baba O'Riley - ConfidentialMX Remix</td>\n",
       "      <td>1DDEqSKrXxKkMNA1AfcJZa</td>\n",
       "      <td>Geffen</td>\n",
       "    </tr>\n",
       "    <tr>\n",
       "      <th>3</th>\n",
       "      <td>Sweet Dreams (Are Made of This) - Remastered</td>\n",
       "      <td>1TfqLAPs4K3s2rJMoCokcS</td>\n",
       "      <td>J Records</td>\n",
       "    </tr>\n",
       "    <tr>\n",
       "      <th>4</th>\n",
       "      <td>Don't Stop Believin'</td>\n",
       "      <td>77NNZQSqzLNqh2A9JhLRkg</td>\n",
       "      <td>Sony Music Entertainment</td>\n",
       "    </tr>\n",
       "  </tbody>\n",
       "</table>\n",
       "</div>"
      ],
      "text/plain": [
       "                                     track_name                track_id  \\\n",
       "0                                   Billie Jean  5ChkMS8OtdzJeqyybCc9R5   \n",
       "1                                        Africa  2374M0fQpWi3dLnB54qaLX   \n",
       "2           Baba O'Riley - ConfidentialMX Remix  1DDEqSKrXxKkMNA1AfcJZa   \n",
       "3  Sweet Dreams (Are Made of This) - Remastered  1TfqLAPs4K3s2rJMoCokcS   \n",
       "4                          Don't Stop Believin'  77NNZQSqzLNqh2A9JhLRkg   \n",
       "\n",
       "                       album_label  \n",
       "0                             Epic  \n",
       "1  UMC (Universal Music Catalogue)  \n",
       "2                           Geffen  \n",
       "3                        J Records  \n",
       "4         Sony Music Entertainment  "
      ]
     },
     "execution_count": 6,
     "metadata": {},
     "output_type": "execute_result"
    }
   ],
   "source": [
    "unique_tracks.head()"
   ]
  },
  {
   "cell_type": "code",
   "execution_count": 10,
   "metadata": {},
   "outputs": [
    {
     "name": "stdout",
     "output_type": "stream",
     "text": [
      "2.2314297124600637 % labels missing\n"
     ]
    }
   ],
   "source": [
    "label_list = unique_tracks[['album_label']]\n",
    "print((len(label_list[label_list['album_label'].isna()])/len(label_list)) * 100, '% labels missing')"
   ]
  },
  {
   "cell_type": "markdown",
   "metadata": {},
   "source": [
    "## Record Label Statistics\n",
    "#### Quick Summary:\n",
    "- Surprising amount of unique record labels... perhaps suspiciously so\n",
    "- Around 3/5 of unique songs have a unique record label\n",
    "- Only 23 labels with more than 100 unique songs\n",
    "- Spotify Curated lists have more one-track label apperances than top-10 label track appearances\n",
    "- User Curated lists have more top-10 label track appearances than one-track label appearances\n",
    "\n",
    "The label tags probably require a closer look and a cleaning"
   ]
  },
  {
   "cell_type": "code",
   "execution_count": 13,
   "metadata": {},
   "outputs": [
    {
     "data": {
      "text/html": [
       "<div>\n",
       "<style scoped>\n",
       "    .dataframe tbody tr th:only-of-type {\n",
       "        vertical-align: middle;\n",
       "    }\n",
       "\n",
       "    .dataframe tbody tr th {\n",
       "        vertical-align: top;\n",
       "    }\n",
       "\n",
       "    .dataframe thead th {\n",
       "        text-align: right;\n",
       "    }\n",
       "</style>\n",
       "<table border=\"1\" class=\"dataframe\">\n",
       "  <thead>\n",
       "    <tr style=\"text-align: right;\">\n",
       "      <th></th>\n",
       "      <th>label</th>\n",
       "      <th>count</th>\n",
       "    </tr>\n",
       "  </thead>\n",
       "  <tbody>\n",
       "    <tr>\n",
       "      <th>990</th>\n",
       "      <td>Futuristic Lingo</td>\n",
       "      <td>1</td>\n",
       "    </tr>\n",
       "    <tr>\n",
       "      <th>2770</th>\n",
       "      <td>Piano Novel</td>\n",
       "      <td>1</td>\n",
       "    </tr>\n",
       "    <tr>\n",
       "      <th>989</th>\n",
       "      <td>HACKED</td>\n",
       "      <td>1</td>\n",
       "    </tr>\n",
       "    <tr>\n",
       "      <th>988</th>\n",
       "      <td>908811 Records DK2</td>\n",
       "      <td>1</td>\n",
       "    </tr>\n",
       "    <tr>\n",
       "      <th>4923</th>\n",
       "      <td>Brushfire Records/Universal</td>\n",
       "      <td>1</td>\n",
       "    </tr>\n",
       "  </tbody>\n",
       "</table>\n",
       "</div>"
      ],
      "text/plain": [
       "                            label  count\n",
       "990              Futuristic Lingo      1\n",
       "2770                  Piano Novel      1\n",
       "989                        HACKED      1\n",
       "988            908811 Records DK2      1\n",
       "4923  Brushfire Records/Universal      1"
      ]
     },
     "execution_count": 13,
     "metadata": {},
     "output_type": "execute_result"
    }
   ],
   "source": [
    "labels_sorted.tail()"
   ]
  },
  {
   "cell_type": "code",
   "execution_count": 19,
   "metadata": {},
   "outputs": [],
   "source": [
    "label_dict = {}\n",
    "\n",
    "for i in range(0,len(label_list)):\n",
    "    labels = label_list.iloc[i,0]\n",
    "    if labels is np.nan: continue\n",
    "    labels = labels.split('/')\n",
    "    for label in labels:\n",
    "        label_dict[label] = label_dict.get(label, 0) + 1\n",
    "\n",
    "labels = pd.DataFrame.from_dict(label_dict, orient = 'index').reset_index()\n",
    "labels.columns = ['label', 'count']"
   ]
  },
  {
   "cell_type": "code",
   "execution_count": 20,
   "metadata": {},
   "outputs": [
    {
     "data": {
      "text/html": [
       "<div>\n",
       "<style scoped>\n",
       "    .dataframe tbody tr th:only-of-type {\n",
       "        vertical-align: middle;\n",
       "    }\n",
       "\n",
       "    .dataframe tbody tr th {\n",
       "        vertical-align: top;\n",
       "    }\n",
       "\n",
       "    .dataframe thead th {\n",
       "        text-align: right;\n",
       "    }\n",
       "</style>\n",
       "<table border=\"1\" class=\"dataframe\">\n",
       "  <thead>\n",
       "    <tr style=\"text-align: right;\">\n",
       "      <th></th>\n",
       "      <th>label</th>\n",
       "      <th>count</th>\n",
       "    </tr>\n",
       "  </thead>\n",
       "  <tbody>\n",
       "    <tr>\n",
       "      <th>6</th>\n",
       "      <td>Columbia</td>\n",
       "      <td>759</td>\n",
       "    </tr>\n",
       "    <tr>\n",
       "      <th>4</th>\n",
       "      <td>Sony Music Entertainment</td>\n",
       "      <td>526</td>\n",
       "    </tr>\n",
       "    <tr>\n",
       "      <th>1938</th>\n",
       "      <td>Chillhop Records</td>\n",
       "      <td>320</td>\n",
       "    </tr>\n",
       "    <tr>\n",
       "      <th>338</th>\n",
       "      <td>Armada Music Bundles</td>\n",
       "      <td>268</td>\n",
       "    </tr>\n",
       "    <tr>\n",
       "      <th>50</th>\n",
       "      <td>RCA Records Label</td>\n",
       "      <td>251</td>\n",
       "    </tr>\n",
       "  </tbody>\n",
       "</table>\n",
       "</div>"
      ],
      "text/plain": [
       "                         label  count\n",
       "6                     Columbia    759\n",
       "4     Sony Music Entertainment    526\n",
       "1938          Chillhop Records    320\n",
       "338       Armada Music Bundles    268\n",
       "50           RCA Records Label    251"
      ]
     },
     "execution_count": 20,
     "metadata": {},
     "output_type": "execute_result"
    }
   ],
   "source": [
    "labels_sorted = labels.sort_values(by=['count'], ascending=False)\n",
    "labels_sorted.head(5)"
   ]
  },
  {
   "cell_type": "code",
   "execution_count": 21,
   "metadata": {},
   "outputs": [
    {
     "data": {
      "text/html": [
       "<div>\n",
       "<style scoped>\n",
       "    .dataframe tbody tr th:only-of-type {\n",
       "        vertical-align: middle;\n",
       "    }\n",
       "\n",
       "    .dataframe tbody tr th {\n",
       "        vertical-align: top;\n",
       "    }\n",
       "\n",
       "    .dataframe thead th {\n",
       "        text-align: right;\n",
       "    }\n",
       "</style>\n",
       "<table border=\"1\" class=\"dataframe\">\n",
       "  <thead>\n",
       "    <tr style=\"text-align: right;\">\n",
       "      <th></th>\n",
       "      <th>count</th>\n",
       "    </tr>\n",
       "  </thead>\n",
       "  <tbody>\n",
       "    <tr>\n",
       "      <th>count</th>\n",
       "      <td>5021.000000</td>\n",
       "    </tr>\n",
       "    <tr>\n",
       "      <th>mean</th>\n",
       "      <td>4.282215</td>\n",
       "    </tr>\n",
       "    <tr>\n",
       "      <th>std</th>\n",
       "      <td>19.101371</td>\n",
       "    </tr>\n",
       "    <tr>\n",
       "      <th>min</th>\n",
       "      <td>1.000000</td>\n",
       "    </tr>\n",
       "    <tr>\n",
       "      <th>25%</th>\n",
       "      <td>1.000000</td>\n",
       "    </tr>\n",
       "    <tr>\n",
       "      <th>50%</th>\n",
       "      <td>1.000000</td>\n",
       "    </tr>\n",
       "    <tr>\n",
       "      <th>75%</th>\n",
       "      <td>2.000000</td>\n",
       "    </tr>\n",
       "    <tr>\n",
       "      <th>max</th>\n",
       "      <td>759.000000</td>\n",
       "    </tr>\n",
       "  </tbody>\n",
       "</table>\n",
       "</div>"
      ],
      "text/plain": [
       "             count\n",
       "count  5021.000000\n",
       "mean      4.282215\n",
       "std      19.101371\n",
       "min       1.000000\n",
       "25%       1.000000\n",
       "50%       1.000000\n",
       "75%       2.000000\n",
       "max     759.000000"
      ]
     },
     "execution_count": 21,
     "metadata": {},
     "output_type": "execute_result"
    }
   ],
   "source": [
    "labels_sorted.describe()"
   ]
  },
  {
   "cell_type": "code",
   "execution_count": 22,
   "metadata": {},
   "outputs": [
    {
     "name": "stdout",
     "output_type": "stream",
     "text": [
      "Amount of unique record labels: 5021 (20032 unique songs)\n",
      "\n",
      "Most popular labels: \n",
      "\tColumbia: 759 tracks\n",
      "\tSony Music Entertainment: 526 tracks\n",
      "\tChillhop Records: 320 tracks\n",
      "\tArmada Music Bundles: 268 tracks\n",
      "\tRCA Records Label: 251 tracks\n",
      "\tEpic: 234 tracks\n",
      "\tRCA Records: 219 tracks\n",
      "\tLowly: 208 tracks\n",
      "\tAtlantic Records: 200 tracks\n",
      "\tNow! Music: 171 tracks\n"
     ]
    }
   ],
   "source": [
    "print('Amount of unique record labels: %s (%s unique songs)\\n' % (len(labels_sorted), len(unique_tracks)))\n",
    "print('Most popular labels: ')\n",
    "for i in range(0,10):\n",
    "    print('\\t%s: %s tracks'  % (labels_sorted.iloc[i,0], labels_sorted.iloc[i,1]))"
   ]
  },
  {
   "cell_type": "code",
   "execution_count": 23,
   "metadata": {},
   "outputs": [
    {
     "name": "stdout",
     "output_type": "stream",
     "text": [
      "Amount of labels with one track: 3151\n",
      "\n",
      "Amount of labels with less than 5 tracks: 4343\n",
      "Amount of labels with less than 10 tracks: 4697\n",
      "Amount of labels with less than 25 tracks: 4894\n",
      "\n",
      "Amount of labels with more than 50 tracks: 61\n",
      "Amount of labels with more than 100 tracks: 25\n"
     ]
    }
   ],
   "source": [
    "print('Amount of labels with one track: %s' % len(labels_sorted[labels_sorted['count'] == 1]))\n",
    "print('\\nAmount of labels with less than 5 tracks: %s' % len(labels_sorted[labels_sorted['count'] < 5]))\n",
    "print('Amount of labels with less than 10 tracks: %s' % len(labels_sorted[labels_sorted['count'] < 10]))\n",
    "print('Amount of labels with less than 25 tracks: %s' % len(labels_sorted[labels_sorted['count'] < 25]))\n",
    "print('\\nAmount of labels with more than 50 tracks: %s' % len(labels_sorted[labels_sorted['count'] > 50]))\n",
    "print('Amount of labels with more than 100 tracks: %s' % len(labels_sorted[labels_sorted['count'] > 100]))"
   ]
  },
  {
   "cell_type": "code",
   "execution_count": 24,
   "metadata": {},
   "outputs": [],
   "source": [
    "# function to count amount playlist appearances of a label or group of labels' songs \n",
    "def get_amount_of_appearances(tracks):\n",
    "    #tracks = unique_tracks[unique_tracks['album_label'] == label]\n",
    "    rootdir = '../spotify_data/playlist_tracks/spotify_curated/'\n",
    "    spotify_count = 0\n",
    "    user_count = 0\n",
    "    spotify_tracks = 0\n",
    "    user_tracks = 0\n",
    "    total_lists = 0\n",
    "    for subdir, dirs, files in os.walk(rootdir):\n",
    "            # Regex to avoid stepping into additions_and_removals dirs when walking through\n",
    "            test_string = '.*\\/additions_and_removals'\n",
    "            test = re.fullmatch(test_string, format(subdir))\n",
    "\n",
    "            if test: continue\n",
    "            if subdir == rootdir: continue\n",
    "\n",
    "            file_date = date(2019, 5, 12)\n",
    "\n",
    "            playlist_name = os.path.basename(str(subdir))\n",
    "\n",
    "            for x in range(len(files)-1):\n",
    "                playlist = pd.read_csv(subdir + '/' + str(file_date) + '.csv')\n",
    "                spotify_count += len(pd.merge(tracks[['track_id']], playlist[['track_id']], how='inner'))\n",
    "                spotify_tracks += len(playlist)\n",
    "                if file_date == date(2019, 8, 25):\n",
    "                    break\n",
    "                else:\n",
    "                    file_date = file_date + timedelta(days=7)\n",
    "                    \n",
    "    rootdir = '../spotify_data/playlist_tracks/user_curated/'               \n",
    "    for subdir, dirs, files in os.walk(rootdir):\n",
    "            # Regex to avoid stepping into additions_and_removals dirs when walking through\n",
    "            test_string = '.*\\/additions_and_removals'\n",
    "            test = re.fullmatch(test_string, format(subdir))\n",
    "\n",
    "            if test: continue\n",
    "            if subdir == rootdir: continue\n",
    "\n",
    "            file_date = date(2019, 5, 12)\n",
    "\n",
    "            playlist_name = os.path.basename(str(subdir))\n",
    "\n",
    "            for x in range(len(files)-1):\n",
    "                playlist = pd.read_csv(subdir + '/' + str(file_date) + '.csv')\n",
    "                user_count += len(pd.merge(tracks[['track_id']], playlist[['track_id']], how='inner'))\n",
    "                user_tracks += len(playlist)\n",
    "                \n",
    "                if file_date == date(2019, 8, 25):\n",
    "                    break\n",
    "                else:\n",
    "                    file_date = file_date + timedelta(days=7)\n",
    "    \n",
    "    print('\\tSpotify Curated Appearances: %s of %s total tracks' % (spotify_count, spotify_tracks))\n",
    "    print('\\tUser Curated Appearances: %s of %s total tracks' % (user_count, user_tracks))"
   ]
  },
  {
   "cell_type": "code",
   "execution_count": 132,
   "metadata": {},
   "outputs": [],
   "source": [
    "# one tracks as all the tracks with a one-song label\n",
    "one_track_label = labels_sorted[labels_sorted['count'] == 1]\n",
    "unique_tracks.columns = ['track_name','track_id','label']\n",
    "one_tracks = pd.merge(one_track_label[['label']], unique_tracks[['track_id','label']], how='inner')"
   ]
  },
  {
   "cell_type": "code",
   "execution_count": 154,
   "metadata": {},
   "outputs": [
    {
     "data": {
      "text/plain": [
       "2804"
      ]
     },
     "execution_count": 154,
     "metadata": {},
     "output_type": "execute_result"
    }
   ],
   "source": [
    "# top 10 labels list of tracks\n",
    "top_10_labels = labels_sorted.iloc[0:10]\n",
    "top_10_tracks = pd.merge(top_10_labels[['label']], unique_tracks[['track_id','label']], how='inner')\n",
    "len(top_10_tracks)"
   ]
  },
  {
   "cell_type": "markdown",
   "metadata": {},
   "source": [
    "There seem to be collaborations between record labels, where the labels are written as label/label/label"
   ]
  },
  {
   "cell_type": "code",
   "execution_count": 191,
   "metadata": {},
   "outputs": [
    {
     "name": "stdout",
     "output_type": "stream",
     "text": [
      "Ex:  Brushfire Records/Universal\n",
      "110\n"
     ]
    }
   ],
   "source": [
    "count = 0\n",
    "for i in range(0,len(labels_sorted)):\n",
    "    test_string = '[\\w\\s]+(\\/\\w+)+'\n",
    "    label = labels_sorted.iloc[i,0]\n",
    "    test = re.fullmatch(test_string, str(label))\n",
    "    if test:\n",
    "        count += 1\n",
    "print('Ex: ', label)\n",
    "print(count)"
   ]
  },
  {
   "cell_type": "markdown",
   "metadata": {},
   "source": [
    "110 of them. I'll figure out a way to deal with this. I don't think they should be unique labels.\n",
    "Cheng: dealt with them on Nov 3, 2019"
   ]
  },
  {
   "cell_type": "markdown",
   "metadata": {},
   "source": [
    "### Looking at 'one-track' label track presence vs. top-10 label track presence on spotify and user curated lists"
   ]
  },
  {
   "cell_type": "code",
   "execution_count": 162,
   "metadata": {},
   "outputs": [
    {
     "name": "stdout",
     "output_type": "stream",
     "text": [
      "One-Track Label Appearances: \n",
      "\tSpotify Curated Appearances: 14601 of 96553 total tracks\n",
      "\tUser Curated Appearances: 8270 of 102099 total tracks\n",
      "\n",
      "Top 10 Label Appearances: \n",
      "\tSpotify Curated Appearances: 9798 of 96553 total tracks\n",
      "\tUser Curated Appearances: 20839 of 102099 total tracks\n"
     ]
    }
   ],
   "source": [
    "print('One-Track Label Appearances: ')\n",
    "get_amount_of_appearances(one_tracks)\n",
    "print('\\nTop 10 Label Appearances: ')\n",
    "get_amount_of_appearances(top_10_tracks)"
   ]
  },
  {
   "cell_type": "code",
   "execution_count": null,
   "metadata": {},
   "outputs": [],
   "source": []
  }
 ],
 "metadata": {
  "kernelspec": {
   "display_name": "Python 3",
   "language": "python",
   "name": "python3"
  },
  "language_info": {
   "codemirror_mode": {
    "name": "ipython",
    "version": 3
   },
   "file_extension": ".py",
   "mimetype": "text/x-python",
   "name": "python",
   "nbconvert_exporter": "python",
   "pygments_lexer": "ipython3",
   "version": "3.6.7"
  }
 },
 "nbformat": 4,
 "nbformat_minor": 2
}
